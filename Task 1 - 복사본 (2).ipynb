{
 "cells": [
  {
   "cell_type": "code",
   "execution_count": null,
   "id": "fdbfc7e1",
   "metadata": {},
   "outputs": [],
   "source": [
    "!pip install pandas\n",
    "!pip install numpy\n",
    "!pip install scipy\n",
    "!pip install matplotlib\n",
    "!pip install seaborn\n",
    "!pip install statsmodels\n",
    "!pip install prophet\n",
    "!pip install scikit-learn\n",
    "!pip install plotly\n",
    "!pip install pmdarima"
   ]
  },
  {
   "cell_type": "code",
   "execution_count": 2,
   "id": "a0b159a8",
   "metadata": {},
   "outputs": [],
   "source": [
    "import warnings\n",
    "warnings.filterwarnings('ignore')\n",
    "from IPython.display import clear_output\n",
    "\n",
    "import pandas as pd\n",
    "import numpy as np\n",
    "from itertools import product\n",
    "import datetime\n",
    "from scipy import interpolate\n",
    "import matplotlib.pyplot as plt\n",
    "plt.style.use('fivethirtyeight')\n",
    "%matplotlib inline\n",
    "from pylab import rcParams\n",
    "import seaborn as sns\n",
    "import statsmodels.api as sm\n",
    "from prophet import Prophet\n",
    "from statsmodels.graphics.tsaplots import plot_acf, plot_pacf\n",
    "from statsmodels.tsa.stattools import adfuller\n",
    "from statsmodels.tsa.arima_process import ArmaProcess\n",
    "from statsmodels.tsa.arima.model import ARIMA\n",
    "from statsmodels.graphics.tsaplots import plot_predict\n",
    "import math\n",
    "from tqdm import tqdm\n",
    "from sklearn.metrics import mean_squared_error\n",
    "from sklearn.metrics import mean_absolute_error\n",
    "#import pmdarima as pm\n",
    "\n",
    "plt.rc(\"font\", family=\"Malgun Gothic\")\n",
    "plt.rcParams['axes.unicode_minus'] = False"
   ]
  },
  {
   "cell_type": "markdown",
   "id": "a543e568",
   "metadata": {},
   "source": [
    "### 데이터 불러오기"
   ]
  },
  {
   "cell_type": "code",
   "execution_count": 3,
   "id": "b494ea4a",
   "metadata": {},
   "outputs": [
    {
     "data": {
      "text/html": [
       "<div>\n",
       "<style scoped>\n",
       "    .dataframe tbody tr th:only-of-type {\n",
       "        vertical-align: middle;\n",
       "    }\n",
       "\n",
       "    .dataframe tbody tr th {\n",
       "        vertical-align: top;\n",
       "    }\n",
       "\n",
       "    .dataframe thead th {\n",
       "        text-align: right;\n",
       "    }\n",
       "</style>\n",
       "<table border=\"1\" class=\"dataframe\">\n",
       "  <thead>\n",
       "    <tr style=\"text-align: right;\">\n",
       "      <th></th>\n",
       "      <th>datetime</th>\n",
       "      <th>구미 혁신도시배수지 유출유량 적산차</th>\n",
       "    </tr>\n",
       "  </thead>\n",
       "  <tbody>\n",
       "    <tr>\n",
       "      <th>0</th>\n",
       "      <td>2017-01-01 01:00:00</td>\n",
       "      <td>138.0</td>\n",
       "    </tr>\n",
       "    <tr>\n",
       "      <th>1</th>\n",
       "      <td>2017-01-01 02:00:00</td>\n",
       "      <td>237.0</td>\n",
       "    </tr>\n",
       "    <tr>\n",
       "      <th>2</th>\n",
       "      <td>2017-01-01 03:00:00</td>\n",
       "      <td>128.0</td>\n",
       "    </tr>\n",
       "    <tr>\n",
       "      <th>3</th>\n",
       "      <td>2017-01-01 04:00:00</td>\n",
       "      <td>14.0</td>\n",
       "    </tr>\n",
       "    <tr>\n",
       "      <th>4</th>\n",
       "      <td>2017-01-01 05:00:00</td>\n",
       "      <td>11.0</td>\n",
       "    </tr>\n",
       "    <tr>\n",
       "      <th>...</th>\n",
       "      <td>...</td>\n",
       "      <td>...</td>\n",
       "    </tr>\n",
       "    <tr>\n",
       "      <th>35058</th>\n",
       "      <td>2020-12-31 19:00:00</td>\n",
       "      <td>328.0</td>\n",
       "    </tr>\n",
       "    <tr>\n",
       "      <th>35059</th>\n",
       "      <td>2020-12-31 20:00:00</td>\n",
       "      <td>347.0</td>\n",
       "    </tr>\n",
       "    <tr>\n",
       "      <th>35060</th>\n",
       "      <td>2020-12-31 21:00:00</td>\n",
       "      <td>335.0</td>\n",
       "    </tr>\n",
       "    <tr>\n",
       "      <th>35061</th>\n",
       "      <td>2020-12-31 22:00:00</td>\n",
       "      <td>141.0</td>\n",
       "    </tr>\n",
       "    <tr>\n",
       "      <th>35062</th>\n",
       "      <td>2020-12-31 23:00:00</td>\n",
       "      <td>112.0</td>\n",
       "    </tr>\n",
       "  </tbody>\n",
       "</table>\n",
       "<p>35063 rows × 2 columns</p>\n",
       "</div>"
      ],
      "text/plain": [
       "                  datetime  구미 혁신도시배수지 유출유량 적산차\n",
       "0      2017-01-01 01:00:00                138.0\n",
       "1      2017-01-01 02:00:00                237.0\n",
       "2      2017-01-01 03:00:00                128.0\n",
       "3      2017-01-01 04:00:00                 14.0\n",
       "4      2017-01-01 05:00:00                 11.0\n",
       "...                    ...                  ...\n",
       "35058  2020-12-31 19:00:00                328.0\n",
       "35059  2020-12-31 20:00:00                347.0\n",
       "35060  2020-12-31 21:00:00                335.0\n",
       "35061  2020-12-31 22:00:00                141.0\n",
       "35062  2020-12-31 23:00:00                112.0\n",
       "\n",
       "[35063 rows x 2 columns]"
      ]
     },
     "execution_count": 3,
     "metadata": {},
     "output_type": "execute_result"
    }
   ],
   "source": [
    "# 학습 데이터\n",
    "data_tr = pd.read_csv('./t1_data_city/data_tr_city.csv')\n",
    "data_tr"
   ]
  },
  {
   "cell_type": "code",
   "execution_count": 4,
   "id": "bb412a7e",
   "metadata": {},
   "outputs": [
    {
     "data": {
      "text/html": [
       "<div>\n",
       "<style scoped>\n",
       "    .dataframe tbody tr th:only-of-type {\n",
       "        vertical-align: middle;\n",
       "    }\n",
       "\n",
       "    .dataframe tbody tr th {\n",
       "        vertical-align: top;\n",
       "    }\n",
       "\n",
       "    .dataframe thead th {\n",
       "        text-align: right;\n",
       "    }\n",
       "</style>\n",
       "<table border=\"1\" class=\"dataframe\">\n",
       "  <thead>\n",
       "    <tr style=\"text-align: right;\">\n",
       "      <th></th>\n",
       "      <th>datetime</th>\n",
       "      <th>구미 혁신도시배수지 유출유량 적산차</th>\n",
       "    </tr>\n",
       "  </thead>\n",
       "  <tbody>\n",
       "    <tr>\n",
       "      <th>0</th>\n",
       "      <td>2021-01-01 00:00:00</td>\n",
       "      <td>106.0</td>\n",
       "    </tr>\n",
       "    <tr>\n",
       "      <th>1</th>\n",
       "      <td>2021-01-01 01:00:00</td>\n",
       "      <td>184.0</td>\n",
       "    </tr>\n",
       "    <tr>\n",
       "      <th>2</th>\n",
       "      <td>2021-01-01 02:00:00</td>\n",
       "      <td>277.0</td>\n",
       "    </tr>\n",
       "    <tr>\n",
       "      <th>3</th>\n",
       "      <td>2021-01-01 03:00:00</td>\n",
       "      <td>197.0</td>\n",
       "    </tr>\n",
       "    <tr>\n",
       "      <th>4</th>\n",
       "      <td>2021-01-01 04:00:00</td>\n",
       "      <td>72.0</td>\n",
       "    </tr>\n",
       "    <tr>\n",
       "      <th>...</th>\n",
       "      <td>...</td>\n",
       "      <td>...</td>\n",
       "    </tr>\n",
       "    <tr>\n",
       "      <th>8419</th>\n",
       "      <td>2021-12-17 19:00:00</td>\n",
       "      <td>327.0</td>\n",
       "    </tr>\n",
       "    <tr>\n",
       "      <th>8420</th>\n",
       "      <td>2021-12-17 20:00:00</td>\n",
       "      <td>513.0</td>\n",
       "    </tr>\n",
       "    <tr>\n",
       "      <th>8421</th>\n",
       "      <td>2021-12-17 21:00:00</td>\n",
       "      <td>396.0</td>\n",
       "    </tr>\n",
       "    <tr>\n",
       "      <th>8422</th>\n",
       "      <td>2021-12-17 22:00:00</td>\n",
       "      <td>350.0</td>\n",
       "    </tr>\n",
       "    <tr>\n",
       "      <th>8423</th>\n",
       "      <td>2021-12-17 23:00:00</td>\n",
       "      <td>197.0</td>\n",
       "    </tr>\n",
       "  </tbody>\n",
       "</table>\n",
       "<p>8424 rows × 2 columns</p>\n",
       "</div>"
      ],
      "text/plain": [
       "                 datetime  구미 혁신도시배수지 유출유량 적산차\n",
       "0     2021-01-01 00:00:00                106.0\n",
       "1     2021-01-01 01:00:00                184.0\n",
       "2     2021-01-01 02:00:00                277.0\n",
       "3     2021-01-01 03:00:00                197.0\n",
       "4     2021-01-01 04:00:00                 72.0\n",
       "...                   ...                  ...\n",
       "8419  2021-12-17 19:00:00                327.0\n",
       "8420  2021-12-17 20:00:00                513.0\n",
       "8421  2021-12-17 21:00:00                396.0\n",
       "8422  2021-12-17 22:00:00                350.0\n",
       "8423  2021-12-17 23:00:00                197.0\n",
       "\n",
       "[8424 rows x 2 columns]"
      ]
     },
     "execution_count": 4,
     "metadata": {},
     "output_type": "execute_result"
    }
   ],
   "source": [
    "# 평가 데이터\n",
    "data_ts = pd.read_csv('./t1_data_city/data_ts_city.csv')\n",
    "data_ts"
   ]
  },
  {
   "cell_type": "code",
   "execution_count": 5,
   "id": "026b70fe",
   "metadata": {},
   "outputs": [
    {
     "data": {
      "text/html": [
       "<div>\n",
       "<style scoped>\n",
       "    .dataframe tbody tr th:only-of-type {\n",
       "        vertical-align: middle;\n",
       "    }\n",
       "\n",
       "    .dataframe tbody tr th {\n",
       "        vertical-align: top;\n",
       "    }\n",
       "\n",
       "    .dataframe thead th {\n",
       "        text-align: right;\n",
       "    }\n",
       "</style>\n",
       "<table border=\"1\" class=\"dataframe\">\n",
       "  <thead>\n",
       "    <tr style=\"text-align: right;\">\n",
       "      <th></th>\n",
       "      <th>datetime</th>\n",
       "      <th>h0</th>\n",
       "      <th>h1</th>\n",
       "      <th>h2</th>\n",
       "      <th>h3</th>\n",
       "      <th>h4</th>\n",
       "      <th>h5</th>\n",
       "      <th>h6</th>\n",
       "      <th>h7</th>\n",
       "      <th>h8</th>\n",
       "      <th>...</th>\n",
       "      <th>h326</th>\n",
       "      <th>h327</th>\n",
       "      <th>h328</th>\n",
       "      <th>h329</th>\n",
       "      <th>h330</th>\n",
       "      <th>h331</th>\n",
       "      <th>h332</th>\n",
       "      <th>h333</th>\n",
       "      <th>h334</th>\n",
       "      <th>h335</th>\n",
       "    </tr>\n",
       "  </thead>\n",
       "  <tbody>\n",
       "    <tr>\n",
       "      <th>0</th>\n",
       "      <td>2021-01-01 00:00:00</td>\n",
       "      <td>0</td>\n",
       "      <td>0</td>\n",
       "      <td>0</td>\n",
       "      <td>0</td>\n",
       "      <td>0</td>\n",
       "      <td>0</td>\n",
       "      <td>0</td>\n",
       "      <td>0</td>\n",
       "      <td>0</td>\n",
       "      <td>...</td>\n",
       "      <td>0</td>\n",
       "      <td>0</td>\n",
       "      <td>0</td>\n",
       "      <td>0</td>\n",
       "      <td>0</td>\n",
       "      <td>0</td>\n",
       "      <td>0</td>\n",
       "      <td>0</td>\n",
       "      <td>0</td>\n",
       "      <td>0</td>\n",
       "    </tr>\n",
       "    <tr>\n",
       "      <th>1</th>\n",
       "      <td>2021-01-01 01:00:00</td>\n",
       "      <td>0</td>\n",
       "      <td>0</td>\n",
       "      <td>0</td>\n",
       "      <td>0</td>\n",
       "      <td>0</td>\n",
       "      <td>0</td>\n",
       "      <td>0</td>\n",
       "      <td>0</td>\n",
       "      <td>0</td>\n",
       "      <td>...</td>\n",
       "      <td>0</td>\n",
       "      <td>0</td>\n",
       "      <td>0</td>\n",
       "      <td>0</td>\n",
       "      <td>0</td>\n",
       "      <td>0</td>\n",
       "      <td>0</td>\n",
       "      <td>0</td>\n",
       "      <td>0</td>\n",
       "      <td>0</td>\n",
       "    </tr>\n",
       "    <tr>\n",
       "      <th>2</th>\n",
       "      <td>2021-01-01 02:00:00</td>\n",
       "      <td>0</td>\n",
       "      <td>0</td>\n",
       "      <td>0</td>\n",
       "      <td>0</td>\n",
       "      <td>0</td>\n",
       "      <td>0</td>\n",
       "      <td>0</td>\n",
       "      <td>0</td>\n",
       "      <td>0</td>\n",
       "      <td>...</td>\n",
       "      <td>0</td>\n",
       "      <td>0</td>\n",
       "      <td>0</td>\n",
       "      <td>0</td>\n",
       "      <td>0</td>\n",
       "      <td>0</td>\n",
       "      <td>0</td>\n",
       "      <td>0</td>\n",
       "      <td>0</td>\n",
       "      <td>0</td>\n",
       "    </tr>\n",
       "    <tr>\n",
       "      <th>3</th>\n",
       "      <td>2021-01-01 03:00:00</td>\n",
       "      <td>0</td>\n",
       "      <td>0</td>\n",
       "      <td>0</td>\n",
       "      <td>0</td>\n",
       "      <td>0</td>\n",
       "      <td>0</td>\n",
       "      <td>0</td>\n",
       "      <td>0</td>\n",
       "      <td>0</td>\n",
       "      <td>...</td>\n",
       "      <td>0</td>\n",
       "      <td>0</td>\n",
       "      <td>0</td>\n",
       "      <td>0</td>\n",
       "      <td>0</td>\n",
       "      <td>0</td>\n",
       "      <td>0</td>\n",
       "      <td>0</td>\n",
       "      <td>0</td>\n",
       "      <td>0</td>\n",
       "    </tr>\n",
       "    <tr>\n",
       "      <th>4</th>\n",
       "      <td>2021-01-01 04:00:00</td>\n",
       "      <td>0</td>\n",
       "      <td>0</td>\n",
       "      <td>0</td>\n",
       "      <td>0</td>\n",
       "      <td>0</td>\n",
       "      <td>0</td>\n",
       "      <td>0</td>\n",
       "      <td>0</td>\n",
       "      <td>0</td>\n",
       "      <td>...</td>\n",
       "      <td>0</td>\n",
       "      <td>0</td>\n",
       "      <td>0</td>\n",
       "      <td>0</td>\n",
       "      <td>0</td>\n",
       "      <td>0</td>\n",
       "      <td>0</td>\n",
       "      <td>0</td>\n",
       "      <td>0</td>\n",
       "      <td>0</td>\n",
       "    </tr>\n",
       "    <tr>\n",
       "      <th>...</th>\n",
       "      <td>...</td>\n",
       "      <td>...</td>\n",
       "      <td>...</td>\n",
       "      <td>...</td>\n",
       "      <td>...</td>\n",
       "      <td>...</td>\n",
       "      <td>...</td>\n",
       "      <td>...</td>\n",
       "      <td>...</td>\n",
       "      <td>...</td>\n",
       "      <td>...</td>\n",
       "      <td>...</td>\n",
       "      <td>...</td>\n",
       "      <td>...</td>\n",
       "      <td>...</td>\n",
       "      <td>...</td>\n",
       "      <td>...</td>\n",
       "      <td>...</td>\n",
       "      <td>...</td>\n",
       "      <td>...</td>\n",
       "      <td>...</td>\n",
       "    </tr>\n",
       "    <tr>\n",
       "      <th>8420</th>\n",
       "      <td>2021-12-17 20:00:00</td>\n",
       "      <td>0</td>\n",
       "      <td>0</td>\n",
       "      <td>0</td>\n",
       "      <td>0</td>\n",
       "      <td>0</td>\n",
       "      <td>0</td>\n",
       "      <td>0</td>\n",
       "      <td>0</td>\n",
       "      <td>0</td>\n",
       "      <td>...</td>\n",
       "      <td>0</td>\n",
       "      <td>0</td>\n",
       "      <td>0</td>\n",
       "      <td>0</td>\n",
       "      <td>0</td>\n",
       "      <td>0</td>\n",
       "      <td>0</td>\n",
       "      <td>0</td>\n",
       "      <td>0</td>\n",
       "      <td>0</td>\n",
       "    </tr>\n",
       "    <tr>\n",
       "      <th>8421</th>\n",
       "      <td>2021-12-17 21:00:00</td>\n",
       "      <td>0</td>\n",
       "      <td>0</td>\n",
       "      <td>0</td>\n",
       "      <td>0</td>\n",
       "      <td>0</td>\n",
       "      <td>0</td>\n",
       "      <td>0</td>\n",
       "      <td>0</td>\n",
       "      <td>0</td>\n",
       "      <td>...</td>\n",
       "      <td>0</td>\n",
       "      <td>0</td>\n",
       "      <td>0</td>\n",
       "      <td>0</td>\n",
       "      <td>0</td>\n",
       "      <td>0</td>\n",
       "      <td>0</td>\n",
       "      <td>0</td>\n",
       "      <td>0</td>\n",
       "      <td>0</td>\n",
       "    </tr>\n",
       "    <tr>\n",
       "      <th>8422</th>\n",
       "      <td>2021-12-17 22:00:00</td>\n",
       "      <td>0</td>\n",
       "      <td>0</td>\n",
       "      <td>0</td>\n",
       "      <td>0</td>\n",
       "      <td>0</td>\n",
       "      <td>0</td>\n",
       "      <td>0</td>\n",
       "      <td>0</td>\n",
       "      <td>0</td>\n",
       "      <td>...</td>\n",
       "      <td>0</td>\n",
       "      <td>0</td>\n",
       "      <td>0</td>\n",
       "      <td>0</td>\n",
       "      <td>0</td>\n",
       "      <td>0</td>\n",
       "      <td>0</td>\n",
       "      <td>0</td>\n",
       "      <td>0</td>\n",
       "      <td>0</td>\n",
       "    </tr>\n",
       "    <tr>\n",
       "      <th>8423</th>\n",
       "      <td>2021-12-17 23:00:00</td>\n",
       "      <td>0</td>\n",
       "      <td>0</td>\n",
       "      <td>0</td>\n",
       "      <td>0</td>\n",
       "      <td>0</td>\n",
       "      <td>0</td>\n",
       "      <td>0</td>\n",
       "      <td>0</td>\n",
       "      <td>0</td>\n",
       "      <td>...</td>\n",
       "      <td>0</td>\n",
       "      <td>0</td>\n",
       "      <td>0</td>\n",
       "      <td>0</td>\n",
       "      <td>0</td>\n",
       "      <td>0</td>\n",
       "      <td>0</td>\n",
       "      <td>0</td>\n",
       "      <td>0</td>\n",
       "      <td>0</td>\n",
       "    </tr>\n",
       "    <tr>\n",
       "      <th>8424</th>\n",
       "      <td>2021-12-18 00:00:00</td>\n",
       "      <td>0</td>\n",
       "      <td>0</td>\n",
       "      <td>0</td>\n",
       "      <td>0</td>\n",
       "      <td>0</td>\n",
       "      <td>0</td>\n",
       "      <td>0</td>\n",
       "      <td>0</td>\n",
       "      <td>0</td>\n",
       "      <td>...</td>\n",
       "      <td>0</td>\n",
       "      <td>0</td>\n",
       "      <td>0</td>\n",
       "      <td>0</td>\n",
       "      <td>0</td>\n",
       "      <td>0</td>\n",
       "      <td>0</td>\n",
       "      <td>0</td>\n",
       "      <td>0</td>\n",
       "      <td>0</td>\n",
       "    </tr>\n",
       "  </tbody>\n",
       "</table>\n",
       "<p>8425 rows × 337 columns</p>\n",
       "</div>"
      ],
      "text/plain": [
       "                 datetime  h0  h1  h2  h3  h4  h5  h6  h7  h8  ...  h326  \\\n",
       "0     2021-01-01 00:00:00   0   0   0   0   0   0   0   0   0  ...     0   \n",
       "1     2021-01-01 01:00:00   0   0   0   0   0   0   0   0   0  ...     0   \n",
       "2     2021-01-01 02:00:00   0   0   0   0   0   0   0   0   0  ...     0   \n",
       "3     2021-01-01 03:00:00   0   0   0   0   0   0   0   0   0  ...     0   \n",
       "4     2021-01-01 04:00:00   0   0   0   0   0   0   0   0   0  ...     0   \n",
       "...                   ...  ..  ..  ..  ..  ..  ..  ..  ..  ..  ...   ...   \n",
       "8420  2021-12-17 20:00:00   0   0   0   0   0   0   0   0   0  ...     0   \n",
       "8421  2021-12-17 21:00:00   0   0   0   0   0   0   0   0   0  ...     0   \n",
       "8422  2021-12-17 22:00:00   0   0   0   0   0   0   0   0   0  ...     0   \n",
       "8423  2021-12-17 23:00:00   0   0   0   0   0   0   0   0   0  ...     0   \n",
       "8424  2021-12-18 00:00:00   0   0   0   0   0   0   0   0   0  ...     0   \n",
       "\n",
       "      h327  h328  h329  h330  h331  h332  h333  h334  h335  \n",
       "0        0     0     0     0     0     0     0     0     0  \n",
       "1        0     0     0     0     0     0     0     0     0  \n",
       "2        0     0     0     0     0     0     0     0     0  \n",
       "3        0     0     0     0     0     0     0     0     0  \n",
       "4        0     0     0     0     0     0     0     0     0  \n",
       "...    ...   ...   ...   ...   ...   ...   ...   ...   ...  \n",
       "8420     0     0     0     0     0     0     0     0     0  \n",
       "8421     0     0     0     0     0     0     0     0     0  \n",
       "8422     0     0     0     0     0     0     0     0     0  \n",
       "8423     0     0     0     0     0     0     0     0     0  \n",
       "8424     0     0     0     0     0     0     0     0     0  \n",
       "\n",
       "[8425 rows x 337 columns]"
      ]
     },
     "execution_count": 5,
     "metadata": {},
     "output_type": "execute_result"
    }
   ],
   "source": [
    "# 제출 양식\n",
    "data_sample = pd.read_csv('./t1_data_city/sample_city.csv')\n",
    "data_sample"
   ]
  },
  {
   "cell_type": "markdown",
   "id": "599e610a",
   "metadata": {},
   "source": [
    "### 복잡한 컬럼명 변경"
   ]
  },
  {
   "cell_type": "code",
   "execution_count": 6,
   "id": "a39d677b",
   "metadata": {},
   "outputs": [
    {
     "data": {
      "text/html": [
       "<div>\n",
       "<style scoped>\n",
       "    .dataframe tbody tr th:only-of-type {\n",
       "        vertical-align: middle;\n",
       "    }\n",
       "\n",
       "    .dataframe tbody tr th {\n",
       "        vertical-align: top;\n",
       "    }\n",
       "\n",
       "    .dataframe thead th {\n",
       "        text-align: right;\n",
       "    }\n",
       "</style>\n",
       "<table border=\"1\" class=\"dataframe\">\n",
       "  <thead>\n",
       "    <tr style=\"text-align: right;\">\n",
       "      <th></th>\n",
       "      <th>datetime</th>\n",
       "      <th>적산차</th>\n",
       "    </tr>\n",
       "  </thead>\n",
       "  <tbody>\n",
       "    <tr>\n",
       "      <th>0</th>\n",
       "      <td>2017-01-01 01:00:00</td>\n",
       "      <td>138.0</td>\n",
       "    </tr>\n",
       "    <tr>\n",
       "      <th>1</th>\n",
       "      <td>2017-01-01 02:00:00</td>\n",
       "      <td>237.0</td>\n",
       "    </tr>\n",
       "    <tr>\n",
       "      <th>2</th>\n",
       "      <td>2017-01-01 03:00:00</td>\n",
       "      <td>128.0</td>\n",
       "    </tr>\n",
       "    <tr>\n",
       "      <th>3</th>\n",
       "      <td>2017-01-01 04:00:00</td>\n",
       "      <td>14.0</td>\n",
       "    </tr>\n",
       "    <tr>\n",
       "      <th>4</th>\n",
       "      <td>2017-01-01 05:00:00</td>\n",
       "      <td>11.0</td>\n",
       "    </tr>\n",
       "  </tbody>\n",
       "</table>\n",
       "</div>"
      ],
      "text/plain": [
       "              datetime    적산차\n",
       "0  2017-01-01 01:00:00  138.0\n",
       "1  2017-01-01 02:00:00  237.0\n",
       "2  2017-01-01 03:00:00  128.0\n",
       "3  2017-01-01 04:00:00   14.0\n",
       "4  2017-01-01 05:00:00   11.0"
      ]
     },
     "execution_count": 6,
     "metadata": {},
     "output_type": "execute_result"
    }
   ],
   "source": [
    "data_tr.rename(columns= {'구미 혁신도시배수지 유출유량 적산차':'적산차'}, inplace=True)\n",
    "data_ts.rename(columns= {'구미 혁신도시배수지 유출유량 적산차':'적산차'}, inplace=True)\n",
    "data_tr.head()"
   ]
  },
  {
   "cell_type": "markdown",
   "id": "b45a604e",
   "metadata": {},
   "source": [
    "### 결측치 확인"
   ]
  },
  {
   "cell_type": "code",
   "execution_count": 7,
   "id": "a764b2b8",
   "metadata": {},
   "outputs": [
    {
     "data": {
      "text/html": [
       "<div>\n",
       "<style scoped>\n",
       "    .dataframe tbody tr th:only-of-type {\n",
       "        vertical-align: middle;\n",
       "    }\n",
       "\n",
       "    .dataframe tbody tr th {\n",
       "        vertical-align: top;\n",
       "    }\n",
       "\n",
       "    .dataframe thead th {\n",
       "        text-align: right;\n",
       "    }\n",
       "</style>\n",
       "<table border=\"1\" class=\"dataframe\">\n",
       "  <thead>\n",
       "    <tr style=\"text-align: right;\">\n",
       "      <th></th>\n",
       "      <th>datetime</th>\n",
       "      <th>적산차</th>\n",
       "    </tr>\n",
       "  </thead>\n",
       "  <tbody>\n",
       "    <tr>\n",
       "      <th>1748</th>\n",
       "      <td>2017-03-14 21:00:00</td>\n",
       "      <td>NaN</td>\n",
       "    </tr>\n",
       "    <tr>\n",
       "      <th>1982</th>\n",
       "      <td>2017-03-24 15:00:00</td>\n",
       "      <td>NaN</td>\n",
       "    </tr>\n",
       "    <tr>\n",
       "      <th>12716</th>\n",
       "      <td>2018-06-14 21:00:00</td>\n",
       "      <td>NaN</td>\n",
       "    </tr>\n",
       "    <tr>\n",
       "      <th>12717</th>\n",
       "      <td>2018-06-14 22:00:00</td>\n",
       "      <td>NaN</td>\n",
       "    </tr>\n",
       "    <tr>\n",
       "      <th>13187</th>\n",
       "      <td>2018-07-04 12:00:00</td>\n",
       "      <td>NaN</td>\n",
       "    </tr>\n",
       "    <tr>\n",
       "      <th>13234</th>\n",
       "      <td>2018-07-06 11:00:00</td>\n",
       "      <td>NaN</td>\n",
       "    </tr>\n",
       "    <tr>\n",
       "      <th>27253</th>\n",
       "      <td>2020-02-10 14:00:00</td>\n",
       "      <td>NaN</td>\n",
       "    </tr>\n",
       "    <tr>\n",
       "      <th>27254</th>\n",
       "      <td>2020-02-10 15:00:00</td>\n",
       "      <td>NaN</td>\n",
       "    </tr>\n",
       "  </tbody>\n",
       "</table>\n",
       "</div>"
      ],
      "text/plain": [
       "                  datetime  적산차\n",
       "1748   2017-03-14 21:00:00  NaN\n",
       "1982   2017-03-24 15:00:00  NaN\n",
       "12716  2018-06-14 21:00:00  NaN\n",
       "12717  2018-06-14 22:00:00  NaN\n",
       "13187  2018-07-04 12:00:00  NaN\n",
       "13234  2018-07-06 11:00:00  NaN\n",
       "27253  2020-02-10 14:00:00  NaN\n",
       "27254  2020-02-10 15:00:00  NaN"
      ]
     },
     "execution_count": 7,
     "metadata": {},
     "output_type": "execute_result"
    }
   ],
   "source": [
    "data_tr[data_tr.적산차.isnull()]"
   ]
  },
  {
   "cell_type": "code",
   "execution_count": 8,
   "id": "17e4f165",
   "metadata": {},
   "outputs": [
    {
     "data": {
      "image/png": "[encoded data removed]",
      "text/plain": [
       "<Figure size 1300x500 with 1 Axes>"
      ]
     },
     "metadata": {},
     "output_type": "display_data"
    }
   ],
   "source": [
    "# 결측치 중 한 곳을 시각화\n",
    "rcParams['figure.figsize'] = 13, 5\n",
    "data_tr[1730:1770].plot(c='blue')\n",
    "plt.show()"
   ]
  },
  {
   "cell_type": "code",
   "execution_count": 9,
   "id": "de0ef746",
   "metadata": {},
   "outputs": [],
   "source": [
    "# linear 보간을 통해 결측치 처리\n",
    "data_tr_interpolate = data_tr.interpolate(method = 'linear')"
   ]
  },
  {
   "cell_type": "code",
   "execution_count": 10,
   "id": "df1ae64a",
   "metadata": {
    "scrolled": false
   },
   "outputs": [
    {
     "data": {
      "image/png": "[encoded data removed]",
      "text/plain": [
       "<Figure size 1300x500 with 1 Axes>"
      ]
     },
     "metadata": {},
     "output_type": "display_data"
    }
   ],
   "source": [
    "# 보간 후 데이터 시각화\n",
    "data_tr_interpolate[1747:1750].적산차.plot(c='red')\n",
    "data_tr[1730:1770].적산차.plot(c='blue')\n",
    "plt.show()\n",
    "\n",
    "data_tr = data_tr_interpolate"
   ]
  },
  {
   "cell_type": "markdown",
   "id": "b788f735",
   "metadata": {},
   "source": [
    "### 이상치 변환"
   ]
  },
  {
   "cell_type": "markdown",
   "id": "724eed66",
   "metadata": {},
   "source": [
    "#### 이상치 제거"
   ]
  },
  {
   "cell_type": "code",
   "execution_count": 11,
   "id": "9eea7e2c",
   "metadata": {},
   "outputs": [
    {
     "data": {
      "image/png": "[encoded data removed]",
      "text/plain": [
       "<Figure size 1300x500 with 1 Axes>"
      ]
     },
     "metadata": {},
     "output_type": "display_data"
    }
   ],
   "source": [
    "rcParams['figure.figsize'] = 13, 5\n",
    "data_tr.plot()\n",
    "plt.show()"
   ]
  },
  {
   "cell_type": "code",
   "execution_count": 12,
   "id": "637e2492",
   "metadata": {},
   "outputs": [
    {
     "data": {
      "text/html": [
       "<div>\n",
       "<style scoped>\n",
       "    .dataframe tbody tr th:only-of-type {\n",
       "        vertical-align: middle;\n",
       "    }\n",
       "\n",
       "    .dataframe tbody tr th {\n",
       "        vertical-align: top;\n",
       "    }\n",
       "\n",
       "    .dataframe thead th {\n",
       "        text-align: right;\n",
       "    }\n",
       "</style>\n",
       "<table border=\"1\" class=\"dataframe\">\n",
       "  <thead>\n",
       "    <tr style=\"text-align: right;\">\n",
       "      <th></th>\n",
       "      <th>datetime</th>\n",
       "      <th>적산차</th>\n",
       "    </tr>\n",
       "  </thead>\n",
       "  <tbody>\n",
       "    <tr>\n",
       "      <th>11995</th>\n",
       "      <td>2018-05-15 20:00:00</td>\n",
       "      <td>4720655.0</td>\n",
       "    </tr>\n",
       "  </tbody>\n",
       "</table>\n",
       "</div>"
      ],
      "text/plain": [
       "                  datetime        적산차\n",
       "11995  2018-05-15 20:00:00  4720655.0"
      ]
     },
     "execution_count": 12,
     "metadata": {},
     "output_type": "execute_result"
    }
   ],
   "source": [
    "data_tr[data_tr.적산차 == max(data_tr.적산차)]"
   ]
  },
  {
   "cell_type": "code",
   "execution_count": 13,
   "id": "6d3e2df1",
   "metadata": {},
   "outputs": [
    {
     "data": {
      "text/html": [
       "<div>\n",
       "<style scoped>\n",
       "    .dataframe tbody tr th:only-of-type {\n",
       "        vertical-align: middle;\n",
       "    }\n",
       "\n",
       "    .dataframe tbody tr th {\n",
       "        vertical-align: top;\n",
       "    }\n",
       "\n",
       "    .dataframe thead th {\n",
       "        text-align: right;\n",
       "    }\n",
       "</style>\n",
       "<table border=\"1\" class=\"dataframe\">\n",
       "  <thead>\n",
       "    <tr style=\"text-align: right;\">\n",
       "      <th></th>\n",
       "      <th>datetime</th>\n",
       "      <th>적산차</th>\n",
       "    </tr>\n",
       "  </thead>\n",
       "  <tbody>\n",
       "    <tr>\n",
       "      <th>17558</th>\n",
       "      <td>2019-01-02 15:00:00</td>\n",
       "      <td>-6093821.0</td>\n",
       "    </tr>\n",
       "  </tbody>\n",
       "</table>\n",
       "</div>"
      ],
      "text/plain": [
       "                  datetime        적산차\n",
       "17558  2019-01-02 15:00:00 -6093821.0"
      ]
     },
     "execution_count": 13,
     "metadata": {},
     "output_type": "execute_result"
    }
   ],
   "source": [
    "data_tr[data_tr.적산차 == min(data_tr.적산차)]"
   ]
  },
  {
   "cell_type": "code",
   "execution_count": 14,
   "id": "8ce5bc18",
   "metadata": {},
   "outputs": [
    {
     "data": {
      "image/png": "[encoded data removed]",
      "text/plain": [
       "<Figure size 1300x500 with 1 Axes>"
      ]
     },
     "metadata": {},
     "output_type": "display_data"
    }
   ],
   "source": [
    "data_tr.drop(index=[11995, 17558], inplace=True)\n",
    "data_tr.plot()\n",
    "plt.show()"
   ]
  },
  {
   "cell_type": "code",
   "execution_count": 15,
   "id": "bcd6e84a",
   "metadata": {},
   "outputs": [
    {
     "data": {
      "text/html": [
       "<div>\n",
       "<style scoped>\n",
       "    .dataframe tbody tr th:only-of-type {\n",
       "        vertical-align: middle;\n",
       "    }\n",
       "\n",
       "    .dataframe tbody tr th {\n",
       "        vertical-align: top;\n",
       "    }\n",
       "\n",
       "    .dataframe thead th {\n",
       "        text-align: right;\n",
       "    }\n",
       "</style>\n",
       "<table border=\"1\" class=\"dataframe\">\n",
       "  <thead>\n",
       "    <tr style=\"text-align: right;\">\n",
       "      <th></th>\n",
       "      <th>datetime</th>\n",
       "      <th>적산차</th>\n",
       "    </tr>\n",
       "  </thead>\n",
       "  <tbody>\n",
       "    <tr>\n",
       "      <th>2127</th>\n",
       "      <td>2017-03-30 16:00:00</td>\n",
       "      <td>-2584551.0</td>\n",
       "    </tr>\n",
       "  </tbody>\n",
       "</table>\n",
       "</div>"
      ],
      "text/plain": [
       "                 datetime        적산차\n",
       "2127  2017-03-30 16:00:00 -2584551.0"
      ]
     },
     "execution_count": 15,
     "metadata": {},
     "output_type": "execute_result"
    }
   ],
   "source": [
    "data_tr[data_tr.적산차 == min(data_tr.적산차)]"
   ]
  },
  {
   "cell_type": "code",
   "execution_count": 16,
   "id": "78470f27",
   "metadata": {},
   "outputs": [
    {
     "data": {
      "image/png": "[encoded data removed]",
      "text/plain": [
       "<Figure size 1300x500 with 1 Axes>"
      ]
     },
     "metadata": {},
     "output_type": "display_data"
    }
   ],
   "source": [
    "data_tr.drop(index=2127, inplace=True)\n",
    "data_tr.plot()\n",
    "plt.show()"
   ]
  },
  {
   "cell_type": "code",
   "execution_count": 17,
   "id": "cfc160b1",
   "metadata": {},
   "outputs": [],
   "source": [
    "# linear 보간을 통해 결측치 처리\n",
    "data_tr_interpolate = data_tr.interpolate(method = 'linear')\n",
    "data_tr = data_tr_interpolate"
   ]
  },
  {
   "cell_type": "code",
   "execution_count": 18,
   "id": "192ae1ad",
   "metadata": {},
   "outputs": [],
   "source": [
    "data_tr.reset_index(drop=True, inplace=True)"
   ]
  },
  {
   "cell_type": "code",
   "execution_count": 19,
   "id": "ea185f15",
   "metadata": {},
   "outputs": [
    {
     "data": {
      "text/html": [
       "<div>\n",
       "<style scoped>\n",
       "    .dataframe tbody tr th:only-of-type {\n",
       "        vertical-align: middle;\n",
       "    }\n",
       "\n",
       "    .dataframe tbody tr th {\n",
       "        vertical-align: top;\n",
       "    }\n",
       "\n",
       "    .dataframe thead th {\n",
       "        text-align: right;\n",
       "    }\n",
       "</style>\n",
       "<table border=\"1\" class=\"dataframe\">\n",
       "  <thead>\n",
       "    <tr style=\"text-align: right;\">\n",
       "      <th></th>\n",
       "      <th>적산차</th>\n",
       "    </tr>\n",
       "    <tr>\n",
       "      <th>datetime</th>\n",
       "      <th></th>\n",
       "    </tr>\n",
       "  </thead>\n",
       "  <tbody>\n",
       "    <tr>\n",
       "      <th>2017-01-01 01:00:00</th>\n",
       "      <td>138.0</td>\n",
       "    </tr>\n",
       "    <tr>\n",
       "      <th>2017-01-01 02:00:00</th>\n",
       "      <td>237.0</td>\n",
       "    </tr>\n",
       "    <tr>\n",
       "      <th>2017-01-01 03:00:00</th>\n",
       "      <td>128.0</td>\n",
       "    </tr>\n",
       "    <tr>\n",
       "      <th>2017-01-01 04:00:00</th>\n",
       "      <td>14.0</td>\n",
       "    </tr>\n",
       "    <tr>\n",
       "      <th>2017-01-01 05:00:00</th>\n",
       "      <td>11.0</td>\n",
       "    </tr>\n",
       "  </tbody>\n",
       "</table>\n",
       "</div>"
      ],
      "text/plain": [
       "                       적산차\n",
       "datetime                  \n",
       "2017-01-01 01:00:00  138.0\n",
       "2017-01-01 02:00:00  237.0\n",
       "2017-01-01 03:00:00  128.0\n",
       "2017-01-01 04:00:00   14.0\n",
       "2017-01-01 05:00:00   11.0"
      ]
     },
     "execution_count": 19,
     "metadata": {},
     "output_type": "execute_result"
    }
   ],
   "source": [
    "data_tr['datetime'] = pd.to_datetime(data_tr['datetime'])\n",
    "data_tr.set_index('datetime', inplace=True)\n",
    "data_tr.head()"
   ]
  },
  {
   "cell_type": "code",
   "execution_count": 20,
   "id": "23ac1f4f",
   "metadata": {},
   "outputs": [
    {
     "data": {
      "image/png": "[encoded data removed]",
      "text/plain": [
       "<Figure size 1300x900 with 4 Axes>"
      ]
     },
     "metadata": {},
     "output_type": "display_data"
    }
   ],
   "source": [
    "rcParams['figure.figsize'] = 13, 9\n",
    "decomposed_df_volume = sm.tsa.seasonal_decompose(data_tr['적산차'].asfreq('W'), extrapolate_trend='freq', period=52) # py3.6 이하는 freq=52 가능\n",
    "figure = decomposed_df_volume.plot()\n",
    "plt.show()"
   ]
  },
  {
   "cell_type": "markdown",
   "id": "34909003",
   "metadata": {},
   "source": [
    "* 1년의 계절성을 지녔음"
   ]
  },
  {
   "cell_type": "markdown",
   "id": "a7fac0be",
   "metadata": {},
   "source": [
    "### Prophet 모델"
   ]
  },
  {
   "cell_type": "code",
   "execution_count": 21,
   "id": "662aa3a9",
   "metadata": {
    "scrolled": true
   },
   "outputs": [
    {
     "name": "stderr",
     "output_type": "stream",
     "text": [
      "01:25:15 - cmdstanpy - INFO - Chain [1] start processing\n",
      "01:25:31 - cmdstanpy - INFO - Chain [1] done processing\n"
     ]
    }
   ],
   "source": [
    "data_tr_prophet = data_tr.copy()\n",
    "data_tr_prophet.rename(columns= {'적산차':'y'}, inplace=True)\n",
    "data_tr_prophet['ds'] = data_tr_prophet.index\n",
    "\n",
    "# yearly_Seasonality를 지닌 모델을 생성\n",
    "m= Prophet(seasonality_mode='multiplicative',\n",
    "          yearly_seasonality=True,\n",
    "          changepoint_range=0.8,\n",
    "          changepoint_prior_scale=0.2)\n",
    "m.fit(data_tr_prophet)\n",
    "period = 0\n",
    "future = m.make_future_dataframe(periods=period, freq='H')\n",
    "forecast = m.predict(future)"
   ]
  },
  {
   "cell_type": "code",
   "execution_count": 43,
   "id": "5192dac2",
   "metadata": {},
   "outputs": [
    {
     "name": "stdout",
     "output_type": "stream",
     "text": [
      "mae : 93.64309349919488\n"
     ]
    },
    {
     "data": {
      "text/html": [
       "<div>\n",
       "<style scoped>\n",
       "    .dataframe tbody tr th:only-of-type {\n",
       "        vertical-align: middle;\n",
       "    }\n",
       "\n",
       "    .dataframe tbody tr th {\n",
       "        vertical-align: top;\n",
       "    }\n",
       "\n",
       "    .dataframe thead th {\n",
       "        text-align: right;\n",
       "    }\n",
       "</style>\n",
       "<table border=\"1\" class=\"dataframe\">\n",
       "  <thead>\n",
       "    <tr style=\"text-align: right;\">\n",
       "      <th></th>\n",
       "      <th>ds</th>\n",
       "      <th>original</th>\n",
       "      <th>predict</th>\n",
       "    </tr>\n",
       "  </thead>\n",
       "  <tbody>\n",
       "    <tr>\n",
       "      <th>0</th>\n",
       "      <td>2017-01-01 01:00:00</td>\n",
       "      <td>138.0</td>\n",
       "      <td>115.216715</td>\n",
       "    </tr>\n",
       "    <tr>\n",
       "      <th>1</th>\n",
       "      <td>2017-01-01 02:00:00</td>\n",
       "      <td>237.0</td>\n",
       "      <td>71.577510</td>\n",
       "    </tr>\n",
       "    <tr>\n",
       "      <th>2</th>\n",
       "      <td>2017-01-01 03:00:00</td>\n",
       "      <td>128.0</td>\n",
       "      <td>35.546131</td>\n",
       "    </tr>\n",
       "    <tr>\n",
       "      <th>3</th>\n",
       "      <td>2017-01-01 04:00:00</td>\n",
       "      <td>14.0</td>\n",
       "      <td>9.489044</td>\n",
       "    </tr>\n",
       "    <tr>\n",
       "      <th>4</th>\n",
       "      <td>2017-01-01 05:00:00</td>\n",
       "      <td>11.0</td>\n",
       "      <td>2.747398</td>\n",
       "    </tr>\n",
       "    <tr>\n",
       "      <th>...</th>\n",
       "      <td>...</td>\n",
       "      <td>...</td>\n",
       "      <td>...</td>\n",
       "    </tr>\n",
       "    <tr>\n",
       "      <th>35055</th>\n",
       "      <td>2020-12-31 19:00:00</td>\n",
       "      <td>328.0</td>\n",
       "      <td>316.536298</td>\n",
       "    </tr>\n",
       "    <tr>\n",
       "      <th>35056</th>\n",
       "      <td>2020-12-31 20:00:00</td>\n",
       "      <td>347.0</td>\n",
       "      <td>375.803895</td>\n",
       "    </tr>\n",
       "    <tr>\n",
       "      <th>35057</th>\n",
       "      <td>2020-12-31 21:00:00</td>\n",
       "      <td>335.0</td>\n",
       "      <td>417.775658</td>\n",
       "    </tr>\n",
       "    <tr>\n",
       "      <th>35058</th>\n",
       "      <td>2020-12-31 22:00:00</td>\n",
       "      <td>141.0</td>\n",
       "      <td>414.980067</td>\n",
       "    </tr>\n",
       "    <tr>\n",
       "      <th>35059</th>\n",
       "      <td>2020-12-31 23:00:00</td>\n",
       "      <td>112.0</td>\n",
       "      <td>365.600865</td>\n",
       "    </tr>\n",
       "  </tbody>\n",
       "</table>\n",
       "<p>35060 rows × 3 columns</p>\n",
       "</div>"
      ],
      "text/plain": [
       "                       ds  original     predict\n",
       "0     2017-01-01 01:00:00     138.0  115.216715\n",
       "1     2017-01-01 02:00:00     237.0   71.577510\n",
       "2     2017-01-01 03:00:00     128.0   35.546131\n",
       "3     2017-01-01 04:00:00      14.0    9.489044\n",
       "4     2017-01-01 05:00:00      11.0    2.747398\n",
       "...                   ...       ...         ...\n",
       "35055 2020-12-31 19:00:00     328.0  316.536298\n",
       "35056 2020-12-31 20:00:00     347.0  375.803895\n",
       "35057 2020-12-31 21:00:00     335.0  417.775658\n",
       "35058 2020-12-31 22:00:00     141.0  414.980067\n",
       "35059 2020-12-31 23:00:00     112.0  365.600865\n",
       "\n",
       "[35060 rows x 3 columns]"
      ]
     },
     "execution_count": 43,
     "metadata": {},
     "output_type": "execute_result"
    }
   ],
   "source": [
    "# 학습데이터와 예측치를 비교\n",
    "forecast['original'] = list(data_tr_prophet.y) + [np.nan]*period\n",
    "forecast.rename(columns={'yhat':'predict'}, inplace=True)\n",
    "forecast = forecast[['ds', 'original', 'predict']]\n",
    "\n",
    "mae = mean_absolute_error(forecast[:35060]['original'], forecast[:35060]['predict'])\n",
    "print('mae :', mae)\n",
    "\n",
    "forecast"
   ]
  },
  {
   "cell_type": "markdown",
   "id": "414b76e9",
   "metadata": {},
   "source": [
    "#### gridsearch 구현"
   ]
  },
  {
   "cell_type": "code",
   "execution_count": 22,
   "id": "99cfde88",
   "metadata": {
    "scrolled": true
   },
   "outputs": [
    {
     "name": "stderr",
     "output_type": "stream",
     "text": [
      "  0%|          | 0/9 [00:00<?, ?it/s]15:17:30 - cmdstanpy - INFO - Chain [1] start processing\n",
      "15:17:36 - cmdstanpy - INFO - Chain [1] done processing\n"
     ]
    },
    {
     "name": "stdout",
     "output_type": "stream",
     "text": [
      "cr, cps : 0.5, 0.05, mae : 99.82999698410252 best mae :  \n"
     ]
    },
    {
     "name": "stderr",
     "output_type": "stream",
     "text": [
      "15:17:39 - cmdstanpy - INFO - Chain [1] start processing\n",
      "15:17:48 - cmdstanpy - INFO - Chain [1] done processing\n"
     ]
    },
    {
     "name": "stdout",
     "output_type": "stream",
     "text": [
      "cr, cps : 0.5, 0.1, mae : 99.99560494365008 best mae : 99.82999698410252\n"
     ]
    },
    {
     "name": "stderr",
     "output_type": "stream",
     "text": [
      "15:17:50 - cmdstanpy - INFO - Chain [1] start processing\n",
      "15:18:00 - cmdstanpy - INFO - Chain [1] done processing\n"
     ]
    },
    {
     "name": "stdout",
     "output_type": "stream",
     "text": [
      "cr, cps : 0.5, 0.15, mae : 99.81363153693283 best mae : 99.82999698410252\n"
     ]
    },
    {
     "name": "stderr",
     "output_type": "stream",
     "text": [
      "15:18:03 - cmdstanpy - INFO - Chain [1] start processing\n",
      "15:18:14 - cmdstanpy - INFO - Chain [1] done processing\n"
     ]
    },
    {
     "name": "stdout",
     "output_type": "stream",
     "text": [
      "cr, cps : 0.5, 0.2, mae : 99.7693815866698 best mae : 99.81363153693283\n"
     ]
    },
    {
     "name": "stderr",
     "output_type": "stream",
     "text": [
      "15:18:16 - cmdstanpy - INFO - Chain [1] start processing\n",
      "15:18:25 - cmdstanpy - INFO - Chain [1] done processing\n"
     ]
    },
    {
     "name": "stdout",
     "output_type": "stream",
     "text": [
      "cr, cps : 0.5, 0.25, mae : 99.67835746206728 best mae : 99.7693815866698\n"
     ]
    },
    {
     "name": "stderr",
     "output_type": "stream",
     "text": [
      "15:18:27 - cmdstanpy - INFO - Chain [1] start processing\n",
      "15:18:38 - cmdstanpy - INFO - Chain [1] done processing\n"
     ]
    },
    {
     "name": "stdout",
     "output_type": "stream",
     "text": [
      "cr, cps : 0.5, 0.3, mae : 99.87639693617248 best mae : 99.67835746206728\n"
     ]
    },
    {
     "name": "stderr",
     "output_type": "stream",
     "text": [
      "15:18:41 - cmdstanpy - INFO - Chain [1] start processing\n",
      "15:18:49 - cmdstanpy - INFO - Chain [1] done processing\n"
     ]
    },
    {
     "name": "stdout",
     "output_type": "stream",
     "text": [
      "cr, cps : 0.5, 0.35, mae : 99.85415683896687 best mae : 99.67835746206728\n"
     ]
    },
    {
     "name": "stderr",
     "output_type": "stream",
     "text": [
      "15:18:51 - cmdstanpy - INFO - Chain [1] start processing\n",
      "15:19:01 - cmdstanpy - INFO - Chain [1] done processing\n"
     ]
    },
    {
     "name": "stdout",
     "output_type": "stream",
     "text": [
      "cr, cps : 0.5, 0.4, mae : 100.00321122132118 best mae : 99.67835746206728\n"
     ]
    },
    {
     "name": "stderr",
     "output_type": "stream",
     "text": [
      "15:19:03 - cmdstanpy - INFO - Chain [1] start processing\n",
      "15:19:10 - cmdstanpy - INFO - Chain [1] done processing\n"
     ]
    },
    {
     "name": "stdout",
     "output_type": "stream",
     "text": [
      "cr, cps : 0.5, 0.45, mae : 99.53709222723877 best mae : 99.67835746206728\n"
     ]
    },
    {
     "name": "stderr",
     "output_type": "stream",
     "text": [
      "15:19:12 - cmdstanpy - INFO - Chain [1] start processing\n",
      "15:19:27 - cmdstanpy - INFO - Chain [1] done processing\n"
     ]
    },
    {
     "name": "stdout",
     "output_type": "stream",
     "text": [
      "cr, cps : 0.5, 0.5, mae : 99.93086093224994 best mae : 99.53709222723877\n"
     ]
    },
    {
     "name": "stderr",
     "output_type": "stream",
     "text": [
      "15:19:29 - cmdstanpy - INFO - Chain [1] start processing\n",
      "15:19:40 - cmdstanpy - INFO - Chain [1] done processing\n"
     ]
    },
    {
     "name": "stdout",
     "output_type": "stream",
     "text": [
      "cr, cps : 0.5, 0.55, mae : 99.71746293728269 best mae : 99.53709222723877\n"
     ]
    },
    {
     "name": "stderr",
     "output_type": "stream",
     "text": [
      "15:19:42 - cmdstanpy - INFO - Chain [1] start processing\n",
      "15:19:51 - cmdstanpy - INFO - Chain [1] done processing\n"
     ]
    },
    {
     "name": "stdout",
     "output_type": "stream",
     "text": [
      "cr, cps : 0.5, 0.6, mae : 99.56189729803823 best mae : 99.53709222723877\n"
     ]
    },
    {
     "name": "stderr",
     "output_type": "stream",
     "text": [
      "15:19:53 - cmdstanpy - INFO - Chain [1] start processing\n",
      "15:20:05 - cmdstanpy - INFO - Chain [1] done processing\n"
     ]
    },
    {
     "name": "stdout",
     "output_type": "stream",
     "text": [
      "cr, cps : 0.5, 0.65, mae : 99.96043882127807 best mae : 99.53709222723877\n"
     ]
    },
    {
     "name": "stderr",
     "output_type": "stream",
     "text": [
      "15:20:07 - cmdstanpy - INFO - Chain [1] start processing\n",
      "15:20:17 - cmdstanpy - INFO - Chain [1] done processing\n"
     ]
    },
    {
     "name": "stdout",
     "output_type": "stream",
     "text": [
      "cr, cps : 0.5, 0.7, mae : 99.64809296619214 best mae : 99.53709222723877\n"
     ]
    },
    {
     "name": "stderr",
     "output_type": "stream",
     "text": [
      "15:20:20 - cmdstanpy - INFO - Chain [1] start processing\n",
      "15:20:29 - cmdstanpy - INFO - Chain [1] done processing\n"
     ]
    },
    {
     "name": "stdout",
     "output_type": "stream",
     "text": [
      "cr, cps : 0.5, 0.75, mae : 99.785783833561 best mae : 99.53709222723877\n"
     ]
    },
    {
     "name": "stderr",
     "output_type": "stream",
     "text": [
      "15:20:32 - cmdstanpy - INFO - Chain [1] start processing\n",
      "15:20:43 - cmdstanpy - INFO - Chain [1] done processing\n"
     ]
    },
    {
     "name": "stdout",
     "output_type": "stream",
     "text": [
      "cr, cps : 0.5, 0.8, mae : 99.89463048531859 best mae : 99.53709222723877\n"
     ]
    },
    {
     "name": "stderr",
     "output_type": "stream",
     "text": [
      "15:20:45 - cmdstanpy - INFO - Chain [1] start processing\n",
      "15:20:52 - cmdstanpy - INFO - Chain [1] done processing\n"
     ]
    },
    {
     "name": "stdout",
     "output_type": "stream",
     "text": [
      "cr, cps : 0.5, 0.85, mae : 99.48723161444184 best mae : 99.53709222723877\n"
     ]
    },
    {
     "name": "stderr",
     "output_type": "stream",
     "text": [
      "15:20:55 - cmdstanpy - INFO - Chain [1] start processing\n",
      "15:21:06 - cmdstanpy - INFO - Chain [1] done processing\n",
      " 11%|█         | 1/9 [03:39<29:13, 219.14s/it]"
     ]
    },
    {
     "name": "stdout",
     "output_type": "stream",
     "text": [
      "cr, cps : 0.5, 0.9, mae : 100.00913605168095 best mae : 99.48723161444184\n"
     ]
    },
    {
     "name": "stderr",
     "output_type": "stream",
     "text": [
      "15:21:09 - cmdstanpy - INFO - Chain [1] start processing\n",
      "15:21:16 - cmdstanpy - INFO - Chain [1] done processing\n"
     ]
    },
    {
     "name": "stdout",
     "output_type": "stream",
     "text": [
      "cr, cps : 0.55, 0.05, mae : 99.90501915567464 best mae : 99.48723161444184\n"
     ]
    },
    {
     "name": "stderr",
     "output_type": "stream",
     "text": [
      "15:21:18 - cmdstanpy - INFO - Chain [1] start processing\n",
      "15:21:28 - cmdstanpy - INFO - Chain [1] done processing\n"
     ]
    },
    {
     "name": "stdout",
     "output_type": "stream",
     "text": [
      "cr, cps : 0.55, 0.1, mae : 99.89724276298536 best mae : 99.48723161444184\n"
     ]
    },
    {
     "name": "stderr",
     "output_type": "stream",
     "text": [
      "15:21:30 - cmdstanpy - INFO - Chain [1] start processing\n",
      "15:21:42 - cmdstanpy - INFO - Chain [1] done processing\n"
     ]
    },
    {
     "name": "stdout",
     "output_type": "stream",
     "text": [
      "cr, cps : 0.55, 0.15, mae : 99.85372339075987 best mae : 99.48723161444184\n"
     ]
    },
    {
     "name": "stderr",
     "output_type": "stream",
     "text": [
      "15:21:45 - cmdstanpy - INFO - Chain [1] start processing\n",
      "15:21:57 - cmdstanpy - INFO - Chain [1] done processing\n"
     ]
    },
    {
     "name": "stdout",
     "output_type": "stream",
     "text": [
      "cr, cps : 0.55, 0.2, mae : 99.84475911696299 best mae : 99.48723161444184\n"
     ]
    },
    {
     "name": "stderr",
     "output_type": "stream",
     "text": [
      "15:22:00 - cmdstanpy - INFO - Chain [1] start processing\n",
      "15:22:10 - cmdstanpy - INFO - Chain [1] done processing\n"
     ]
    },
    {
     "name": "stdout",
     "output_type": "stream",
     "text": [
      "cr, cps : 0.55, 0.25, mae : 99.78208559140538 best mae : 99.48723161444184\n"
     ]
    },
    {
     "name": "stderr",
     "output_type": "stream",
     "text": [
      "15:22:13 - cmdstanpy - INFO - Chain [1] start processing\n",
      "15:22:21 - cmdstanpy - INFO - Chain [1] done processing\n"
     ]
    },
    {
     "name": "stdout",
     "output_type": "stream",
     "text": [
      "cr, cps : 0.55, 0.3, mae : 99.85942528128031 best mae : 99.48723161444184\n"
     ]
    },
    {
     "name": "stderr",
     "output_type": "stream",
     "text": [
      "15:22:23 - cmdstanpy - INFO - Chain [1] start processing\n",
      "15:22:35 - cmdstanpy - INFO - Chain [1] done processing\n"
     ]
    },
    {
     "name": "stdout",
     "output_type": "stream",
     "text": [
      "cr, cps : 0.55, 0.35, mae : 99.83821348050435 best mae : 99.48723161444184\n"
     ]
    },
    {
     "name": "stderr",
     "output_type": "stream",
     "text": [
      "15:22:37 - cmdstanpy - INFO - Chain [1] start processing\n",
      "15:22:49 - cmdstanpy - INFO - Chain [1] done processing\n"
     ]
    },
    {
     "name": "stdout",
     "output_type": "stream",
     "text": [
      "cr, cps : 0.55, 0.4, mae : 99.9070373528615 best mae : 99.48723161444184\n"
     ]
    },
    {
     "name": "stderr",
     "output_type": "stream",
     "text": [
      "15:22:51 - cmdstanpy - INFO - Chain [1] start processing\n",
      "15:23:03 - cmdstanpy - INFO - Chain [1] done processing\n"
     ]
    },
    {
     "name": "stdout",
     "output_type": "stream",
     "text": [
      "cr, cps : 0.55, 0.45, mae : 99.83392213070745 best mae : 99.48723161444184\n"
     ]
    },
    {
     "name": "stderr",
     "output_type": "stream",
     "text": [
      "15:23:05 - cmdstanpy - INFO - Chain [1] start processing\n",
      "15:23:16 - cmdstanpy - INFO - Chain [1] done processing\n"
     ]
    },
    {
     "name": "stdout",
     "output_type": "stream",
     "text": [
      "cr, cps : 0.55, 0.5, mae : 99.79068919380396 best mae : 99.48723161444184\n"
     ]
    },
    {
     "name": "stderr",
     "output_type": "stream",
     "text": [
      "15:23:19 - cmdstanpy - INFO - Chain [1] start processing\n",
      "15:23:30 - cmdstanpy - INFO - Chain [1] done processing\n"
     ]
    },
    {
     "name": "stdout",
     "output_type": "stream",
     "text": [
      "cr, cps : 0.55, 0.55, mae : 99.87148724715392 best mae : 99.48723161444184\n"
     ]
    },
    {
     "name": "stderr",
     "output_type": "stream",
     "text": [
      "15:23:33 - cmdstanpy - INFO - Chain [1] start processing\n",
      "15:23:44 - cmdstanpy - INFO - Chain [1] done processing\n"
     ]
    },
    {
     "name": "stdout",
     "output_type": "stream",
     "text": [
      "cr, cps : 0.55, 0.6, mae : 99.7377756522643 best mae : 99.48723161444184\n"
     ]
    },
    {
     "name": "stderr",
     "output_type": "stream",
     "text": [
      "15:23:46 - cmdstanpy - INFO - Chain [1] start processing\n",
      "15:24:00 - cmdstanpy - INFO - Chain [1] done processing\n"
     ]
    },
    {
     "name": "stdout",
     "output_type": "stream",
     "text": [
      "cr, cps : 0.55, 0.65, mae : 99.93140539482121 best mae : 99.48723161444184\n"
     ]
    },
    {
     "name": "stderr",
     "output_type": "stream",
     "text": [
      "15:24:02 - cmdstanpy - INFO - Chain [1] start processing\n",
      "15:24:15 - cmdstanpy - INFO - Chain [1] done processing\n"
     ]
    },
    {
     "name": "stdout",
     "output_type": "stream",
     "text": [
      "cr, cps : 0.55, 0.7, mae : 99.95703044572912 best mae : 99.48723161444184\n"
     ]
    },
    {
     "name": "stderr",
     "output_type": "stream",
     "text": [
      "15:24:17 - cmdstanpy - INFO - Chain [1] start processing\n",
      "15:24:31 - cmdstanpy - INFO - Chain [1] done processing\n"
     ]
    },
    {
     "name": "stdout",
     "output_type": "stream",
     "text": [
      "cr, cps : 0.55, 0.75, mae : 99.97681522710619 best mae : 99.48723161444184\n"
     ]
    },
    {
     "name": "stderr",
     "output_type": "stream",
     "text": [
      "15:24:33 - cmdstanpy - INFO - Chain [1] start processing\n",
      "15:24:47 - cmdstanpy - INFO - Chain [1] done processing\n"
     ]
    },
    {
     "name": "stdout",
     "output_type": "stream",
     "text": [
      "cr, cps : 0.55, 0.8, mae : 99.99708228963024 best mae : 99.48723161444184\n"
     ]
    },
    {
     "name": "stderr",
     "output_type": "stream",
     "text": [
      "15:24:50 - cmdstanpy - INFO - Chain [1] start processing\n",
      "15:24:59 - cmdstanpy - INFO - Chain [1] done processing\n"
     ]
    },
    {
     "name": "stdout",
     "output_type": "stream",
     "text": [
      "cr, cps : 0.55, 0.85, mae : 99.64033804181187 best mae : 99.48723161444184\n"
     ]
    },
    {
     "name": "stderr",
     "output_type": "stream",
     "text": [
      "15:25:01 - cmdstanpy - INFO - Chain [1] start processing\n",
      "15:25:13 - cmdstanpy - INFO - Chain [1] done processing\n",
      " 22%|██▏       | 2/9 [07:45<27:26, 235.23s/it]"
     ]
    },
    {
     "name": "stdout",
     "output_type": "stream",
     "text": [
      "cr, cps : 0.55, 0.9, mae : 99.99456118893465 best mae : 99.48723161444184\n"
     ]
    },
    {
     "name": "stderr",
     "output_type": "stream",
     "text": [
      "15:25:15 - cmdstanpy - INFO - Chain [1] start processing\n",
      "15:25:22 - cmdstanpy - INFO - Chain [1] done processing\n"
     ]
    },
    {
     "name": "stdout",
     "output_type": "stream",
     "text": [
      "cr, cps : 0.6, 0.05, mae : 99.79164701429112 best mae : 99.48723161444184\n"
     ]
    },
    {
     "name": "stderr",
     "output_type": "stream",
     "text": [
      "15:25:25 - cmdstanpy - INFO - Chain [1] start processing\n",
      "15:25:33 - cmdstanpy - INFO - Chain [1] done processing\n"
     ]
    },
    {
     "name": "stdout",
     "output_type": "stream",
     "text": [
      "cr, cps : 0.6, 0.1, mae : 99.66003720605254 best mae : 99.48723161444184\n"
     ]
    },
    {
     "name": "stderr",
     "output_type": "stream",
     "text": [
      "15:25:35 - cmdstanpy - INFO - Chain [1] start processing\n",
      "15:25:43 - cmdstanpy - INFO - Chain [1] done processing\n"
     ]
    },
    {
     "name": "stdout",
     "output_type": "stream",
     "text": [
      "cr, cps : 0.6, 0.15, mae : 99.74561074894856 best mae : 99.48723161444184\n"
     ]
    },
    {
     "name": "stderr",
     "output_type": "stream",
     "text": [
      "15:25:45 - cmdstanpy - INFO - Chain [1] start processing\n",
      "15:25:57 - cmdstanpy - INFO - Chain [1] done processing\n"
     ]
    },
    {
     "name": "stdout",
     "output_type": "stream",
     "text": [
      "cr, cps : 0.6, 0.2, mae : 99.75217536452995 best mae : 99.48723161444184\n"
     ]
    },
    {
     "name": "stderr",
     "output_type": "stream",
     "text": [
      "15:26:00 - cmdstanpy - INFO - Chain [1] start processing\n",
      "15:26:08 - cmdstanpy - INFO - Chain [1] done processing\n"
     ]
    },
    {
     "name": "stdout",
     "output_type": "stream",
     "text": [
      "cr, cps : 0.6, 0.25, mae : 99.53883673582352 best mae : 99.48723161444184\n"
     ]
    },
    {
     "name": "stderr",
     "output_type": "stream",
     "text": [
      "15:26:10 - cmdstanpy - INFO - Chain [1] start processing\n",
      "15:26:22 - cmdstanpy - INFO - Chain [1] done processing\n"
     ]
    },
    {
     "name": "stdout",
     "output_type": "stream",
     "text": [
      "cr, cps : 0.6, 0.3, mae : 99.66687227853778 best mae : 99.48723161444184\n"
     ]
    },
    {
     "name": "stderr",
     "output_type": "stream",
     "text": [
      "15:26:25 - cmdstanpy - INFO - Chain [1] start processing\n",
      "15:26:32 - cmdstanpy - INFO - Chain [1] done processing\n"
     ]
    },
    {
     "name": "stdout",
     "output_type": "stream",
     "text": [
      "cr, cps : 0.6, 0.35, mae : 99.62639022054502 best mae : 99.48723161444184\n"
     ]
    },
    {
     "name": "stderr",
     "output_type": "stream",
     "text": [
      "15:26:35 - cmdstanpy - INFO - Chain [1] start processing\n",
      "15:26:45 - cmdstanpy - INFO - Chain [1] done processing\n"
     ]
    },
    {
     "name": "stdout",
     "output_type": "stream",
     "text": [
      "cr, cps : 0.6, 0.4, mae : 99.51749288002524 best mae : 99.48723161444184\n"
     ]
    },
    {
     "name": "stderr",
     "output_type": "stream",
     "text": [
      "15:26:47 - cmdstanpy - INFO - Chain [1] start processing\n",
      "15:26:59 - cmdstanpy - INFO - Chain [1] done processing\n"
     ]
    },
    {
     "name": "stdout",
     "output_type": "stream",
     "text": [
      "cr, cps : 0.6, 0.45, mae : 99.68979011037804 best mae : 99.48723161444184\n"
     ]
    },
    {
     "name": "stderr",
     "output_type": "stream",
     "text": [
      "15:27:02 - cmdstanpy - INFO - Chain [1] start processing\n",
      "15:27:14 - cmdstanpy - INFO - Chain [1] done processing\n"
     ]
    },
    {
     "name": "stdout",
     "output_type": "stream",
     "text": [
      "cr, cps : 0.6, 0.5, mae : 99.57348333064786 best mae : 99.48723161444184\n"
     ]
    },
    {
     "name": "stderr",
     "output_type": "stream",
     "text": [
      "15:27:17 - cmdstanpy - INFO - Chain [1] start processing\n",
      "15:27:30 - cmdstanpy - INFO - Chain [1] done processing\n"
     ]
    },
    {
     "name": "stdout",
     "output_type": "stream",
     "text": [
      "cr, cps : 0.6, 0.55, mae : 99.60302424814196 best mae : 99.48723161444184\n"
     ]
    },
    {
     "name": "stderr",
     "output_type": "stream",
     "text": [
      "15:27:32 - cmdstanpy - INFO - Chain [1] start processing\n",
      "15:27:45 - cmdstanpy - INFO - Chain [1] done processing\n"
     ]
    },
    {
     "name": "stdout",
     "output_type": "stream",
     "text": [
      "cr, cps : 0.6, 0.6, mae : 99.66611938704942 best mae : 99.48723161444184\n"
     ]
    },
    {
     "name": "stderr",
     "output_type": "stream",
     "text": [
      "15:27:47 - cmdstanpy - INFO - Chain [1] start processing\n",
      "15:27:58 - cmdstanpy - INFO - Chain [1] done processing\n"
     ]
    },
    {
     "name": "stdout",
     "output_type": "stream",
     "text": [
      "cr, cps : 0.6, 0.65, mae : 99.64368276672356 best mae : 99.48723161444184\n"
     ]
    },
    {
     "name": "stderr",
     "output_type": "stream",
     "text": [
      "15:28:01 - cmdstanpy - INFO - Chain [1] start processing\n",
      "15:28:15 - cmdstanpy - INFO - Chain [1] done processing\n"
     ]
    },
    {
     "name": "stdout",
     "output_type": "stream",
     "text": [
      "cr, cps : 0.6, 0.7, mae : 99.85777036897504 best mae : 99.48723161444184\n"
     ]
    },
    {
     "name": "stderr",
     "output_type": "stream",
     "text": [
      "15:28:18 - cmdstanpy - INFO - Chain [1] start processing\n",
      "15:28:30 - cmdstanpy - INFO - Chain [1] done processing\n"
     ]
    },
    {
     "name": "stdout",
     "output_type": "stream",
     "text": [
      "cr, cps : 0.6, 0.75, mae : 99.9284045446974 best mae : 99.48723161444184\n"
     ]
    },
    {
     "name": "stderr",
     "output_type": "stream",
     "text": [
      "15:28:33 - cmdstanpy - INFO - Chain [1] start processing\n",
      "15:28:43 - cmdstanpy - INFO - Chain [1] done processing\n"
     ]
    },
    {
     "name": "stdout",
     "output_type": "stream",
     "text": [
      "cr, cps : 0.6, 0.8, mae : 99.60220429704243 best mae : 99.48723161444184\n"
     ]
    },
    {
     "name": "stderr",
     "output_type": "stream",
     "text": [
      "15:28:46 - cmdstanpy - INFO - Chain [1] start processing\n",
      "15:28:56 - cmdstanpy - INFO - Chain [1] done processing\n"
     ]
    },
    {
     "name": "stdout",
     "output_type": "stream",
     "text": [
      "cr, cps : 0.6, 0.85, mae : 99.6441982706841 best mae : 99.48723161444184\n"
     ]
    },
    {
     "name": "stderr",
     "output_type": "stream",
     "text": [
      "15:28:59 - cmdstanpy - INFO - Chain [1] start processing\n",
      "15:29:15 - cmdstanpy - INFO - Chain [1] done processing\n",
      " 33%|███▎      | 3/9 [11:47<23:49, 238.19s/it]"
     ]
    },
    {
     "name": "stdout",
     "output_type": "stream",
     "text": [
      "cr, cps : 0.6, 0.9, mae : 99.72571290931215 best mae : 99.48723161444184\n"
     ]
    },
    {
     "name": "stderr",
     "output_type": "stream",
     "text": [
      "15:29:17 - cmdstanpy - INFO - Chain [1] start processing\n",
      "15:29:26 - cmdstanpy - INFO - Chain [1] done processing\n"
     ]
    },
    {
     "name": "stdout",
     "output_type": "stream",
     "text": [
      "cr, cps : 0.65, 0.05, mae : 99.67547614862144 best mae : 99.48723161444184\n"
     ]
    },
    {
     "name": "stderr",
     "output_type": "stream",
     "text": [
      "15:29:28 - cmdstanpy - INFO - Chain [1] start processing\n",
      "15:29:35 - cmdstanpy - INFO - Chain [1] done processing\n"
     ]
    },
    {
     "name": "stdout",
     "output_type": "stream",
     "text": [
      "cr, cps : 0.65, 0.1, mae : 99.74257960348925 best mae : 99.48723161444184\n"
     ]
    },
    {
     "name": "stderr",
     "output_type": "stream",
     "text": [
      "15:29:38 - cmdstanpy - INFO - Chain [1] start processing\n",
      "15:29:48 - cmdstanpy - INFO - Chain [1] done processing\n"
     ]
    },
    {
     "name": "stdout",
     "output_type": "stream",
     "text": [
      "cr, cps : 0.65, 0.15, mae : 99.67917013364712 best mae : 99.48723161444184\n"
     ]
    },
    {
     "name": "stderr",
     "output_type": "stream",
     "text": [
      "15:29:51 - cmdstanpy - INFO - Chain [1] start processing\n",
      "15:30:00 - cmdstanpy - INFO - Chain [1] done processing\n"
     ]
    },
    {
     "name": "stdout",
     "output_type": "stream",
     "text": [
      "cr, cps : 0.65, 0.2, mae : 99.55595591820523 best mae : 99.48723161444184\n"
     ]
    },
    {
     "name": "stderr",
     "output_type": "stream",
     "text": [
      "15:30:03 - cmdstanpy - INFO - Chain [1] start processing\n",
      "15:30:13 - cmdstanpy - INFO - Chain [1] done processing\n"
     ]
    },
    {
     "name": "stdout",
     "output_type": "stream",
     "text": [
      "cr, cps : 0.65, 0.25, mae : 99.59927621048762 best mae : 99.48723161444184\n"
     ]
    },
    {
     "name": "stderr",
     "output_type": "stream",
     "text": [
      "15:30:16 - cmdstanpy - INFO - Chain [1] start processing\n",
      "15:30:24 - cmdstanpy - INFO - Chain [1] done processing\n"
     ]
    },
    {
     "name": "stdout",
     "output_type": "stream",
     "text": [
      "cr, cps : 0.65, 0.3, mae : 99.6737878760512 best mae : 99.48723161444184\n"
     ]
    },
    {
     "name": "stderr",
     "output_type": "stream",
     "text": [
      "15:30:26 - cmdstanpy - INFO - Chain [1] start processing\n",
      "15:30:33 - cmdstanpy - INFO - Chain [1] done processing\n"
     ]
    },
    {
     "name": "stdout",
     "output_type": "stream",
     "text": [
      "cr, cps : 0.65, 0.35, mae : 99.50041088955598 best mae : 99.48723161444184\n"
     ]
    },
    {
     "name": "stderr",
     "output_type": "stream",
     "text": [
      "15:30:36 - cmdstanpy - INFO - Chain [1] start processing\n",
      "15:30:49 - cmdstanpy - INFO - Chain [1] done processing\n"
     ]
    },
    {
     "name": "stdout",
     "output_type": "stream",
     "text": [
      "cr, cps : 0.65, 0.4, mae : 99.56534396406599 best mae : 99.48723161444184\n"
     ]
    },
    {
     "name": "stderr",
     "output_type": "stream",
     "text": [
      "15:30:51 - cmdstanpy - INFO - Chain [1] start processing\n",
      "15:30:58 - cmdstanpy - INFO - Chain [1] done processing\n"
     ]
    },
    {
     "name": "stdout",
     "output_type": "stream",
     "text": [
      "cr, cps : 0.65, 0.45, mae : 99.34674314615438 best mae : 99.48723161444184\n"
     ]
    },
    {
     "name": "stderr",
     "output_type": "stream",
     "text": [
      "15:31:01 - cmdstanpy - INFO - Chain [1] start processing\n",
      "15:31:09 - cmdstanpy - INFO - Chain [1] done processing\n"
     ]
    },
    {
     "name": "stdout",
     "output_type": "stream",
     "text": [
      "cr, cps : 0.65, 0.5, mae : 99.32969107824655 best mae : 99.34674314615438\n"
     ]
    },
    {
     "name": "stderr",
     "output_type": "stream",
     "text": [
      "15:31:12 - cmdstanpy - INFO - Chain [1] start processing\n",
      "15:31:24 - cmdstanpy - INFO - Chain [1] done processing\n"
     ]
    },
    {
     "name": "stdout",
     "output_type": "stream",
     "text": [
      "cr, cps : 0.65, 0.55, mae : 99.76146840714104 best mae : 99.32969107824655\n"
     ]
    },
    {
     "name": "stderr",
     "output_type": "stream",
     "text": [
      "15:31:27 - cmdstanpy - INFO - Chain [1] start processing\n",
      "15:31:39 - cmdstanpy - INFO - Chain [1] done processing\n"
     ]
    },
    {
     "name": "stdout",
     "output_type": "stream",
     "text": [
      "cr, cps : 0.65, 0.6, mae : 99.6778151181437 best mae : 99.32969107824655\n"
     ]
    },
    {
     "name": "stderr",
     "output_type": "stream",
     "text": [
      "15:31:41 - cmdstanpy - INFO - Chain [1] start processing\n",
      "15:31:46 - cmdstanpy - INFO - Chain [1] done processing\n"
     ]
    },
    {
     "name": "stdout",
     "output_type": "stream",
     "text": [
      "cr, cps : 0.65, 0.65, mae : 100.00727875819298 best mae : 99.32969107824655\n"
     ]
    },
    {
     "name": "stderr",
     "output_type": "stream",
     "text": [
      "15:31:48 - cmdstanpy - INFO - Chain [1] start processing\n",
      "15:31:56 - cmdstanpy - INFO - Chain [1] done processing\n"
     ]
    },
    {
     "name": "stdout",
     "output_type": "stream",
     "text": [
      "cr, cps : 0.65, 0.7, mae : 99.48304223960791 best mae : 99.32969107824655\n"
     ]
    },
    {
     "name": "stderr",
     "output_type": "stream",
     "text": [
      "15:31:59 - cmdstanpy - INFO - Chain [1] start processing\n",
      "15:32:10 - cmdstanpy - INFO - Chain [1] done processing\n"
     ]
    },
    {
     "name": "stdout",
     "output_type": "stream",
     "text": [
      "cr, cps : 0.65, 0.75, mae : 99.73301890352866 best mae : 99.32969107824655\n"
     ]
    },
    {
     "name": "stderr",
     "output_type": "stream",
     "text": [
      "15:32:12 - cmdstanpy - INFO - Chain [1] start processing\n",
      "15:32:27 - cmdstanpy - INFO - Chain [1] done processing\n"
     ]
    },
    {
     "name": "stdout",
     "output_type": "stream",
     "text": [
      "cr, cps : 0.65, 0.8, mae : 99.7658522686701 best mae : 99.32969107824655\n"
     ]
    },
    {
     "name": "stderr",
     "output_type": "stream",
     "text": [
      "15:32:29 - cmdstanpy - INFO - Chain [1] start processing\n",
      "15:32:39 - cmdstanpy - INFO - Chain [1] done processing\n"
     ]
    },
    {
     "name": "stdout",
     "output_type": "stream",
     "text": [
      "cr, cps : 0.65, 0.85, mae : 99.56010517772964 best mae : 99.32969107824655\n"
     ]
    },
    {
     "name": "stderr",
     "output_type": "stream",
     "text": [
      "15:32:41 - cmdstanpy - INFO - Chain [1] start processing\n",
      "15:32:49 - cmdstanpy - INFO - Chain [1] done processing\n",
      " 44%|████▍     | 4/9 [15:21<19:03, 228.66s/it]"
     ]
    },
    {
     "name": "stdout",
     "output_type": "stream",
     "text": [
      "cr, cps : 0.65, 0.9, mae : 99.24222530761307 best mae : 99.32969107824655\n"
     ]
    },
    {
     "name": "stderr",
     "output_type": "stream",
     "text": [
      "15:32:51 - cmdstanpy - INFO - Chain [1] start processing\n",
      "15:32:58 - cmdstanpy - INFO - Chain [1] done processing\n"
     ]
    },
    {
     "name": "stdout",
     "output_type": "stream",
     "text": [
      "cr, cps : 0.7, 0.05, mae : 99.77151012726013 best mae : 99.24222530761307\n"
     ]
    },
    {
     "name": "stderr",
     "output_type": "stream",
     "text": [
      "15:33:00 - cmdstanpy - INFO - Chain [1] start processing\n",
      "15:33:11 - cmdstanpy - INFO - Chain [1] done processing\n"
     ]
    },
    {
     "name": "stdout",
     "output_type": "stream",
     "text": [
      "cr, cps : 0.7, 0.1, mae : 99.68243067782107 best mae : 99.24222530761307\n"
     ]
    },
    {
     "name": "stderr",
     "output_type": "stream",
     "text": [
      "15:33:14 - cmdstanpy - INFO - Chain [1] start processing\n",
      "15:33:25 - cmdstanpy - INFO - Chain [1] done processing\n"
     ]
    },
    {
     "name": "stdout",
     "output_type": "stream",
     "text": [
      "cr, cps : 0.7, 0.15, mae : 99.73063708793458 best mae : 99.24222530761307\n"
     ]
    },
    {
     "name": "stderr",
     "output_type": "stream",
     "text": [
      "15:33:27 - cmdstanpy - INFO - Chain [1] start processing\n",
      "15:33:35 - cmdstanpy - INFO - Chain [1] done processing\n"
     ]
    },
    {
     "name": "stdout",
     "output_type": "stream",
     "text": [
      "cr, cps : 0.7, 0.2, mae : 99.8208922908935 best mae : 99.24222530761307\n"
     ]
    },
    {
     "name": "stderr",
     "output_type": "stream",
     "text": [
      "15:33:38 - cmdstanpy - INFO - Chain [1] start processing\n",
      "15:33:46 - cmdstanpy - INFO - Chain [1] done processing\n"
     ]
    },
    {
     "name": "stdout",
     "output_type": "stream",
     "text": [
      "cr, cps : 0.7, 0.25, mae : 99.78989819786966 best mae : 99.24222530761307\n"
     ]
    },
    {
     "name": "stderr",
     "output_type": "stream",
     "text": [
      "15:33:49 - cmdstanpy - INFO - Chain [1] start processing\n",
      "15:34:02 - cmdstanpy - INFO - Chain [1] done processing\n"
     ]
    },
    {
     "name": "stdout",
     "output_type": "stream",
     "text": [
      "cr, cps : 0.7, 0.3, mae : 99.78670205106097 best mae : 99.24222530761307\n"
     ]
    },
    {
     "name": "stderr",
     "output_type": "stream",
     "text": [
      "15:34:05 - cmdstanpy - INFO - Chain [1] start processing\n",
      "15:34:19 - cmdstanpy - INFO - Chain [1] done processing\n"
     ]
    },
    {
     "name": "stdout",
     "output_type": "stream",
     "text": [
      "cr, cps : 0.7, 0.35, mae : 99.7557740814834 best mae : 99.24222530761307\n"
     ]
    },
    {
     "name": "stderr",
     "output_type": "stream",
     "text": [
      "15:34:22 - cmdstanpy - INFO - Chain [1] start processing\n",
      "15:34:33 - cmdstanpy - INFO - Chain [1] done processing\n"
     ]
    },
    {
     "name": "stdout",
     "output_type": "stream",
     "text": [
      "cr, cps : 0.7, 0.4, mae : 99.6982371136857 best mae : 99.24222530761307\n"
     ]
    },
    {
     "name": "stderr",
     "output_type": "stream",
     "text": [
      "15:34:35 - cmdstanpy - INFO - Chain [1] start processing\n",
      "15:34:46 - cmdstanpy - INFO - Chain [1] done processing\n"
     ]
    },
    {
     "name": "stdout",
     "output_type": "stream",
     "text": [
      "cr, cps : 0.7, 0.45, mae : 99.81011333773897 best mae : 99.24222530761307\n"
     ]
    },
    {
     "name": "stderr",
     "output_type": "stream",
     "text": [
      "15:34:49 - cmdstanpy - INFO - Chain [1] start processing\n",
      "15:35:04 - cmdstanpy - INFO - Chain [1] done processing\n"
     ]
    },
    {
     "name": "stdout",
     "output_type": "stream",
     "text": [
      "cr, cps : 0.7, 0.5, mae : 99.91847930108955 best mae : 99.24222530761307\n"
     ]
    },
    {
     "name": "stderr",
     "output_type": "stream",
     "text": [
      "15:35:07 - cmdstanpy - INFO - Chain [1] start processing\n",
      "15:35:18 - cmdstanpy - INFO - Chain [1] done processing\n"
     ]
    },
    {
     "name": "stdout",
     "output_type": "stream",
     "text": [
      "cr, cps : 0.7, 0.55, mae : 99.86218474831487 best mae : 99.24222530761307\n"
     ]
    },
    {
     "name": "stderr",
     "output_type": "stream",
     "text": [
      "15:35:21 - cmdstanpy - INFO - Chain [1] start processing\n",
      "15:35:32 - cmdstanpy - INFO - Chain [1] done processing\n"
     ]
    },
    {
     "name": "stdout",
     "output_type": "stream",
     "text": [
      "cr, cps : 0.7, 0.6, mae : 99.78270131331139 best mae : 99.24222530761307\n"
     ]
    },
    {
     "name": "stderr",
     "output_type": "stream",
     "text": [
      "15:35:35 - cmdstanpy - INFO - Chain [1] start processing\n",
      "15:35:45 - cmdstanpy - INFO - Chain [1] done processing\n"
     ]
    },
    {
     "name": "stdout",
     "output_type": "stream",
     "text": [
      "cr, cps : 0.7, 0.65, mae : 99.60085872054164 best mae : 99.24222530761307\n"
     ]
    },
    {
     "name": "stderr",
     "output_type": "stream",
     "text": [
      "15:35:47 - cmdstanpy - INFO - Chain [1] start processing\n",
      "15:35:58 - cmdstanpy - INFO - Chain [1] done processing\n"
     ]
    },
    {
     "name": "stdout",
     "output_type": "stream",
     "text": [
      "cr, cps : 0.7, 0.7, mae : 99.69018135360442 best mae : 99.24222530761307\n"
     ]
    },
    {
     "name": "stderr",
     "output_type": "stream",
     "text": [
      "15:36:01 - cmdstanpy - INFO - Chain [1] start processing\n",
      "15:36:13 - cmdstanpy - INFO - Chain [1] done processing\n"
     ]
    },
    {
     "name": "stdout",
     "output_type": "stream",
     "text": [
      "cr, cps : 0.7, 0.75, mae : 99.70702544934598 best mae : 99.24222530761307\n"
     ]
    },
    {
     "name": "stderr",
     "output_type": "stream",
     "text": [
      "15:36:16 - cmdstanpy - INFO - Chain [1] start processing\n",
      "15:36:30 - cmdstanpy - INFO - Chain [1] done processing\n"
     ]
    },
    {
     "name": "stdout",
     "output_type": "stream",
     "text": [
      "cr, cps : 0.7, 0.8, mae : 99.76679950705022 best mae : 99.24222530761307\n"
     ]
    },
    {
     "name": "stderr",
     "output_type": "stream",
     "text": [
      "15:36:33 - cmdstanpy - INFO - Chain [1] start processing\n",
      "15:36:46 - cmdstanpy - INFO - Chain [1] done processing\n"
     ]
    },
    {
     "name": "stdout",
     "output_type": "stream",
     "text": [
      "cr, cps : 0.7, 0.85, mae : 99.73273862012292 best mae : 99.24222530761307\n"
     ]
    },
    {
     "name": "stderr",
     "output_type": "stream",
     "text": [
      "15:36:48 - cmdstanpy - INFO - Chain [1] start processing\n",
      "15:37:02 - cmdstanpy - INFO - Chain [1] done processing\n",
      " 56%|█████▌    | 5/9 [19:34<15:50, 237.57s/it]"
     ]
    },
    {
     "name": "stdout",
     "output_type": "stream",
     "text": [
      "cr, cps : 0.7, 0.9, mae : 99.80552256304227 best mae : 99.24222530761307\n"
     ]
    },
    {
     "name": "stderr",
     "output_type": "stream",
     "text": [
      "15:37:04 - cmdstanpy - INFO - Chain [1] start processing\n",
      "15:37:11 - cmdstanpy - INFO - Chain [1] done processing\n"
     ]
    },
    {
     "name": "stdout",
     "output_type": "stream",
     "text": [
      "cr, cps : 0.75, 0.05, mae : 99.86376237872967 best mae : 99.24222530761307\n"
     ]
    },
    {
     "name": "stderr",
     "output_type": "stream",
     "text": [
      "15:37:13 - cmdstanpy - INFO - Chain [1] start processing\n",
      "15:37:25 - cmdstanpy - INFO - Chain [1] done processing\n"
     ]
    },
    {
     "name": "stdout",
     "output_type": "stream",
     "text": [
      "cr, cps : 0.75, 0.1, mae : 99.80877569888352 best mae : 99.24222530761307\n"
     ]
    },
    {
     "name": "stderr",
     "output_type": "stream",
     "text": [
      "15:37:27 - cmdstanpy - INFO - Chain [1] start processing\n",
      "15:37:39 - cmdstanpy - INFO - Chain [1] done processing\n"
     ]
    },
    {
     "name": "stdout",
     "output_type": "stream",
     "text": [
      "cr, cps : 0.75, 0.15, mae : 99.87399851777388 best mae : 99.24222530761307\n"
     ]
    },
    {
     "name": "stderr",
     "output_type": "stream",
     "text": [
      "15:37:42 - cmdstanpy - INFO - Chain [1] start processing\n",
      "15:37:57 - cmdstanpy - INFO - Chain [1] done processing\n"
     ]
    },
    {
     "name": "stdout",
     "output_type": "stream",
     "text": [
      "cr, cps : 0.75, 0.2, mae : 99.74291060495628 best mae : 99.24222530761307\n"
     ]
    },
    {
     "name": "stderr",
     "output_type": "stream",
     "text": [
      "15:37:59 - cmdstanpy - INFO - Chain [1] start processing\n",
      "15:38:09 - cmdstanpy - INFO - Chain [1] done processing\n"
     ]
    },
    {
     "name": "stdout",
     "output_type": "stream",
     "text": [
      "cr, cps : 0.75, 0.25, mae : 99.63063418565976 best mae : 99.24222530761307\n"
     ]
    },
    {
     "name": "stderr",
     "output_type": "stream",
     "text": [
      "15:38:12 - cmdstanpy - INFO - Chain [1] start processing\n",
      "15:38:25 - cmdstanpy - INFO - Chain [1] done processing\n"
     ]
    },
    {
     "name": "stdout",
     "output_type": "stream",
     "text": [
      "cr, cps : 0.75, 0.3, mae : 99.88826348018631 best mae : 99.24222530761307\n"
     ]
    },
    {
     "name": "stderr",
     "output_type": "stream",
     "text": [
      "15:38:28 - cmdstanpy - INFO - Chain [1] start processing\n",
      "15:38:36 - cmdstanpy - INFO - Chain [1] done processing\n"
     ]
    },
    {
     "name": "stdout",
     "output_type": "stream",
     "text": [
      "cr, cps : 0.75, 0.35, mae : 99.75633244151844 best mae : 99.24222530761307\n"
     ]
    },
    {
     "name": "stderr",
     "output_type": "stream",
     "text": [
      "15:38:39 - cmdstanpy - INFO - Chain [1] start processing\n",
      "15:38:47 - cmdstanpy - INFO - Chain [1] done processing\n"
     ]
    },
    {
     "name": "stdout",
     "output_type": "stream",
     "text": [
      "cr, cps : 0.75, 0.4, mae : 99.73334950620603 best mae : 99.24222530761307\n"
     ]
    },
    {
     "name": "stderr",
     "output_type": "stream",
     "text": [
      "15:38:50 - cmdstanpy - INFO - Chain [1] start processing\n",
      "15:39:00 - cmdstanpy - INFO - Chain [1] done processing\n"
     ]
    },
    {
     "name": "stdout",
     "output_type": "stream",
     "text": [
      "cr, cps : 0.75, 0.45, mae : 99.73368524600296 best mae : 99.24222530761307\n"
     ]
    },
    {
     "name": "stderr",
     "output_type": "stream",
     "text": [
      "15:39:03 - cmdstanpy - INFO - Chain [1] start processing\n",
      "15:39:11 - cmdstanpy - INFO - Chain [1] done processing\n"
     ]
    },
    {
     "name": "stdout",
     "output_type": "stream",
     "text": [
      "cr, cps : 0.75, 0.5, mae : 99.77702162533681 best mae : 99.24222530761307\n"
     ]
    },
    {
     "name": "stderr",
     "output_type": "stream",
     "text": [
      "15:39:14 - cmdstanpy - INFO - Chain [1] start processing\n",
      "15:39:24 - cmdstanpy - INFO - Chain [1] done processing\n"
     ]
    },
    {
     "name": "stdout",
     "output_type": "stream",
     "text": [
      "cr, cps : 0.75, 0.55, mae : 99.63451381806685 best mae : 99.24222530761307\n"
     ]
    },
    {
     "name": "stderr",
     "output_type": "stream",
     "text": [
      "15:39:27 - cmdstanpy - INFO - Chain [1] start processing\n",
      "15:39:36 - cmdstanpy - INFO - Chain [1] done processing\n"
     ]
    },
    {
     "name": "stdout",
     "output_type": "stream",
     "text": [
      "cr, cps : 0.75, 0.6, mae : 99.79301018948142 best mae : 99.24222530761307\n"
     ]
    },
    {
     "name": "stderr",
     "output_type": "stream",
     "text": [
      "15:39:38 - cmdstanpy - INFO - Chain [1] start processing\n",
      "15:39:51 - cmdstanpy - INFO - Chain [1] done processing\n"
     ]
    },
    {
     "name": "stdout",
     "output_type": "stream",
     "text": [
      "cr, cps : 0.75, 0.65, mae : 99.79021380059783 best mae : 99.24222530761307\n"
     ]
    },
    {
     "name": "stderr",
     "output_type": "stream",
     "text": [
      "15:39:53 - cmdstanpy - INFO - Chain [1] start processing\n",
      "15:40:10 - cmdstanpy - INFO - Chain [1] done processing\n"
     ]
    },
    {
     "name": "stdout",
     "output_type": "stream",
     "text": [
      "cr, cps : 0.75, 0.7, mae : 100.05578108387519 best mae : 99.24222530761307\n"
     ]
    },
    {
     "name": "stderr",
     "output_type": "stream",
     "text": [
      "15:40:12 - cmdstanpy - INFO - Chain [1] start processing\n",
      "15:40:23 - cmdstanpy - INFO - Chain [1] done processing\n"
     ]
    },
    {
     "name": "stdout",
     "output_type": "stream",
     "text": [
      "cr, cps : 0.75, 0.75, mae : 99.51996192203045 best mae : 99.24222530761307\n"
     ]
    },
    {
     "name": "stderr",
     "output_type": "stream",
     "text": [
      "15:40:26 - cmdstanpy - INFO - Chain [1] start processing\n",
      "15:40:37 - cmdstanpy - INFO - Chain [1] done processing\n"
     ]
    },
    {
     "name": "stdout",
     "output_type": "stream",
     "text": [
      "cr, cps : 0.75, 0.8, mae : 99.76220602636147 best mae : 99.24222530761307\n"
     ]
    },
    {
     "name": "stderr",
     "output_type": "stream",
     "text": [
      "15:40:39 - cmdstanpy - INFO - Chain [1] start processing\n",
      "15:40:51 - cmdstanpy - INFO - Chain [1] done processing\n"
     ]
    },
    {
     "name": "stdout",
     "output_type": "stream",
     "text": [
      "cr, cps : 0.75, 0.85, mae : 99.81573862184372 best mae : 99.24222530761307\n"
     ]
    },
    {
     "name": "stderr",
     "output_type": "stream",
     "text": [
      "15:40:53 - cmdstanpy - INFO - Chain [1] start processing\n",
      "15:41:06 - cmdstanpy - INFO - Chain [1] done processing\n",
      " 67%|██████▋   | 6/9 [23:38<11:59, 239.71s/it]"
     ]
    },
    {
     "name": "stdout",
     "output_type": "stream",
     "text": [
      "cr, cps : 0.75, 0.9, mae : 100.07152682901844 best mae : 99.24222530761307\n"
     ]
    },
    {
     "name": "stderr",
     "output_type": "stream",
     "text": [
      "15:41:08 - cmdstanpy - INFO - Chain [1] start processing\n",
      "15:41:19 - cmdstanpy - INFO - Chain [1] done processing\n"
     ]
    },
    {
     "name": "stdout",
     "output_type": "stream",
     "text": [
      "cr, cps : 0.8, 0.05, mae : 99.65066049050199 best mae : 99.24222530761307\n"
     ]
    },
    {
     "name": "stderr",
     "output_type": "stream",
     "text": [
      "15:41:21 - cmdstanpy - INFO - Chain [1] start processing\n",
      "15:41:29 - cmdstanpy - INFO - Chain [1] done processing\n"
     ]
    },
    {
     "name": "stdout",
     "output_type": "stream",
     "text": [
      "cr, cps : 0.8, 0.1, mae : 99.64966576726655 best mae : 99.24222530761307\n"
     ]
    },
    {
     "name": "stderr",
     "output_type": "stream",
     "text": [
      "15:41:32 - cmdstanpy - INFO - Chain [1] start processing\n",
      "15:41:43 - cmdstanpy - INFO - Chain [1] done processing\n"
     ]
    },
    {
     "name": "stdout",
     "output_type": "stream",
     "text": [
      "cr, cps : 0.8, 0.15, mae : 99.62403507446115 best mae : 99.24222530761307\n"
     ]
    },
    {
     "name": "stderr",
     "output_type": "stream",
     "text": [
      "15:41:45 - cmdstanpy - INFO - Chain [1] start processing\n",
      "15:41:56 - cmdstanpy - INFO - Chain [1] done processing\n"
     ]
    },
    {
     "name": "stdout",
     "output_type": "stream",
     "text": [
      "cr, cps : 0.8, 0.2, mae : 100.04943348482807 best mae : 99.24222530761307\n"
     ]
    },
    {
     "name": "stderr",
     "output_type": "stream",
     "text": [
      "15:41:58 - cmdstanpy - INFO - Chain [1] start processing\n",
      "15:42:08 - cmdstanpy - INFO - Chain [1] done processing\n"
     ]
    },
    {
     "name": "stdout",
     "output_type": "stream",
     "text": [
      "cr, cps : 0.8, 0.25, mae : 99.75783146287503 best mae : 99.24222530761307\n"
     ]
    },
    {
     "name": "stderr",
     "output_type": "stream",
     "text": [
      "15:42:10 - cmdstanpy - INFO - Chain [1] start processing\n",
      "15:42:19 - cmdstanpy - INFO - Chain [1] done processing\n"
     ]
    },
    {
     "name": "stdout",
     "output_type": "stream",
     "text": [
      "cr, cps : 0.8, 0.3, mae : 99.84761216746496 best mae : 99.24222530761307\n"
     ]
    },
    {
     "name": "stderr",
     "output_type": "stream",
     "text": [
      "15:42:21 - cmdstanpy - INFO - Chain [1] start processing\n",
      "15:42:32 - cmdstanpy - INFO - Chain [1] done processing\n"
     ]
    },
    {
     "name": "stdout",
     "output_type": "stream",
     "text": [
      "cr, cps : 0.8, 0.35, mae : 99.56773233478333 best mae : 99.24222530761307\n"
     ]
    },
    {
     "name": "stderr",
     "output_type": "stream",
     "text": [
      "15:42:34 - cmdstanpy - INFO - Chain [1] start processing\n",
      "15:42:48 - cmdstanpy - INFO - Chain [1] done processing\n"
     ]
    },
    {
     "name": "stdout",
     "output_type": "stream",
     "text": [
      "cr, cps : 0.8, 0.4, mae : 99.68052525509786 best mae : 99.24222530761307\n"
     ]
    },
    {
     "name": "stderr",
     "output_type": "stream",
     "text": [
      "15:42:51 - cmdstanpy - INFO - Chain [1] start processing\n",
      "15:43:06 - cmdstanpy - INFO - Chain [1] done processing\n"
     ]
    },
    {
     "name": "stdout",
     "output_type": "stream",
     "text": [
      "cr, cps : 0.8, 0.45, mae : 99.83592133344462 best mae : 99.24222530761307\n"
     ]
    },
    {
     "name": "stderr",
     "output_type": "stream",
     "text": [
      "15:43:08 - cmdstanpy - INFO - Chain [1] start processing\n",
      "15:43:18 - cmdstanpy - INFO - Chain [1] done processing\n"
     ]
    },
    {
     "name": "stdout",
     "output_type": "stream",
     "text": [
      "cr, cps : 0.8, 0.5, mae : 99.68694618550212 best mae : 99.24222530761307\n"
     ]
    },
    {
     "name": "stderr",
     "output_type": "stream",
     "text": [
      "15:43:21 - cmdstanpy - INFO - Chain [1] start processing\n",
      "15:43:33 - cmdstanpy - INFO - Chain [1] done processing\n"
     ]
    },
    {
     "name": "stdout",
     "output_type": "stream",
     "text": [
      "cr, cps : 0.8, 0.55, mae : 99.78645028753093 best mae : 99.24222530761307\n"
     ]
    },
    {
     "name": "stderr",
     "output_type": "stream",
     "text": [
      "15:43:36 - cmdstanpy - INFO - Chain [1] start processing\n",
      "15:43:49 - cmdstanpy - INFO - Chain [1] done processing\n"
     ]
    },
    {
     "name": "stdout",
     "output_type": "stream",
     "text": [
      "cr, cps : 0.8, 0.6, mae : 99.73129084924378 best mae : 99.24222530761307\n"
     ]
    },
    {
     "name": "stderr",
     "output_type": "stream",
     "text": [
      "15:43:52 - cmdstanpy - INFO - Chain [1] start processing\n",
      "15:44:02 - cmdstanpy - INFO - Chain [1] done processing\n"
     ]
    },
    {
     "name": "stdout",
     "output_type": "stream",
     "text": [
      "cr, cps : 0.8, 0.65, mae : 99.83248174756318 best mae : 99.24222530761307\n"
     ]
    },
    {
     "name": "stderr",
     "output_type": "stream",
     "text": [
      "15:44:04 - cmdstanpy - INFO - Chain [1] start processing\n",
      "15:44:17 - cmdstanpy - INFO - Chain [1] done processing\n"
     ]
    },
    {
     "name": "stdout",
     "output_type": "stream",
     "text": [
      "cr, cps : 0.8, 0.7, mae : 99.89382305369357 best mae : 99.24222530761307\n"
     ]
    },
    {
     "name": "stderr",
     "output_type": "stream",
     "text": [
      "15:44:20 - cmdstanpy - INFO - Chain [1] start processing\n",
      "15:44:32 - cmdstanpy - INFO - Chain [1] done processing\n"
     ]
    },
    {
     "name": "stdout",
     "output_type": "stream",
     "text": [
      "cr, cps : 0.8, 0.75, mae : 99.88329117524066 best mae : 99.24222530761307\n"
     ]
    },
    {
     "name": "stderr",
     "output_type": "stream",
     "text": [
      "15:44:35 - cmdstanpy - INFO - Chain [1] start processing\n",
      "15:44:48 - cmdstanpy - INFO - Chain [1] done processing\n"
     ]
    },
    {
     "name": "stdout",
     "output_type": "stream",
     "text": [
      "cr, cps : 0.8, 0.8, mae : 99.88452449716412 best mae : 99.24222530761307\n"
     ]
    },
    {
     "name": "stderr",
     "output_type": "stream",
     "text": [
      "15:44:51 - cmdstanpy - INFO - Chain [1] start processing\n",
      "15:45:04 - cmdstanpy - INFO - Chain [1] done processing\n"
     ]
    },
    {
     "name": "stdout",
     "output_type": "stream",
     "text": [
      "cr, cps : 0.8, 0.85, mae : 100.01996840256494 best mae : 99.24222530761307\n"
     ]
    },
    {
     "name": "stderr",
     "output_type": "stream",
     "text": [
      "15:45:06 - cmdstanpy - INFO - Chain [1] start processing\n",
      "15:45:18 - cmdstanpy - INFO - Chain [1] done processing\n",
      " 78%|███████▊  | 7/9 [27:50<08:07, 243.61s/it]"
     ]
    },
    {
     "name": "stdout",
     "output_type": "stream",
     "text": [
      "cr, cps : 0.8, 0.9, mae : 99.91373677990515 best mae : 99.24222530761307\n"
     ]
    },
    {
     "name": "stderr",
     "output_type": "stream",
     "text": [
      "15:45:20 - cmdstanpy - INFO - Chain [1] start processing\n",
      "15:45:31 - cmdstanpy - INFO - Chain [1] done processing\n"
     ]
    },
    {
     "name": "stdout",
     "output_type": "stream",
     "text": [
      "cr, cps : 0.85, 0.05, mae : 99.39622316546924 best mae : 99.24222530761307\n"
     ]
    },
    {
     "name": "stderr",
     "output_type": "stream",
     "text": [
      "15:45:33 - cmdstanpy - INFO - Chain [1] start processing\n",
      "15:45:43 - cmdstanpy - INFO - Chain [1] done processing\n"
     ]
    },
    {
     "name": "stdout",
     "output_type": "stream",
     "text": [
      "cr, cps : 0.85, 0.1, mae : 99.22530244574988 best mae : 99.24222530761307\n"
     ]
    },
    {
     "name": "stderr",
     "output_type": "stream",
     "text": [
      "15:45:46 - cmdstanpy - INFO - Chain [1] start processing\n",
      "15:45:56 - cmdstanpy - INFO - Chain [1] done processing\n"
     ]
    },
    {
     "name": "stdout",
     "output_type": "stream",
     "text": [
      "cr, cps : 0.85, 0.15, mae : 98.97417731673373 best mae : 99.22530244574988\n"
     ]
    },
    {
     "name": "stderr",
     "output_type": "stream",
     "text": [
      "15:45:58 - cmdstanpy - INFO - Chain [1] start processing\n",
      "15:46:08 - cmdstanpy - INFO - Chain [1] done processing\n"
     ]
    },
    {
     "name": "stdout",
     "output_type": "stream",
     "text": [
      "cr, cps : 0.85, 0.2, mae : 98.98339790707384 best mae : 98.97417731673373\n"
     ]
    },
    {
     "name": "stderr",
     "output_type": "stream",
     "text": [
      "15:46:10 - cmdstanpy - INFO - Chain [1] start processing\n",
      "15:46:21 - cmdstanpy - INFO - Chain [1] done processing\n"
     ]
    },
    {
     "name": "stdout",
     "output_type": "stream",
     "text": [
      "cr, cps : 0.85, 0.25, mae : 99.02668143426689 best mae : 98.97417731673373\n"
     ]
    },
    {
     "name": "stderr",
     "output_type": "stream",
     "text": [
      "15:46:24 - cmdstanpy - INFO - Chain [1] start processing\n",
      "15:46:34 - cmdstanpy - INFO - Chain [1] done processing\n"
     ]
    },
    {
     "name": "stdout",
     "output_type": "stream",
     "text": [
      "cr, cps : 0.85, 0.3, mae : 99.0135049825741 best mae : 98.97417731673373\n"
     ]
    },
    {
     "name": "stderr",
     "output_type": "stream",
     "text": [
      "15:46:37 - cmdstanpy - INFO - Chain [1] start processing\n",
      "15:46:46 - cmdstanpy - INFO - Chain [1] done processing\n"
     ]
    },
    {
     "name": "stdout",
     "output_type": "stream",
     "text": [
      "cr, cps : 0.85, 0.35, mae : 99.08800996717422 best mae : 98.97417731673373\n"
     ]
    },
    {
     "name": "stderr",
     "output_type": "stream",
     "text": [
      "15:46:49 - cmdstanpy - INFO - Chain [1] start processing\n",
      "15:46:59 - cmdstanpy - INFO - Chain [1] done processing\n"
     ]
    },
    {
     "name": "stdout",
     "output_type": "stream",
     "text": [
      "cr, cps : 0.85, 0.4, mae : 99.01828211417481 best mae : 98.97417731673373\n"
     ]
    },
    {
     "name": "stderr",
     "output_type": "stream",
     "text": [
      "15:47:02 - cmdstanpy - INFO - Chain [1] start processing\n",
      "15:47:13 - cmdstanpy - INFO - Chain [1] done processing\n"
     ]
    },
    {
     "name": "stdout",
     "output_type": "stream",
     "text": [
      "cr, cps : 0.85, 0.45, mae : 99.04324329566734 best mae : 98.97417731673373\n"
     ]
    },
    {
     "name": "stderr",
     "output_type": "stream",
     "text": [
      "15:47:15 - cmdstanpy - INFO - Chain [1] start processing\n",
      "15:47:25 - cmdstanpy - INFO - Chain [1] done processing\n"
     ]
    },
    {
     "name": "stdout",
     "output_type": "stream",
     "text": [
      "cr, cps : 0.85, 0.5, mae : 98.98511471983218 best mae : 98.97417731673373\n"
     ]
    },
    {
     "name": "stderr",
     "output_type": "stream",
     "text": [
      "15:47:27 - cmdstanpy - INFO - Chain [1] start processing\n",
      "15:47:38 - cmdstanpy - INFO - Chain [1] done processing\n"
     ]
    },
    {
     "name": "stdout",
     "output_type": "stream",
     "text": [
      "cr, cps : 0.85, 0.55, mae : 98.9584050470352 best mae : 98.97417731673373\n"
     ]
    },
    {
     "name": "stderr",
     "output_type": "stream",
     "text": [
      "15:47:40 - cmdstanpy - INFO - Chain [1] start processing\n",
      "15:47:50 - cmdstanpy - INFO - Chain [1] done processing\n"
     ]
    },
    {
     "name": "stdout",
     "output_type": "stream",
     "text": [
      "cr, cps : 0.85, 0.6, mae : 99.0497282382659 best mae : 98.9584050470352\n"
     ]
    },
    {
     "name": "stderr",
     "output_type": "stream",
     "text": [
      "15:47:52 - cmdstanpy - INFO - Chain [1] start processing\n",
      "15:48:03 - cmdstanpy - INFO - Chain [1] done processing\n"
     ]
    },
    {
     "name": "stdout",
     "output_type": "stream",
     "text": [
      "cr, cps : 0.85, 0.65, mae : 99.0356528864337 best mae : 98.9584050470352\n"
     ]
    },
    {
     "name": "stderr",
     "output_type": "stream",
     "text": [
      "15:48:05 - cmdstanpy - INFO - Chain [1] start processing\n",
      "15:48:11 - cmdstanpy - INFO - Chain [1] done processing\n"
     ]
    },
    {
     "name": "stdout",
     "output_type": "stream",
     "text": [
      "cr, cps : 0.85, 0.7, mae : 99.09487699113812 best mae : 98.9584050470352\n"
     ]
    },
    {
     "name": "stderr",
     "output_type": "stream",
     "text": [
      "15:48:14 - cmdstanpy - INFO - Chain [1] start processing\n",
      "15:48:25 - cmdstanpy - INFO - Chain [1] done processing\n"
     ]
    },
    {
     "name": "stdout",
     "output_type": "stream",
     "text": [
      "cr, cps : 0.85, 0.75, mae : 98.92414053065238 best mae : 98.9584050470352\n"
     ]
    },
    {
     "name": "stderr",
     "output_type": "stream",
     "text": [
      "15:48:28 - cmdstanpy - INFO - Chain [1] start processing\n",
      "15:48:39 - cmdstanpy - INFO - Chain [1] done processing\n"
     ]
    },
    {
     "name": "stdout",
     "output_type": "stream",
     "text": [
      "cr, cps : 0.85, 0.8, mae : 99.07382881742004 best mae : 98.92414053065238\n"
     ]
    },
    {
     "name": "stderr",
     "output_type": "stream",
     "text": [
      "15:48:41 - cmdstanpy - INFO - Chain [1] start processing\n",
      "15:48:52 - cmdstanpy - INFO - Chain [1] done processing\n"
     ]
    },
    {
     "name": "stdout",
     "output_type": "stream",
     "text": [
      "cr, cps : 0.85, 0.85, mae : 98.85187253629775 best mae : 98.92414053065238\n"
     ]
    },
    {
     "name": "stderr",
     "output_type": "stream",
     "text": [
      "15:48:55 - cmdstanpy - INFO - Chain [1] start processing\n",
      "15:49:07 - cmdstanpy - INFO - Chain [1] done processing\n",
      " 89%|████████▉ | 8/9 [31:40<03:59, 239.22s/it]"
     ]
    },
    {
     "name": "stdout",
     "output_type": "stream",
     "text": [
      "cr, cps : 0.85, 0.9, mae : 98.94542760847361 best mae : 98.85187253629775\n"
     ]
    },
    {
     "name": "stderr",
     "output_type": "stream",
     "text": [
      "15:49:10 - cmdstanpy - INFO - Chain [1] start processing\n",
      "15:49:18 - cmdstanpy - INFO - Chain [1] done processing\n"
     ]
    },
    {
     "name": "stdout",
     "output_type": "stream",
     "text": [
      "cr, cps : 0.9, 0.05, mae : 99.18875626318425 best mae : 98.85187253629775\n"
     ]
    },
    {
     "name": "stderr",
     "output_type": "stream",
     "text": [
      "15:49:20 - cmdstanpy - INFO - Chain [1] start processing\n",
      "15:49:31 - cmdstanpy - INFO - Chain [1] done processing\n"
     ]
    },
    {
     "name": "stdout",
     "output_type": "stream",
     "text": [
      "cr, cps : 0.9, 0.1, mae : 98.95040665129086 best mae : 98.85187253629775\n"
     ]
    },
    {
     "name": "stderr",
     "output_type": "stream",
     "text": [
      "15:49:33 - cmdstanpy - INFO - Chain [1] start processing\n",
      "15:49:44 - cmdstanpy - INFO - Chain [1] done processing\n"
     ]
    },
    {
     "name": "stdout",
     "output_type": "stream",
     "text": [
      "cr, cps : 0.9, 0.15, mae : 98.8640738623364 best mae : 98.85187253629775\n"
     ]
    },
    {
     "name": "stderr",
     "output_type": "stream",
     "text": [
      "15:49:47 - cmdstanpy - INFO - Chain [1] start processing\n",
      "15:49:57 - cmdstanpy - INFO - Chain [1] done processing\n"
     ]
    },
    {
     "name": "stdout",
     "output_type": "stream",
     "text": [
      "cr, cps : 0.9, 0.2, mae : 98.73742377240758 best mae : 98.85187253629775\n"
     ]
    },
    {
     "name": "stderr",
     "output_type": "stream",
     "text": [
      "15:50:00 - cmdstanpy - INFO - Chain [1] start processing\n",
      "15:50:10 - cmdstanpy - INFO - Chain [1] done processing\n"
     ]
    },
    {
     "name": "stdout",
     "output_type": "stream",
     "text": [
      "cr, cps : 0.9, 0.25, mae : 98.8781949214614 best mae : 98.73742377240758\n"
     ]
    },
    {
     "name": "stderr",
     "output_type": "stream",
     "text": [
      "15:50:13 - cmdstanpy - INFO - Chain [1] start processing\n",
      "15:50:23 - cmdstanpy - INFO - Chain [1] done processing\n"
     ]
    },
    {
     "name": "stdout",
     "output_type": "stream",
     "text": [
      "cr, cps : 0.9, 0.3, mae : 98.67141609801413 best mae : 98.73742377240758\n"
     ]
    },
    {
     "name": "stderr",
     "output_type": "stream",
     "text": [
      "15:50:26 - cmdstanpy - INFO - Chain [1] start processing\n",
      "15:50:38 - cmdstanpy - INFO - Chain [1] done processing\n"
     ]
    },
    {
     "name": "stdout",
     "output_type": "stream",
     "text": [
      "cr, cps : 0.9, 0.35, mae : 98.79678363518553 best mae : 98.67141609801413\n"
     ]
    },
    {
     "name": "stderr",
     "output_type": "stream",
     "text": [
      "15:50:40 - cmdstanpy - INFO - Chain [1] start processing\n",
      "15:50:52 - cmdstanpy - INFO - Chain [1] done processing\n"
     ]
    },
    {
     "name": "stdout",
     "output_type": "stream",
     "text": [
      "cr, cps : 0.9, 0.4, mae : 98.74273743746976 best mae : 98.67141609801413\n"
     ]
    },
    {
     "name": "stderr",
     "output_type": "stream",
     "text": [
      "15:50:55 - cmdstanpy - INFO - Chain [1] start processing\n",
      "15:51:05 - cmdstanpy - INFO - Chain [1] done processing\n"
     ]
    },
    {
     "name": "stdout",
     "output_type": "stream",
     "text": [
      "cr, cps : 0.9, 0.45, mae : 98.55042465645853 best mae : 98.67141609801413\n"
     ]
    },
    {
     "name": "stderr",
     "output_type": "stream",
     "text": [
      "15:51:07 - cmdstanpy - INFO - Chain [1] start processing\n",
      "15:51:18 - cmdstanpy - INFO - Chain [1] done processing\n"
     ]
    },
    {
     "name": "stdout",
     "output_type": "stream",
     "text": [
      "cr, cps : 0.9, 0.5, mae : 98.58102654719505 best mae : 98.55042465645853\n"
     ]
    },
    {
     "name": "stderr",
     "output_type": "stream",
     "text": [
      "15:51:20 - cmdstanpy - INFO - Chain [1] start processing\n",
      "15:51:32 - cmdstanpy - INFO - Chain [1] done processing\n"
     ]
    },
    {
     "name": "stdout",
     "output_type": "stream",
     "text": [
      "cr, cps : 0.9, 0.55, mae : 98.76422745963248 best mae : 98.55042465645853\n"
     ]
    },
    {
     "name": "stderr",
     "output_type": "stream",
     "text": [
      "15:51:34 - cmdstanpy - INFO - Chain [1] start processing\n",
      "15:51:45 - cmdstanpy - INFO - Chain [1] done processing\n"
     ]
    },
    {
     "name": "stdout",
     "output_type": "stream",
     "text": [
      "cr, cps : 0.9, 0.6, mae : 98.58526754187757 best mae : 98.55042465645853\n"
     ]
    },
    {
     "name": "stderr",
     "output_type": "stream",
     "text": [
      "15:51:48 - cmdstanpy - INFO - Chain [1] start processing\n",
      "15:52:00 - cmdstanpy - INFO - Chain [1] done processing\n"
     ]
    },
    {
     "name": "stdout",
     "output_type": "stream",
     "text": [
      "cr, cps : 0.9, 0.65, mae : 98.74394953660928 best mae : 98.55042465645853\n"
     ]
    },
    {
     "name": "stderr",
     "output_type": "stream",
     "text": [
      "15:52:03 - cmdstanpy - INFO - Chain [1] start processing\n",
      "15:52:10 - cmdstanpy - INFO - Chain [1] done processing\n"
     ]
    },
    {
     "name": "stdout",
     "output_type": "stream",
     "text": [
      "cr, cps : 0.9, 0.7, mae : 98.95261589722001 best mae : 98.55042465645853\n"
     ]
    },
    {
     "name": "stderr",
     "output_type": "stream",
     "text": [
      "15:52:12 - cmdstanpy - INFO - Chain [1] start processing\n",
      "15:52:21 - cmdstanpy - INFO - Chain [1] done processing\n"
     ]
    },
    {
     "name": "stdout",
     "output_type": "stream",
     "text": [
      "cr, cps : 0.9, 0.75, mae : 98.84679705059517 best mae : 98.55042465645853\n"
     ]
    },
    {
     "name": "stderr",
     "output_type": "stream",
     "text": [
      "15:52:23 - cmdstanpy - INFO - Chain [1] start processing\n",
      "15:52:35 - cmdstanpy - INFO - Chain [1] done processing\n"
     ]
    },
    {
     "name": "stdout",
     "output_type": "stream",
     "text": [
      "cr, cps : 0.9, 0.8, mae : 98.74502074398048 best mae : 98.55042465645853\n"
     ]
    },
    {
     "name": "stderr",
     "output_type": "stream",
     "text": [
      "15:52:38 - cmdstanpy - INFO - Chain [1] start processing\n",
      "15:52:50 - cmdstanpy - INFO - Chain [1] done processing\n"
     ]
    },
    {
     "name": "stdout",
     "output_type": "stream",
     "text": [
      "cr, cps : 0.9, 0.85, mae : 98.83081383471824 best mae : 98.55042465645853\n"
     ]
    },
    {
     "name": "stderr",
     "output_type": "stream",
     "text": [
      "15:52:53 - cmdstanpy - INFO - Chain [1] start processing\n",
      "15:53:08 - cmdstanpy - INFO - Chain [1] done processing\n",
      "100%|██████████| 9/9 [35:40<00:00, 237.82s/it]"
     ]
    },
    {
     "name": "stdout",
     "output_type": "stream",
     "text": [
      "cr, cps : 0.9, 0.9, mae : 98.79533469644888 best mae : 98.55042465645853\n"
     ]
    },
    {
     "name": "stderr",
     "output_type": "stream",
     "text": [
      "\n"
     ]
    }
   ],
   "source": [
    "changepoint_range = np.arange(0.5, 0.95, 0.05)\n",
    "changepoint_prior_scale = np.arange(0.05, 0.95, 0.05)\n",
    "cnt, best_mae = 0, ' '\n",
    "\n",
    "for cr in tqdm(changepoint_range):\n",
    "    cr = round(cr, 2)\n",
    "    for cps in changepoint_prior_scale:\n",
    "        cps = round(cps, 2)\n",
    "        cnt += 1\n",
    "        \n",
    "        m= Prophet(seasonality_mode='multiplicative',\n",
    "          yearly_seasonality=True,\n",
    "          changepoint_range=cr,\n",
    "          changepoint_prior_scale=cps)\n",
    "        m.fit(data_tr_prophet)\n",
    "        future = pd.DataFrame({'ds':data_ts['datetime'][:336]})\n",
    "        forecast = m.predict(future)\n",
    "        \n",
    "        forecast['original'] = data_ts[:336].적산차\n",
    "        forecast.rename(columns={'yhat':'predict'}, inplace=True)\n",
    "        forecast = forecast[['ds', 'original', 'predict']]\n",
    "\n",
    "        mae = mean_absolute_error(forecast['original'], forecast['predict'])\n",
    "        print('cr, cps : {}, {}, mae : {}'.format(cr, cps, mae), 'best mae :', best_mae)\n",
    "\n",
    "        if cnt == 1:\n",
    "            best_mae = mae\n",
    "        \n",
    "        if best_mae > mae:\n",
    "            best_mae, best_cr, best_cps = mae, cr, cps"
   ]
  },
  {
   "cell_type": "code",
   "execution_count": 23,
   "id": "085daf38",
   "metadata": {},
   "outputs": [
    {
     "name": "stdout",
     "output_type": "stream",
     "text": [
      "best_cr, best_cps, best_mae : 0.9, 0.45, 98.55042465645853\n"
     ]
    }
   ],
   "source": [
    "# best parameter\n",
    "print('best_cr, best_cps, best_mae : {}, {}, {}'.format(best_cr, best_cps, best_mae))"
   ]
  },
  {
   "cell_type": "code",
   "execution_count": 22,
   "id": "ff66c7d8",
   "metadata": {},
   "outputs": [
    {
     "data": {
      "text/html": [
       "<div>\n",
       "<style scoped>\n",
       "    .dataframe tbody tr th:only-of-type {\n",
       "        vertical-align: middle;\n",
       "    }\n",
       "\n",
       "    .dataframe tbody tr th {\n",
       "        vertical-align: top;\n",
       "    }\n",
       "\n",
       "    .dataframe thead th {\n",
       "        text-align: right;\n",
       "    }\n",
       "</style>\n",
       "<table border=\"1\" class=\"dataframe\">\n",
       "  <thead>\n",
       "    <tr style=\"text-align: right;\">\n",
       "      <th></th>\n",
       "      <th>ds</th>\n",
       "      <th>y</th>\n",
       "    </tr>\n",
       "  </thead>\n",
       "  <tbody>\n",
       "    <tr>\n",
       "      <th>0</th>\n",
       "      <td>2021-01-01 00:00:00</td>\n",
       "      <td>106.0</td>\n",
       "    </tr>\n",
       "    <tr>\n",
       "      <th>1</th>\n",
       "      <td>2021-01-01 01:00:00</td>\n",
       "      <td>184.0</td>\n",
       "    </tr>\n",
       "    <tr>\n",
       "      <th>2</th>\n",
       "      <td>2021-01-01 02:00:00</td>\n",
       "      <td>277.0</td>\n",
       "    </tr>\n",
       "    <tr>\n",
       "      <th>3</th>\n",
       "      <td>2021-01-01 03:00:00</td>\n",
       "      <td>197.0</td>\n",
       "    </tr>\n",
       "    <tr>\n",
       "      <th>4</th>\n",
       "      <td>2021-01-01 04:00:00</td>\n",
       "      <td>72.0</td>\n",
       "    </tr>\n",
       "  </tbody>\n",
       "</table>\n",
       "</div>"
      ],
      "text/plain": [
       "                    ds      y\n",
       "0  2021-01-01 00:00:00  106.0\n",
       "1  2021-01-01 01:00:00  184.0\n",
       "2  2021-01-01 02:00:00  277.0\n",
       "3  2021-01-01 03:00:00  197.0\n",
       "4  2021-01-01 04:00:00   72.0"
      ]
     },
     "execution_count": 22,
     "metadata": {},
     "output_type": "execute_result"
    }
   ],
   "source": [
    "data_ts_prophet = data_ts.copy()\n",
    "data_ts_prophet.rename(columns={'datetime':'ds', '적산차':'y'}, inplace=True)\n",
    "data_ts_prophet.head()"
   ]
  },
  {
   "cell_type": "code",
   "execution_count": null,
   "id": "8ae067af",
   "metadata": {},
   "outputs": [],
   "source": [
    "for i, start in enumerate(tqdm(data_sample.datetime)):\n",
    "    \n",
    "    df = pd.concat([data_tr_prophet, data_ts_prophet[:i]], ignore_index=True)\n",
    "    \n",
    "    m= Prophet(seasonality_mode='multiplicative',\n",
    "          daily_seasonality=True,\n",
    "          yearly_seasonality=True,\n",
    "          changepoint_range=best_cr,\n",
    "          changepoint_prior_scale=best_cps)\n",
    "    \n",
    "    m.fit(df)\n",
    "    \n",
    "    start = pd.to_datetime(start)\n",
    "    ds = pd.date_range(start, start + datetime.timedelta(hours=335), freq='H')\n",
    "\n",
    "    future = pd.DataFrame({'ds':ds})\n",
    "    forecast = m.predict(future)\n",
    "    data_sample.loc[i] = [start] + list(forecast['yhat'])\n",
    "\n",
    "    clear_output()\n",
    "    \n",
    "data_sample"
   ]
  },
  {
   "cell_type": "code",
   "execution_count": 54,
   "id": "4bfa6274",
   "metadata": {},
   "outputs": [],
   "source": [
    "data_sample.to_csv('./t1_data_city/submission_prophet2.csv', index=False)"
   ]
  },
  {
   "cell_type": "code",
   "execution_count": 23,
   "id": "8497ac20",
   "metadata": {},
   "outputs": [],
   "source": [
    "data_sample = pd.read_csv('./t1_data_city/submission_prophet2.csv')"
   ]
  },
  {
   "cell_type": "code",
   "execution_count": null,
   "id": "5ecaa2d9",
   "metadata": {},
   "outputs": [
    {
     "name": "stderr",
     "output_type": "stream",
     "text": [
      "\r",
      "  0%|          | 0/2425 [00:00<?, ?it/s]"
     ]
    }
   ],
   "source": [
    "# 이어서 하는 경우!\n",
    "for i in tqdm(range(6000, 7001)):\n",
    "    start = data_sample.datetime[i]\n",
    "    df = pd.concat([data_tr_prophet, data_ts_prophet[:i]], ignore_index=True)\n",
    "    \n",
    "    m= Prophet(seasonality_mode='multiplicative',\n",
    "          daily_seasonality=True,\n",
    "          yearly_seasonality=True,\n",
    "          changepoint_range=0.9,\n",
    "          changepoint_prior_scale=0.45)\n",
    "    \n",
    "    m.fit(df)\n",
    "    \n",
    "    start = pd.to_datetime(start)\n",
    "    ds = pd.date_range(start, start + datetime.timedelta(hours=335), freq='H')\n",
    "\n",
    "    future = pd.DataFrame({'ds':ds})\n",
    "    forecast = m.predict(future)\n",
    "    data_sample.loc[i] = [start] + list(forecast['yhat'])\n",
    "\n",
    "    clear_output()"
   ]
  },
  {
   "cell_type": "markdown",
   "id": "b658e2fa",
   "metadata": {},
   "source": [
    "### ARIMA 모델"
   ]
  },
  {
   "cell_type": "code",
   "execution_count": 20,
   "id": "302d7ad1",
   "metadata": {},
   "outputs": [
    {
     "data": {
      "image/png": "[encoded data removed]",
      "text/plain": [
       "<Figure size 936x360 with 1 Axes>"
      ]
     },
     "metadata": {
      "needs_background": "light"
     },
     "output_type": "display_data"
    },
    {
     "data": {
      "image/png": "[encoded data removed]",
      "text/plain": [
       "<Figure size 936x360 with 1 Axes>"
      ]
     },
     "metadata": {
      "needs_background": "light"
     },
     "output_type": "display_data"
    },
    {
     "data": {
      "image/png": "[encoded data removed]",
      "text/plain": [
       "<Figure size 936x360 with 1 Axes>"
      ]
     },
     "metadata": {
      "needs_background": "light"
     },
     "output_type": "display_data"
    }
   ],
   "source": [
    "rcParams['figure.figsize'] = 13, 5\n",
    "data_tr.plot()\n",
    "plot_acf(data_tr['적산차'])\n",
    "plot_pacf(data_tr['적산차'])\n",
    "plt.show()"
   ]
  },
  {
   "cell_type": "code",
   "execution_count": 21,
   "id": "658d4697",
   "metadata": {},
   "outputs": [
    {
     "data": {
      "image/png": "[encoded data removed]",
      "text/plain": [
       "<Figure size 936x360 with 1 Axes>"
      ]
     },
     "metadata": {
      "needs_background": "light"
     },
     "output_type": "display_data"
    },
    {
     "data": {
      "image/png": "[encoded data removed]",
      "text/plain": [
       "<Figure size 936x360 with 1 Axes>"
      ]
     },
     "metadata": {
      "needs_background": "light"
     },
     "output_type": "display_data"
    },
    {
     "data": {
      "image/png": "[encoded data removed]",
      "text/plain": [
       "<Figure size 936x360 with 1 Axes>"
      ]
     },
     "metadata": {
      "needs_background": "light"
     },
     "output_type": "display_data"
    }
   ],
   "source": [
    "data_tr.diff(1).dropna().plot()\n",
    "plot_acf(data_tr.diff(1).dropna(), lags=50)\n",
    "plot_pacf(data_tr.diff(1).dropna(), lags=50)\n",
    "plt.show()"
   ]
  },
  {
   "cell_type": "code",
   "execution_count": 23,
   "id": "2fc9bfb5",
   "metadata": {
    "scrolled": false
   },
   "outputs": [
    {
     "data": {
      "image/png": "[encoded data removed]",
      "text/plain": [
       "<Figure size 936x360 with 1 Axes>"
      ]
     },
     "metadata": {
      "needs_background": "light"
     },
     "output_type": "display_data"
    },
    {
     "data": {
      "image/png": "[encoded data removed]",
      "text/plain": [
       "<Figure size 936x360 with 1 Axes>"
      ]
     },
     "metadata": {
      "needs_background": "light"
     },
     "output_type": "display_data"
    }
   ],
   "source": [
    "plot_acf(data_tr.diff(1).dropna(), lags=1000)\n",
    "plot_pacf(data_tr.diff(1).dropna(), lags=1000)\n",
    "plt.show()"
   ]
  },
  {
   "cell_type": "code",
   "execution_count": 44,
   "id": "6b3ddcd8",
   "metadata": {},
   "outputs": [
    {
     "data": {
      "image/png": "[encoded data removed]",
      "text/plain": [
       "<Figure size 936x360 with 1 Axes>"
      ]
     },
     "metadata": {
      "needs_background": "light"
     },
     "output_type": "display_data"
    }
   ],
   "source": [
    "plot_pacf(data_tr.diff(1).dropna(), lags=100)\n",
    "plt.show()"
   ]
  },
  {
   "cell_type": "code",
   "execution_count": 22,
   "id": "7a560b35",
   "metadata": {},
   "outputs": [
    {
     "data": {
      "text/plain": [
       "period[H]"
      ]
     },
     "execution_count": 22,
     "metadata": {},
     "output_type": "execute_result"
    }
   ],
   "source": [
    "data_tr = data_tr.to_period('H')\n",
    "data_tr.index.dtype"
   ]
  },
  {
   "cell_type": "code",
   "execution_count": 24,
   "id": "91798397",
   "metadata": {},
   "outputs": [
    {
     "name": "stdout",
     "output_type": "stream",
     "text": [
      "                               SARIMAX Results                                \n",
      "==============================================================================\n",
      "Dep. Variable:                    적산차   No. Observations:                35060\n",
      "Model:                 ARIMA(2, 1, 2)   Log Likelihood             -223033.903\n",
      "Date:                Thu, 24 Nov 2022   AIC                         446077.805\n",
      "Time:                        12:26:45   BIC                         446120.129\n",
      "Sample:                    01-01-2017   HQIC                        446091.285\n",
      "                         - 12-31-2020                                         \n",
      "Covariance Type:                  opg                                         \n",
      "==============================================================================\n",
      "                 coef    std err          z      P>|z|      [0.025      0.975]\n",
      "------------------------------------------------------------------------------\n",
      "ar.L1         -0.4619      0.009    -52.337      0.000      -0.479      -0.445\n",
      "ar.L2          0.5279      0.005     99.753      0.000       0.518       0.538\n",
      "ma.L1         -0.0059      0.009     -0.676      0.499      -0.023       0.011\n",
      "ma.L2         -0.9941      0.009   -113.824      0.000      -1.011      -0.977\n",
      "sigma2      1.965e+04     27.518    714.145      0.000    1.96e+04    1.97e+04\n",
      "===================================================================================\n",
      "Ljung-Box (L1) (Q):                  23.52   Jarque-Bera (JB):           6331738.02\n",
      "Prob(Q):                              0.00   Prob(JB):                         0.00\n",
      "Heteroskedasticity (H):               0.85   Skew:                             2.37\n",
      "Prob(H) (two-sided):                  0.00   Kurtosis:                        68.67\n",
      "===================================================================================\n",
      "\n",
      "Warnings:\n",
      "[1] Covariance matrix calculated using the outer product of gradients (complex-step).\n"
     ]
    }
   ],
   "source": [
    "model = ARIMA(data_tr['적산차'], order=(2,1,2))\n",
    "model_fit = model.fit()\n",
    "print(model_fit.summary())"
   ]
  },
  {
   "cell_type": "code",
   "execution_count": 25,
   "id": "a18eec62",
   "metadata": {
    "scrolled": true
   },
   "outputs": [
    {
     "name": "stdout",
     "output_type": "stream",
     "text": [
      "mae : 105.89138675538612\n"
     ]
    },
    {
     "data": {
      "text/html": [
       "<div>\n",
       "<style scoped>\n",
       "    .dataframe tbody tr th:only-of-type {\n",
       "        vertical-align: middle;\n",
       "    }\n",
       "\n",
       "    .dataframe tbody tr th {\n",
       "        vertical-align: top;\n",
       "    }\n",
       "\n",
       "    .dataframe thead th {\n",
       "        text-align: right;\n",
       "    }\n",
       "</style>\n",
       "<table border=\"1\" class=\"dataframe\">\n",
       "  <thead>\n",
       "    <tr style=\"text-align: right;\">\n",
       "      <th></th>\n",
       "      <th>datetime</th>\n",
       "      <th>original</th>\n",
       "      <th>predict</th>\n",
       "    </tr>\n",
       "  </thead>\n",
       "  <tbody>\n",
       "    <tr>\n",
       "      <th>0</th>\n",
       "      <td>2017-01-01 01:00</td>\n",
       "      <td>138.0</td>\n",
       "      <td>0.000000</td>\n",
       "    </tr>\n",
       "    <tr>\n",
       "      <th>1</th>\n",
       "      <td>2017-01-01 02:00</td>\n",
       "      <td>237.0</td>\n",
       "      <td>137.193612</td>\n",
       "    </tr>\n",
       "    <tr>\n",
       "      <th>2</th>\n",
       "      <td>2017-01-01 03:00</td>\n",
       "      <td>128.0</td>\n",
       "      <td>213.149887</td>\n",
       "    </tr>\n",
       "    <tr>\n",
       "      <th>3</th>\n",
       "      <td>2017-01-01 04:00</td>\n",
       "      <td>14.0</td>\n",
       "      <td>138.926366</td>\n",
       "    </tr>\n",
       "    <tr>\n",
       "      <th>4</th>\n",
       "      <td>2017-01-01 05:00</td>\n",
       "      <td>11.0</td>\n",
       "      <td>58.612914</td>\n",
       "    </tr>\n",
       "  </tbody>\n",
       "</table>\n",
       "</div>"
      ],
      "text/plain": [
       "           datetime  original     predict\n",
       "0  2017-01-01 01:00     138.0    0.000000\n",
       "1  2017-01-01 02:00     237.0  137.193612\n",
       "2  2017-01-01 03:00     128.0  213.149887\n",
       "3  2017-01-01 04:00      14.0  138.926366\n",
       "4  2017-01-01 05:00      11.0   58.612914"
      ]
     },
     "execution_count": 25,
     "metadata": {},
     "output_type": "execute_result"
    }
   ],
   "source": [
    "forecast = pd.DataFrame(model_fit.predict())\n",
    "\n",
    "forecast['original'] = list(data_tr.적산차)\n",
    "forecast.rename(columns={'predicted_mean':'predict'}, inplace=True)\n",
    "forecast['datetime'] = forecast.index\n",
    "forecast.reset_index(drop=True, inplace=True)\n",
    "forecast = forecast[['datetime', 'original', 'predict']]\n",
    "\n",
    "mae = mean_absolute_error(forecast['original'], forecast['predict'])\n",
    "print('mae :', mae)\n",
    "\n",
    "forecast.head()"
   ]
  },
  {
   "cell_type": "code",
   "execution_count": 81,
   "id": "fcd4ef8d",
   "metadata": {},
   "outputs": [
    {
     "data": {
      "image/png": "[encoded data removed]",
      "text/plain": [
       "<Figure size 1584x576 with 1 Axes>"
      ]
     },
     "metadata": {
      "needs_background": "light"
     },
     "output_type": "display_data"
    }
   ],
   "source": [
    "data_tr_arima = data_tr.copy()\n",
    "data_tr_arima['datetime'] = data_tr.index\n",
    "data_tr_arima.reset_index(drop=True, inplace=True)\n",
    "pred = pd.DataFrame(model_fit.predict(start=34000, end=36000)).set_index(pd.Index(range(34000,36001)))\n",
    "rcParams['figure.figsize'] = 22, 8\n",
    "plt.plot(data_tr_arima['적산차'], label='original')\n",
    "plt.plot(pred.predicted_mean, label='predicted')\n",
    "plt.title('Time Series Rental Bike Sharing')\n",
    "plt.xlabel('Date')\n",
    "plt.ylabel('Count')\n",
    "plt.legend()\n",
    "plt.show()"
   ]
  },
  {
   "cell_type": "code",
   "execution_count": 88,
   "id": "b2a8ecd1",
   "metadata": {
    "scrolled": true
   },
   "outputs": [
    {
     "name": "stderr",
     "output_type": "stream",
     "text": [
      " 11%|█         | 1/9 [00:00<00:02,  2.88it/s]"
     ]
    },
    {
     "name": "stdout",
     "output_type": "stream",
     "text": [
      "ARIMA : (0, 1, 0), mae : 172.24097815764483, best mae : 172.24097815764483\n",
      "ARIMA : (0, 1, 0), aic : 455412.70245374856, best aic : 455412.70245374856\n"
     ]
    },
    {
     "name": "stderr",
     "output_type": "stream",
     "text": [
      "\r",
      " 22%|██▏       | 2/9 [00:01<00:04,  1.64it/s]"
     ]
    },
    {
     "name": "stdout",
     "output_type": "stream",
     "text": [
      "ARIMA : (0, 1, 1), mae : 158.78453549792243, best mae : 158.78453549792243\n",
      "ARIMA : (0, 1, 1), aic : 453329.9705337964, best aic : 453329.9705337964\n"
     ]
    },
    {
     "name": "stderr",
     "output_type": "stream",
     "text": [
      "\r",
      " 33%|███▎      | 3/9 [00:04<00:09,  1.66s/it]"
     ]
    },
    {
     "name": "stdout",
     "output_type": "stream",
     "text": [
      "ARIMA : (0, 1, 2), mae : 140.52233848247192, best mae : 140.52233848247192\n",
      "ARIMA : (0, 1, 2), aic : 447506.70137384493, best aic : 447506.70137384493\n"
     ]
    },
    {
     "name": "stderr",
     "output_type": "stream",
     "text": [
      "\r",
      " 44%|████▍     | 4/9 [00:04<00:05,  1.17s/it]"
     ]
    },
    {
     "name": "stdout",
     "output_type": "stream",
     "text": [
      "ARIMA : (1, 1, 0), mae : 169.8438667940593, best mae : 140.52233848247192\n",
      "ARIMA : (1, 1, 0), aic : 454121.3434336773, best aic : 447506.70137384493\n"
     ]
    },
    {
     "name": "stderr",
     "output_type": "stream",
     "text": [
      "\r",
      " 56%|█████▌    | 5/9 [00:09<00:10,  2.51s/it]"
     ]
    },
    {
     "name": "stdout",
     "output_type": "stream",
     "text": [
      "ARIMA : (1, 1, 1), mae : 140.58647908184997, best mae : 140.52233848247192\n",
      "ARIMA : (1, 1, 1), aic : 445898.1874200806, best aic : 445898.1874200806\n"
     ]
    },
    {
     "name": "stderr",
     "output_type": "stream",
     "text": [
      "\r",
      " 67%|██████▋   | 6/9 [00:17<00:13,  4.54s/it]"
     ]
    },
    {
     "name": "stdout",
     "output_type": "stream",
     "text": [
      "ARIMA : (1, 1, 2), mae : 140.57387358388013, best mae : 140.52233848247192\n",
      "ARIMA : (1, 1, 2), aic : 445771.77274220815, best aic : 445771.77274220815\n"
     ]
    },
    {
     "name": "stderr",
     "output_type": "stream",
     "text": [
      "\r",
      " 78%|███████▊  | 7/9 [00:18<00:06,  3.28s/it]"
     ]
    },
    {
     "name": "stdout",
     "output_type": "stream",
     "text": [
      "ARIMA : (2, 1, 0), mae : 156.78217651129287, best mae : 140.52233848247192\n",
      "ARIMA : (2, 1, 0), aic : 452908.83340506954, best aic : 445771.77274220815\n"
     ]
    },
    {
     "name": "stderr",
     "output_type": "stream",
     "text": [
      "\r",
      " 89%|████████▉ | 8/9 [00:27<00:05,  5.07s/it]"
     ]
    },
    {
     "name": "stdout",
     "output_type": "stream",
     "text": [
      "ARIMA : (2, 1, 1), mae : 139.7520305751836, best mae : 139.7520305751836\n",
      "ARIMA : (2, 1, 1), aic : 445959.69603129325, best aic : 445771.77274220815\n"
     ]
    },
    {
     "name": "stderr",
     "output_type": "stream",
     "text": [
      "100%|██████████| 9/9 [00:36<00:00,  4.08s/it]"
     ]
    },
    {
     "name": "stdout",
     "output_type": "stream",
     "text": [
      "ARIMA : (2, 1, 2), mae : 139.7431218843177, best mae : 139.7431218843177\n",
      "ARIMA : (2, 1, 2), aic : 446077.8052324788, best aic : 445771.77274220815\n"
     ]
    },
    {
     "name": "stderr",
     "output_type": "stream",
     "text": [
      "\n"
     ]
    }
   ],
   "source": [
    "p_range, q_range = range(0,3), range(0,3)\n",
    "ARIMA_orders = [(x[0], x[1]) for x in list(product(p_range, q_range))]\n",
    "\n",
    "cnt, best_mae = 0, ' '\n",
    "\n",
    "for p, q in tqdm(ARIMA_orders):\n",
    "        cnt += 1\n",
    "        \n",
    "        model = ARIMA(data_tr_arima['적산차'], order=(p,1,q))\n",
    "        model_fit = model.fit()\n",
    "        \n",
    "        forecast = pd.DataFrame(model_fit.predict(start=35060, end=35060+8423))\n",
    "        forecast.reset_index(drop=True, inplace=True)\n",
    "        forecast['datetime'] = data_ts['datetime']\n",
    "        forecast['original'] = data_ts.적산차\n",
    "        forecast.rename(columns={'predicted_mean':'predict'}, inplace=True)\n",
    "\n",
    "        mae = mean_absolute_error(forecast['original'], forecast['predict'])\n",
    "        \n",
    "        if cnt == 1:\n",
    "            best_mae = mae\n",
    "        \n",
    "        if best_mae > mae:\n",
    "            best_mae, best_mae_p, best_mae_q = mae, p, q\n",
    "        \n",
    "        print(f'ARIMA : ({p}, 1, {q}), mae : {mae}, best mae : {best_mae}')\n",
    "        \n",
    "        if cnt == 1:\n",
    "            best_aic = model_fit.aic\n",
    "\n",
    "        if best_aic > model_fit.aic:\n",
    "            best_aic, best_aic_p, best_aic_q = model_fit.aic, p, q\n",
    "\n",
    "        print(f'ARIMA : ({p}, 1, {q}), aic : {model_fit.aic}, best aic : {best_aic}')"
   ]
  },
  {
   "cell_type": "code",
   "execution_count": 89,
   "id": "775bb791",
   "metadata": {},
   "outputs": [
    {
     "name": "stdout",
     "output_type": "stream",
     "text": [
      "best_mae_p, best_mae_q, best_mae : 2, 2, 139.7431218843177\n",
      "best_aic_p, best_aic_q, best_aic : 1, 2, 445771.77274220815\n"
     ]
    }
   ],
   "source": [
    "# best parameter\n",
    "print('best_mae_p, best_mae_q, best_mae : {}, {}, {}'.format(best_mae_p, best_mae_q, best_mae))\n",
    "print('best_aic_p, best_aic_q, best_aic : {}, {}, {}'.format(best_aic_p, best_aic_q, best_aic))"
   ]
  },
  {
   "cell_type": "code",
   "execution_count": 90,
   "id": "0eba1fdf",
   "metadata": {},
   "outputs": [],
   "source": [
    "model = ARIMA(data_tr_arima['적산차'], order=(best_mae_p,1,best_mae_q))\n",
    "model_fit = model.fit()"
   ]
  },
  {
   "cell_type": "code",
   "execution_count": 91,
   "id": "c58df5f2",
   "metadata": {
    "scrolled": false
   },
   "outputs": [
    {
     "name": "stderr",
     "output_type": "stream",
     "text": [
      "100%|██████████| 8425/8425 [12:03<00:00, 11.65it/s]\n"
     ]
    },
    {
     "data": {
      "text/html": [
       "<div>\n",
       "<style scoped>\n",
       "    .dataframe tbody tr th:only-of-type {\n",
       "        vertical-align: middle;\n",
       "    }\n",
       "\n",
       "    .dataframe tbody tr th {\n",
       "        vertical-align: top;\n",
       "    }\n",
       "\n",
       "    .dataframe thead th {\n",
       "        text-align: right;\n",
       "    }\n",
       "</style>\n",
       "<table border=\"1\" class=\"dataframe\">\n",
       "  <thead>\n",
       "    <tr style=\"text-align: right;\">\n",
       "      <th></th>\n",
       "      <th>datetime</th>\n",
       "      <th>h0</th>\n",
       "      <th>h1</th>\n",
       "      <th>h2</th>\n",
       "      <th>h3</th>\n",
       "      <th>h4</th>\n",
       "      <th>h5</th>\n",
       "      <th>h6</th>\n",
       "      <th>h7</th>\n",
       "      <th>h8</th>\n",
       "      <th>...</th>\n",
       "      <th>h326</th>\n",
       "      <th>h327</th>\n",
       "      <th>h328</th>\n",
       "      <th>h329</th>\n",
       "      <th>h330</th>\n",
       "      <th>h331</th>\n",
       "      <th>h332</th>\n",
       "      <th>h333</th>\n",
       "      <th>h334</th>\n",
       "      <th>h335</th>\n",
       "    </tr>\n",
       "  </thead>\n",
       "  <tbody>\n",
       "    <tr>\n",
       "      <th>0</th>\n",
       "      <td>2021-01-01 00:00:00</td>\n",
       "      <td>170.860581</td>\n",
       "      <td>201.252877</td>\n",
       "      <td>218.289933</td>\n",
       "      <td>226.466062</td>\n",
       "      <td>231.684154</td>\n",
       "      <td>233.590501</td>\n",
       "      <td>235.464818</td>\n",
       "      <td>235.605540</td>\n",
       "      <td>236.530062</td>\n",
       "      <td>...</td>\n",
       "      <td>236.708041</td>\n",
       "      <td>236.642177</td>\n",
       "      <td>236.707603</td>\n",
       "      <td>236.642613</td>\n",
       "      <td>236.707171</td>\n",
       "      <td>236.643042</td>\n",
       "      <td>236.706745</td>\n",
       "      <td>236.643466</td>\n",
       "      <td>236.706324</td>\n",
       "      <td>236.643884</td>\n",
       "    </tr>\n",
       "    <tr>\n",
       "      <th>1</th>\n",
       "      <td>2021-01-01 01:00:00</td>\n",
       "      <td>201.252877</td>\n",
       "      <td>218.289933</td>\n",
       "      <td>226.466062</td>\n",
       "      <td>231.684154</td>\n",
       "      <td>233.590501</td>\n",
       "      <td>235.464818</td>\n",
       "      <td>235.605540</td>\n",
       "      <td>236.530062</td>\n",
       "      <td>236.177337</td>\n",
       "      <td>...</td>\n",
       "      <td>236.642177</td>\n",
       "      <td>236.707603</td>\n",
       "      <td>236.642613</td>\n",
       "      <td>236.707171</td>\n",
       "      <td>236.643042</td>\n",
       "      <td>236.706745</td>\n",
       "      <td>236.643466</td>\n",
       "      <td>236.706324</td>\n",
       "      <td>236.643884</td>\n",
       "      <td>236.705908</td>\n",
       "    </tr>\n",
       "    <tr>\n",
       "      <th>2</th>\n",
       "      <td>2021-01-01 02:00:00</td>\n",
       "      <td>218.289933</td>\n",
       "      <td>226.466062</td>\n",
       "      <td>231.684154</td>\n",
       "      <td>233.590501</td>\n",
       "      <td>235.464818</td>\n",
       "      <td>235.605540</td>\n",
       "      <td>236.530062</td>\n",
       "      <td>236.177337</td>\n",
       "      <td>236.828341</td>\n",
       "      <td>...</td>\n",
       "      <td>236.707603</td>\n",
       "      <td>236.642613</td>\n",
       "      <td>236.707171</td>\n",
       "      <td>236.643042</td>\n",
       "      <td>236.706745</td>\n",
       "      <td>236.643466</td>\n",
       "      <td>236.706324</td>\n",
       "      <td>236.643884</td>\n",
       "      <td>236.705908</td>\n",
       "      <td>236.644296</td>\n",
       "    </tr>\n",
       "    <tr>\n",
       "      <th>3</th>\n",
       "      <td>2021-01-01 03:00:00</td>\n",
       "      <td>226.466062</td>\n",
       "      <td>231.684154</td>\n",
       "      <td>233.590501</td>\n",
       "      <td>235.464818</td>\n",
       "      <td>235.605540</td>\n",
       "      <td>236.530062</td>\n",
       "      <td>236.177337</td>\n",
       "      <td>236.828341</td>\n",
       "      <td>236.341441</td>\n",
       "      <td>...</td>\n",
       "      <td>236.642613</td>\n",
       "      <td>236.707171</td>\n",
       "      <td>236.643042</td>\n",
       "      <td>236.706745</td>\n",
       "      <td>236.643466</td>\n",
       "      <td>236.706324</td>\n",
       "      <td>236.643884</td>\n",
       "      <td>236.705908</td>\n",
       "      <td>236.644296</td>\n",
       "      <td>236.705499</td>\n",
       "    </tr>\n",
       "    <tr>\n",
       "      <th>4</th>\n",
       "      <td>2021-01-01 04:00:00</td>\n",
       "      <td>231.684154</td>\n",
       "      <td>233.590501</td>\n",
       "      <td>235.464818</td>\n",
       "      <td>235.605540</td>\n",
       "      <td>236.530062</td>\n",
       "      <td>236.177337</td>\n",
       "      <td>236.828341</td>\n",
       "      <td>236.341441</td>\n",
       "      <td>236.910018</td>\n",
       "      <td>...</td>\n",
       "      <td>236.707171</td>\n",
       "      <td>236.643042</td>\n",
       "      <td>236.706745</td>\n",
       "      <td>236.643466</td>\n",
       "      <td>236.706324</td>\n",
       "      <td>236.643884</td>\n",
       "      <td>236.705908</td>\n",
       "      <td>236.644296</td>\n",
       "      <td>236.705499</td>\n",
       "      <td>236.644703</td>\n",
       "    </tr>\n",
       "  </tbody>\n",
       "</table>\n",
       "<p>5 rows × 337 columns</p>\n",
       "</div>"
      ],
      "text/plain": [
       "              datetime          h0          h1          h2          h3  \\\n",
       "0  2021-01-01 00:00:00  170.860581  201.252877  218.289933  226.466062   \n",
       "1  2021-01-01 01:00:00  201.252877  218.289933  226.466062  231.684154   \n",
       "2  2021-01-01 02:00:00  218.289933  226.466062  231.684154  233.590501   \n",
       "3  2021-01-01 03:00:00  226.466062  231.684154  233.590501  235.464818   \n",
       "4  2021-01-01 04:00:00  231.684154  233.590501  235.464818  235.605540   \n",
       "\n",
       "           h4          h5          h6          h7          h8  ...  \\\n",
       "0  231.684154  233.590501  235.464818  235.605540  236.530062  ...   \n",
       "1  233.590501  235.464818  235.605540  236.530062  236.177337  ...   \n",
       "2  235.464818  235.605540  236.530062  236.177337  236.828341  ...   \n",
       "3  235.605540  236.530062  236.177337  236.828341  236.341441  ...   \n",
       "4  236.530062  236.177337  236.828341  236.341441  236.910018  ...   \n",
       "\n",
       "         h326        h327        h328        h329        h330        h331  \\\n",
       "0  236.708041  236.642177  236.707603  236.642613  236.707171  236.643042   \n",
       "1  236.642177  236.707603  236.642613  236.707171  236.643042  236.706745   \n",
       "2  236.707603  236.642613  236.707171  236.643042  236.706745  236.643466   \n",
       "3  236.642613  236.707171  236.643042  236.706745  236.643466  236.706324   \n",
       "4  236.707171  236.643042  236.706745  236.643466  236.706324  236.643884   \n",
       "\n",
       "         h332        h333        h334        h335  \n",
       "0  236.706745  236.643466  236.706324  236.643884  \n",
       "1  236.643466  236.706324  236.643884  236.705908  \n",
       "2  236.706324  236.643884  236.705908  236.644296  \n",
       "3  236.643884  236.705908  236.644296  236.705499  \n",
       "4  236.705908  236.644296  236.705499  236.644703  \n",
       "\n",
       "[5 rows x 337 columns]"
      ]
     },
     "execution_count": 91,
     "metadata": {},
     "output_type": "execute_result"
    }
   ],
   "source": [
    "for i, start in enumerate(tqdm(data_sample.index)):\n",
    "    start = 35060+start\n",
    "    end = start+335\n",
    "\n",
    "    forecast = pd.DataFrame(model_fit.predict(start=start, end=end))\n",
    "    data_sample.loc[i] = [data_sample['datetime'].loc[i]] + list(forecast['predicted_mean'])\n",
    "\n",
    "data_sample.head()"
   ]
  },
  {
   "cell_type": "code",
   "execution_count": 72,
   "id": "a6c2134f",
   "metadata": {},
   "outputs": [],
   "source": [
    "data_sample.to_csv('./t1_data_city/submission_ARIMA.csv', index=False)"
   ]
  },
  {
   "cell_type": "markdown",
   "id": "d3aaa4e9",
   "metadata": {},
   "source": [
    "### SARIMA"
   ]
  },
  {
   "cell_type": "code",
   "execution_count": 20,
   "id": "497bb179",
   "metadata": {},
   "outputs": [
    {
     "data": {
      "text/plain": [
       "period[H]"
      ]
     },
     "execution_count": 20,
     "metadata": {},
     "output_type": "execute_result"
    }
   ],
   "source": [
    "data_tr = data_tr.to_period('H')\n",
    "data_tr.index.dtype"
   ]
  },
  {
   "cell_type": "code",
   "execution_count": null,
   "id": "78a15a4f",
   "metadata": {
    "scrolled": false
   },
   "outputs": [
    {
     "name": "stderr",
     "output_type": "stream",
     "text": [
      "  1%|          | 1/162 [00:00<00:44,  3.58it/s]"
     ]
    },
    {
     "name": "stdout",
     "output_type": "stream",
     "text": [
      "SARIMA : (0, 1, 0) (0, 0, 0, 24), aic : 455412.7024537413, best aic : 455412.7024537413\n",
      "SARIMA : (0, 1, 0) (0, 0, 0, 24), mae : 172.24097815764483, best mae : 172.24097815764483\n"
     ]
    },
    {
     "name": "stderr",
     "output_type": "stream",
     "text": [
      "\r",
      "  1%|          | 2/162 [00:02<04:08,  1.55s/it]"
     ]
    },
    {
     "name": "stdout",
     "output_type": "stream",
     "text": [
      "SARIMA : (0, 1, 0) (0, 0, 1, 24), aic : 454970.44480507285, best aic : 454970.44480507285\n",
      "SARIMA : (0, 1, 0) (0, 0, 1, 24), mae : 173.44875670366878, best mae : 172.24097815764483\n"
     ]
    },
    {
     "name": "stderr",
     "output_type": "stream",
     "text": [
      "\r",
      "  2%|▏         | 3/162 [00:26<31:15, 11.80s/it]"
     ]
    },
    {
     "name": "stdout",
     "output_type": "stream",
     "text": [
      "SARIMA : (0, 1, 0) (0, 0, 2, 24), aic : 454616.3088103208, best aic : 454616.3088103208\n",
      "SARIMA : (0, 1, 0) (0, 0, 2, 24), mae : 173.23358418664162, best mae : 172.24097815764483\n"
     ]
    },
    {
     "name": "stderr",
     "output_type": "stream",
     "text": [
      "\r",
      "  2%|▏         | 4/162 [00:27<19:33,  7.42s/it]"
     ]
    },
    {
     "name": "stdout",
     "output_type": "stream",
     "text": [
      "SARIMA : (0, 1, 0) (0, 1, 0, 24), aic : 474755.27020586946, best aic : 454616.3088103208\n",
      "SARIMA : (0, 1, 0) (0, 1, 0, 24), mae : 3718.861704653352, best mae : 172.24097815764483\n"
     ]
    },
    {
     "name": "stderr",
     "output_type": "stream",
     "text": [
      "\r",
      "  3%|▎         | 5/162 [01:20<1:02:21, 23.83s/it]"
     ]
    },
    {
     "name": "stdout",
     "output_type": "stream",
     "text": [
      "SARIMA : (0, 1, 0) (0, 1, 1, 24), aic : 451847.7508294589, best aic : 451847.7508294589\n",
      "SARIMA : (0, 1, 0) (0, 1, 1, 24), mae : 651.1955611800413, best mae : 172.24097815764483\n"
     ]
    },
    {
     "name": "stderr",
     "output_type": "stream",
     "text": [
      "\r",
      "  4%|▎         | 6/162 [07:38<6:15:22, 144.38s/it]"
     ]
    },
    {
     "name": "stdout",
     "output_type": "stream",
     "text": [
      "except\n"
     ]
    }
   ],
   "source": [
    "freq = 24\n",
    "p_range, q_range, ps_range, ds_range, qs_range = range(0,3), range(0,3), range(0,3), range(0,2), range(0,3)\n",
    "SARIMA_orders = [(x[0], x[1], x[2], x[3], x[4]) for x in list(product(p_range, q_range, ps_range, ds_range, qs_range))]\n",
    "\n",
    "cnt, best_aic = 0, ' '\n",
    "\n",
    "for p, q, ps, ds, qs in tqdm(SARIMA_orders):\n",
    "    cnt += 1\n",
    "    try:\n",
    "        model = sm.tsa.SARIMAX(data_tr, order=(p,1,q), seasonal_order=(ps,ds,qs,freq))\n",
    "        model_fit = model.fit(low_memory=True)\n",
    "        \n",
    "        forecast = pd.DataFrame(model_fit.predict(start=35060, end=35060+8423))\n",
    "        forecast.reset_index(drop=True, inplace=True)\n",
    "        forecast['datetime'] = data_ts['datetime']\n",
    "        forecast['original'] = data_ts.적산차\n",
    "        \n",
    "        mae = mean_absolute_error(forecast['original'], forecast['predicted_mean'])\n",
    "        \n",
    "        if cnt == 1:\n",
    "            best_aic = model_fit.aic\n",
    "            best_mae = mae\n",
    "\n",
    "        if best_aic > model_fit.aic:\n",
    "            best_aic, best_aic_p, best_aic_q, best_aic_ps, best_aic_ds, best_aic_qs = model_fit.aic, p, q, ps, ds, qs       \n",
    "        if best_mae > mae:\n",
    "            best_mae, best_mae_p, best_mae_q, best_mae_ps, best_mae_ds, best_aic_qs = mae, p, q, ps, ds, qs\n",
    "            \n",
    "        print(f'SARIMA : ({p}, 1, {q}) ({ps}, {ds}, {qs}, 24), aic : {model_fit.aic}, best aic : {best_aic}')\n",
    "        print(f'SARIMA : ({p}, 1, {q}) ({ps}, {ds}, {qs}, 24), mae : {mae}, best mae : {best_mae}')\n",
    "        \n",
    "    except:\n",
    "        print('except')\n",
    "        continue"
   ]
  },
  {
   "cell_type": "code",
   "execution_count": 56,
   "id": "407a3604",
   "metadata": {},
   "outputs": [
    {
     "name": "stdout",
     "output_type": "stream",
     "text": [
      "best_aic, best_p, best_q, best_ps, best_qs, best_ds : 435467.6900922014, 0, 3, 0, 1\n"
     ]
    }
   ],
   "source": [
    "# best parameter\n",
    "print('best_aic, best_p, best_q, best_ps, best_qs, best_ds : {}, {}, {}, {}, {}, {}'.format(best_aic, best_aic_p, best_aic_q, best_aic_ps, best_aic_ds, best_aic_qs))\n",
    "print('best_mae, best_p, best_q, best_ps, best_qs, best_ds : {}, {}, {}, {}, {}, {}'.format(best_mae, best_mae_p, best_mae_q, best_mae_ps, best_mae_ds, best_mae_qs))"
   ]
  },
  {
   "cell_type": "code",
   "execution_count": 57,
   "id": "994de5f4",
   "metadata": {},
   "outputs": [
    {
     "name": "stderr",
     "output_type": "stream",
     "text": [
      "100%|██████████| 8425/8425 [39:49<00:00,  3.53it/s]\n"
     ]
    },
    {
     "data": {
      "text/html": [
       "<div>\n",
       "<style scoped>\n",
       "    .dataframe tbody tr th:only-of-type {\n",
       "        vertical-align: middle;\n",
       "    }\n",
       "\n",
       "    .dataframe tbody tr th {\n",
       "        vertical-align: top;\n",
       "    }\n",
       "\n",
       "    .dataframe thead th {\n",
       "        text-align: right;\n",
       "    }\n",
       "</style>\n",
       "<table border=\"1\" class=\"dataframe\">\n",
       "  <thead>\n",
       "    <tr style=\"text-align: right;\">\n",
       "      <th></th>\n",
       "      <th>datetime</th>\n",
       "      <th>h0</th>\n",
       "      <th>h1</th>\n",
       "      <th>h2</th>\n",
       "      <th>h3</th>\n",
       "      <th>h4</th>\n",
       "      <th>h5</th>\n",
       "      <th>h6</th>\n",
       "      <th>h7</th>\n",
       "      <th>h8</th>\n",
       "      <th>...</th>\n",
       "      <th>h326</th>\n",
       "      <th>h327</th>\n",
       "      <th>h328</th>\n",
       "      <th>h329</th>\n",
       "      <th>h330</th>\n",
       "      <th>h331</th>\n",
       "      <th>h332</th>\n",
       "      <th>h333</th>\n",
       "      <th>h334</th>\n",
       "      <th>h335</th>\n",
       "    </tr>\n",
       "  </thead>\n",
       "  <tbody>\n",
       "    <tr>\n",
       "      <th>0</th>\n",
       "      <td>2021-01-01 00:00:00</td>\n",
       "      <td>158.032064</td>\n",
       "      <td>157.551861</td>\n",
       "      <td>142.342620</td>\n",
       "      <td>104.567033</td>\n",
       "      <td>81.522846</td>\n",
       "      <td>56.174813</td>\n",
       "      <td>57.379275</td>\n",
       "      <td>76.936198</td>\n",
       "      <td>211.620380</td>\n",
       "      <td>...</td>\n",
       "      <td>314.422224</td>\n",
       "      <td>291.300444</td>\n",
       "      <td>253.485179</td>\n",
       "      <td>267.468139</td>\n",
       "      <td>268.479444</td>\n",
       "      <td>368.678214</td>\n",
       "      <td>415.541451</td>\n",
       "      <td>432.171911</td>\n",
       "      <td>356.590462</td>\n",
       "      <td>225.596864</td>\n",
       "    </tr>\n",
       "    <tr>\n",
       "      <th>1</th>\n",
       "      <td>2021-01-01 01:00:00</td>\n",
       "      <td>157.551861</td>\n",
       "      <td>142.342620</td>\n",
       "      <td>104.567033</td>\n",
       "      <td>81.522846</td>\n",
       "      <td>56.174813</td>\n",
       "      <td>57.379275</td>\n",
       "      <td>76.936198</td>\n",
       "      <td>211.620380</td>\n",
       "      <td>323.363769</td>\n",
       "      <td>...</td>\n",
       "      <td>291.300444</td>\n",
       "      <td>253.485179</td>\n",
       "      <td>267.468139</td>\n",
       "      <td>268.479444</td>\n",
       "      <td>368.678214</td>\n",
       "      <td>415.541451</td>\n",
       "      <td>432.171911</td>\n",
       "      <td>356.590462</td>\n",
       "      <td>225.596864</td>\n",
       "      <td>187.248074</td>\n",
       "    </tr>\n",
       "    <tr>\n",
       "      <th>2</th>\n",
       "      <td>2021-01-01 02:00:00</td>\n",
       "      <td>142.342620</td>\n",
       "      <td>104.567033</td>\n",
       "      <td>81.522846</td>\n",
       "      <td>56.174813</td>\n",
       "      <td>57.379275</td>\n",
       "      <td>76.936198</td>\n",
       "      <td>211.620380</td>\n",
       "      <td>323.363769</td>\n",
       "      <td>338.758991</td>\n",
       "      <td>...</td>\n",
       "      <td>253.485179</td>\n",
       "      <td>267.468139</td>\n",
       "      <td>268.479444</td>\n",
       "      <td>368.678214</td>\n",
       "      <td>415.541451</td>\n",
       "      <td>432.171911</td>\n",
       "      <td>356.590462</td>\n",
       "      <td>225.596864</td>\n",
       "      <td>187.248074</td>\n",
       "      <td>164.301337</td>\n",
       "    </tr>\n",
       "    <tr>\n",
       "      <th>3</th>\n",
       "      <td>2021-01-01 03:00:00</td>\n",
       "      <td>104.567033</td>\n",
       "      <td>81.522846</td>\n",
       "      <td>56.174813</td>\n",
       "      <td>57.379275</td>\n",
       "      <td>76.936198</td>\n",
       "      <td>211.620380</td>\n",
       "      <td>323.363769</td>\n",
       "      <td>338.758991</td>\n",
       "      <td>352.005806</td>\n",
       "      <td>...</td>\n",
       "      <td>267.468139</td>\n",
       "      <td>268.479444</td>\n",
       "      <td>368.678214</td>\n",
       "      <td>415.541451</td>\n",
       "      <td>432.171911</td>\n",
       "      <td>356.590462</td>\n",
       "      <td>225.596864</td>\n",
       "      <td>187.248074</td>\n",
       "      <td>164.301337</td>\n",
       "      <td>143.110272</td>\n",
       "    </tr>\n",
       "    <tr>\n",
       "      <th>4</th>\n",
       "      <td>2021-01-01 04:00:00</td>\n",
       "      <td>81.522846</td>\n",
       "      <td>56.174813</td>\n",
       "      <td>57.379275</td>\n",
       "      <td>76.936198</td>\n",
       "      <td>211.620380</td>\n",
       "      <td>323.363769</td>\n",
       "      <td>338.758991</td>\n",
       "      <td>352.005806</td>\n",
       "      <td>359.577945</td>\n",
       "      <td>...</td>\n",
       "      <td>268.479444</td>\n",
       "      <td>368.678214</td>\n",
       "      <td>415.541451</td>\n",
       "      <td>432.171911</td>\n",
       "      <td>356.590462</td>\n",
       "      <td>225.596864</td>\n",
       "      <td>187.248074</td>\n",
       "      <td>164.301337</td>\n",
       "      <td>143.110272</td>\n",
       "      <td>103.741922</td>\n",
       "    </tr>\n",
       "  </tbody>\n",
       "</table>\n",
       "<p>5 rows × 337 columns</p>\n",
       "</div>"
      ],
      "text/plain": [
       "              datetime          h0          h1          h2          h3  \\\n",
       "0  2021-01-01 00:00:00  158.032064  157.551861  142.342620  104.567033   \n",
       "1  2021-01-01 01:00:00  157.551861  142.342620  104.567033   81.522846   \n",
       "2  2021-01-01 02:00:00  142.342620  104.567033   81.522846   56.174813   \n",
       "3  2021-01-01 03:00:00  104.567033   81.522846   56.174813   57.379275   \n",
       "4  2021-01-01 04:00:00   81.522846   56.174813   57.379275   76.936198   \n",
       "\n",
       "           h4          h5          h6          h7          h8  ...  \\\n",
       "0   81.522846   56.174813   57.379275   76.936198  211.620380  ...   \n",
       "1   56.174813   57.379275   76.936198  211.620380  323.363769  ...   \n",
       "2   57.379275   76.936198  211.620380  323.363769  338.758991  ...   \n",
       "3   76.936198  211.620380  323.363769  338.758991  352.005806  ...   \n",
       "4  211.620380  323.363769  338.758991  352.005806  359.577945  ...   \n",
       "\n",
       "         h326        h327        h328        h329        h330        h331  \\\n",
       "0  314.422224  291.300444  253.485179  267.468139  268.479444  368.678214   \n",
       "1  291.300444  253.485179  267.468139  268.479444  368.678214  415.541451   \n",
       "2  253.485179  267.468139  268.479444  368.678214  415.541451  432.171911   \n",
       "3  267.468139  268.479444  368.678214  415.541451  432.171911  356.590462   \n",
       "4  268.479444  368.678214  415.541451  432.171911  356.590462  225.596864   \n",
       "\n",
       "         h332        h333        h334        h335  \n",
       "0  415.541451  432.171911  356.590462  225.596864  \n",
       "1  432.171911  356.590462  225.596864  187.248074  \n",
       "2  356.590462  225.596864  187.248074  164.301337  \n",
       "3  225.596864  187.248074  164.301337  143.110272  \n",
       "4  187.248074  164.301337  143.110272  103.741922  \n",
       "\n",
       "[5 rows x 337 columns]"
      ]
     },
     "execution_count": 57,
     "metadata": {},
     "output_type": "execute_result"
    }
   ],
   "source": [
    "model = sm.tsa.SARIMAX(data_tr, order=(p,1,q), seasonal_order=(ps,ds,qs,24))\n",
    "model_fit = model.fit()\n",
    "\n",
    "for i, start in enumerate(tqdm(data_sample.index)):\n",
    "    start = 35060+start\n",
    "    end = start+335\n",
    "\n",
    "    forecast = pd.DataFrame(model_fit.predict(start=start, end=end))\n",
    "    data_sample.loc[i] = [data_sample['datetime'].loc[i]] + list(forecast['predicted_mean'])\n",
    "\n",
    "data_sample.head()"
   ]
  },
  {
   "cell_type": "code",
   "execution_count": 58,
   "id": "a7de64e9",
   "metadata": {},
   "outputs": [],
   "source": [
    "data_sample.to_csv('./t1_data_city/submission_SARIMA.csv', index=False)"
   ]
  },
  {
   "cell_type": "code",
   "execution_count": null,
   "id": "cc1a72ca",
   "metadata": {},
   "outputs": [],
   "source": []
  },
  {
   "cell_type": "code",
   "execution_count": null,
   "id": "2f2e8fac",
   "metadata": {},
   "outputs": [],
   "source": [
    "m1 = pm.auto_arima(data_tr, stepwise=True, error_action='ignore', seasonal=True, m=24*365)"
   ]
  },
  {
   "cell_type": "code",
   "execution_count": null,
   "id": "f872235e",
   "metadata": {},
   "outputs": [],
   "source": []
  },
  {
   "cell_type": "code",
   "execution_count": null,
   "id": "290caadb",
   "metadata": {},
   "outputs": [],
   "source": []
  },
  {
   "cell_type": "code",
   "execution_count": null,
   "id": "280f43f6",
   "metadata": {},
   "outputs": [],
   "source": []
  }
 ],
 "metadata": {
  "kernelspec": {
   "display_name": "Python 3 (ipykernel)",
   "language": "python",
   "name": "python3"
  },
  "language_info": {
   "codemirror_mode": {
    "name": "ipython",
    "version": 3
   },
   "file_extension": ".py",
   "mimetype": "text/x-python",
   "name": "python",
   "nbconvert_exporter": "python",
   "pygments_lexer": "ipython3",
   "version": "3.7.15"
  }
 },
 "nbformat": 4,
 "nbformat_minor": 5
}
