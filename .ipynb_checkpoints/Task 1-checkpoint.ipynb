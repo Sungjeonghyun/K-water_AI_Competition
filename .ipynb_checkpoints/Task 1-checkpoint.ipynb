{
 "cells": [
  {
   "cell_type": "code",
   "execution_count": 1,
   "id": "046d6316",
   "metadata": {},
   "outputs": [
    {
     "name": "stdout",
     "output_type": "stream",
     "text": [
      "Requirement already satisfied: pandas in c:\\users\\sajah\\anaconda3\\envs\\py39\\lib\\site-packages (1.4.3)\n",
      "Requirement already satisfied: numpy>=1.18.5 in c:\\users\\sajah\\anaconda3\\envs\\py39\\lib\\site-packages (from pandas) (1.23.1)\n",
      "Requirement already satisfied: pytz>=2020.1 in c:\\users\\sajah\\anaconda3\\envs\\py39\\lib\\site-packages (from pandas) (2022.1)\n",
      "Requirement already satisfied: python-dateutil>=2.8.1 in c:\\users\\sajah\\anaconda3\\envs\\py39\\lib\\site-packages (from pandas) (2.8.2)\n",
      "Requirement already satisfied: six>=1.5 in c:\\users\\sajah\\anaconda3\\envs\\py39\\lib\\site-packages (from python-dateutil>=2.8.1->pandas) (1.16.0)\n"
     ]
    },
    {
     "name": "stderr",
     "output_type": "stream",
     "text": [
      "WARNING: Ignoring invalid distribution -atplotlib (c:\\users\\sajah\\anaconda3\\envs\\py39\\lib\\site-packages)\n",
      "WARNING: Ignoring invalid distribution -atplotlib (c:\\users\\sajah\\anaconda3\\envs\\py39\\lib\\site-packages)\n",
      "WARNING: Ignoring invalid distribution -atplotlib (c:\\users\\sajah\\anaconda3\\envs\\py39\\lib\\site-packages)\n",
      "WARNING: Ignoring invalid distribution -atplotlib (c:\\users\\sajah\\anaconda3\\envs\\py39\\lib\\site-packages)\n",
      "WARNING: Ignoring invalid distribution -atplotlib (c:\\users\\sajah\\anaconda3\\envs\\py39\\lib\\site-packages)\n",
      "WARNING: Ignoring invalid distribution -atplotlib (c:\\users\\sajah\\anaconda3\\envs\\py39\\lib\\site-packages)\n"
     ]
    },
    {
     "name": "stdout",
     "output_type": "stream",
     "text": [
      "Requirement already satisfied: numpy in c:\\users\\sajah\\anaconda3\\envs\\py39\\lib\\site-packages (1.23.1)\n"
     ]
    },
    {
     "name": "stderr",
     "output_type": "stream",
     "text": [
      "WARNING: Ignoring invalid distribution -atplotlib (c:\\users\\sajah\\anaconda3\\envs\\py39\\lib\\site-packages)\n",
      "WARNING: Ignoring invalid distribution -atplotlib (c:\\users\\sajah\\anaconda3\\envs\\py39\\lib\\site-packages)\n",
      "WARNING: Ignoring invalid distribution -atplotlib (c:\\users\\sajah\\anaconda3\\envs\\py39\\lib\\site-packages)\n",
      "WARNING: Ignoring invalid distribution -atplotlib (c:\\users\\sajah\\anaconda3\\envs\\py39\\lib\\site-packages)\n",
      "WARNING: Ignoring invalid distribution -atplotlib (c:\\users\\sajah\\anaconda3\\envs\\py39\\lib\\site-packages)\n",
      "WARNING: Ignoring invalid distribution -atplotlib (c:\\users\\sajah\\anaconda3\\envs\\py39\\lib\\site-packages)\n"
     ]
    },
    {
     "name": "stdout",
     "output_type": "stream",
     "text": [
      "Requirement already satisfied: scipy in c:\\users\\sajah\\anaconda3\\envs\\py39\\lib\\site-packages (1.9.0)\n",
      "Requirement already satisfied: numpy<1.25.0,>=1.18.5 in c:\\users\\sajah\\anaconda3\\envs\\py39\\lib\\site-packages (from scipy) (1.23.1)\n"
     ]
    },
    {
     "name": "stderr",
     "output_type": "stream",
     "text": [
      "WARNING: Ignoring invalid distribution -atplotlib (c:\\users\\sajah\\anaconda3\\envs\\py39\\lib\\site-packages)\n",
      "WARNING: Ignoring invalid distribution -atplotlib (c:\\users\\sajah\\anaconda3\\envs\\py39\\lib\\site-packages)\n",
      "WARNING: Ignoring invalid distribution -atplotlib (c:\\users\\sajah\\anaconda3\\envs\\py39\\lib\\site-packages)\n",
      "WARNING: Ignoring invalid distribution -atplotlib (c:\\users\\sajah\\anaconda3\\envs\\py39\\lib\\site-packages)\n",
      "WARNING: Ignoring invalid distribution -atplotlib (c:\\users\\sajah\\anaconda3\\envs\\py39\\lib\\site-packages)\n",
      "WARNING: Ignoring invalid distribution -atplotlib (c:\\users\\sajah\\anaconda3\\envs\\py39\\lib\\site-packages)\n"
     ]
    },
    {
     "name": "stdout",
     "output_type": "stream",
     "text": [
      "Requirement already satisfied: matplotlib in c:\\users\\sajah\\anaconda3\\envs\\py39\\lib\\site-packages (3.5.2)\n",
      "Requirement already satisfied: cycler>=0.10 in c:\\users\\sajah\\anaconda3\\envs\\py39\\lib\\site-packages (from matplotlib) (0.11.0)\n",
      "Requirement already satisfied: pyparsing>=2.2.1 in c:\\users\\sajah\\anaconda3\\envs\\py39\\lib\\site-packages (from matplotlib) (3.0.4)\n",
      "Requirement already satisfied: packaging>=20.0 in c:\\users\\sajah\\anaconda3\\envs\\py39\\lib\\site-packages (from matplotlib) (21.3)\n",
      "Requirement already satisfied: kiwisolver>=1.0.1 in c:\\users\\sajah\\anaconda3\\envs\\py39\\lib\\site-packages (from matplotlib) (1.4.4)\n",
      "Requirement already satisfied: python-dateutil>=2.7 in c:\\users\\sajah\\anaconda3\\envs\\py39\\lib\\site-packages (from matplotlib) (2.8.2)\n",
      "Requirement already satisfied: pillow>=6.2.0 in c:\\users\\sajah\\anaconda3\\envs\\py39\\lib\\site-packages (from matplotlib) (9.2.0)\n",
      "Requirement already satisfied: fonttools>=4.22.0 in c:\\users\\sajah\\anaconda3\\envs\\py39\\lib\\site-packages (from matplotlib) (4.34.4)\n",
      "Requirement already satisfied: numpy>=1.17 in c:\\users\\sajah\\anaconda3\\envs\\py39\\lib\\site-packages (from matplotlib) (1.23.1)\n",
      "Requirement already satisfied: six>=1.5 in c:\\users\\sajah\\anaconda3\\envs\\py39\\lib\\site-packages (from python-dateutil>=2.7->matplotlib) (1.16.0)\n"
     ]
    },
    {
     "name": "stderr",
     "output_type": "stream",
     "text": [
      "WARNING: Ignoring invalid distribution -atplotlib (c:\\users\\sajah\\anaconda3\\envs\\py39\\lib\\site-packages)\n",
      "WARNING: Ignoring invalid distribution -atplotlib (c:\\users\\sajah\\anaconda3\\envs\\py39\\lib\\site-packages)\n",
      "WARNING: Ignoring invalid distribution -atplotlib (c:\\users\\sajah\\anaconda3\\envs\\py39\\lib\\site-packages)\n",
      "WARNING: Ignoring invalid distribution -atplotlib (c:\\users\\sajah\\anaconda3\\envs\\py39\\lib\\site-packages)\n",
      "WARNING: Ignoring invalid distribution -atplotlib (c:\\users\\sajah\\anaconda3\\envs\\py39\\lib\\site-packages)\n",
      "WARNING: Ignoring invalid distribution -atplotlib (c:\\users\\sajah\\anaconda3\\envs\\py39\\lib\\site-packages)\n"
     ]
    },
    {
     "name": "stdout",
     "output_type": "stream",
     "text": [
      "Requirement already satisfied: seaborn in c:\\users\\sajah\\anaconda3\\envs\\py39\\lib\\site-packages (0.11.2)\n",
      "Requirement already satisfied: scipy>=1.0 in c:\\users\\sajah\\anaconda3\\envs\\py39\\lib\\site-packages (from seaborn) (1.9.0)\n",
      "Requirement already satisfied: numpy>=1.15 in c:\\users\\sajah\\anaconda3\\envs\\py39\\lib\\site-packages (from seaborn) (1.23.1)\n",
      "Requirement already satisfied: pandas>=0.23 in c:\\users\\sajah\\anaconda3\\envs\\py39\\lib\\site-packages (from seaborn) (1.4.3)\n",
      "Requirement already satisfied: matplotlib>=2.2 in c:\\users\\sajah\\anaconda3\\envs\\py39\\lib\\site-packages (from seaborn) (3.5.2)\n",
      "Requirement already satisfied: cycler>=0.10 in c:\\users\\sajah\\anaconda3\\envs\\py39\\lib\\site-packages (from matplotlib>=2.2->seaborn) (0.11.0)\n",
      "Requirement already satisfied: pyparsing>=2.2.1 in c:\\users\\sajah\\anaconda3\\envs\\py39\\lib\\site-packages (from matplotlib>=2.2->seaborn) (3.0.4)\n",
      "Requirement already satisfied: fonttools>=4.22.0 in c:\\users\\sajah\\anaconda3\\envs\\py39\\lib\\site-packages (from matplotlib>=2.2->seaborn) (4.34.4)\n",
      "Requirement already satisfied: packaging>=20.0 in c:\\users\\sajah\\anaconda3\\envs\\py39\\lib\\site-packages (from matplotlib>=2.2->seaborn) (21.3)\n",
      "Requirement already satisfied: python-dateutil>=2.7 in c:\\users\\sajah\\anaconda3\\envs\\py39\\lib\\site-packages (from matplotlib>=2.2->seaborn) (2.8.2)\n",
      "Requirement already satisfied: kiwisolver>=1.0.1 in c:\\users\\sajah\\anaconda3\\envs\\py39\\lib\\site-packages (from matplotlib>=2.2->seaborn) (1.4.4)\n",
      "Requirement already satisfied: pillow>=6.2.0 in c:\\users\\sajah\\anaconda3\\envs\\py39\\lib\\site-packages (from matplotlib>=2.2->seaborn) (9.2.0)\n",
      "Requirement already satisfied: pytz>=2020.1 in c:\\users\\sajah\\anaconda3\\envs\\py39\\lib\\site-packages (from pandas>=0.23->seaborn) (2022.1)\n",
      "Requirement already satisfied: six>=1.5 in c:\\users\\sajah\\anaconda3\\envs\\py39\\lib\\site-packages (from python-dateutil>=2.7->matplotlib>=2.2->seaborn) (1.16.0)\n"
     ]
    },
    {
     "name": "stderr",
     "output_type": "stream",
     "text": [
      "WARNING: Ignoring invalid distribution -atplotlib (c:\\users\\sajah\\anaconda3\\envs\\py39\\lib\\site-packages)\n",
      "WARNING: Ignoring invalid distribution -atplotlib (c:\\users\\sajah\\anaconda3\\envs\\py39\\lib\\site-packages)\n",
      "WARNING: Ignoring invalid distribution -atplotlib (c:\\users\\sajah\\anaconda3\\envs\\py39\\lib\\site-packages)\n",
      "WARNING: Ignoring invalid distribution -atplotlib (c:\\users\\sajah\\anaconda3\\envs\\py39\\lib\\site-packages)\n",
      "WARNING: Ignoring invalid distribution -atplotlib (c:\\users\\sajah\\anaconda3\\envs\\py39\\lib\\site-packages)\n",
      "WARNING: Ignoring invalid distribution -atplotlib (c:\\users\\sajah\\anaconda3\\envs\\py39\\lib\\site-packages)\n"
     ]
    },
    {
     "name": "stdout",
     "output_type": "stream",
     "text": [
      "Requirement already satisfied: statsmodels in c:\\users\\sajah\\anaconda3\\envs\\py39\\lib\\site-packages (0.13.2)\n",
      "Requirement already satisfied: patsy>=0.5.2 in c:\\users\\sajah\\anaconda3\\envs\\py39\\lib\\site-packages (from statsmodels) (0.5.2)\n",
      "Requirement already satisfied: numpy>=1.17 in c:\\users\\sajah\\anaconda3\\envs\\py39\\lib\\site-packages (from statsmodels) (1.23.1)\n",
      "Requirement already satisfied: packaging>=21.3 in c:\\users\\sajah\\anaconda3\\envs\\py39\\lib\\site-packages (from statsmodels) (21.3)\n",
      "Requirement already satisfied: scipy>=1.3 in c:\\users\\sajah\\anaconda3\\envs\\py39\\lib\\site-packages (from statsmodels) (1.9.0)\n",
      "Requirement already satisfied: pandas>=0.25 in c:\\users\\sajah\\anaconda3\\envs\\py39\\lib\\site-packages (from statsmodels) (1.4.3)\n",
      "Requirement already satisfied: pyparsing!=3.0.5,>=2.0.2 in c:\\users\\sajah\\anaconda3\\envs\\py39\\lib\\site-packages (from packaging>=21.3->statsmodels) (3.0.4)\n",
      "Requirement already satisfied: python-dateutil>=2.8.1 in c:\\users\\sajah\\anaconda3\\envs\\py39\\lib\\site-packages (from pandas>=0.25->statsmodels) (2.8.2)\n",
      "Requirement already satisfied: pytz>=2020.1 in c:\\users\\sajah\\anaconda3\\envs\\py39\\lib\\site-packages (from pandas>=0.25->statsmodels) (2022.1)\n",
      "Requirement already satisfied: six in c:\\users\\sajah\\anaconda3\\envs\\py39\\lib\\site-packages (from patsy>=0.5.2->statsmodels) (1.16.0)\n"
     ]
    },
    {
     "name": "stderr",
     "output_type": "stream",
     "text": [
      "WARNING: Ignoring invalid distribution -atplotlib (c:\\users\\sajah\\anaconda3\\envs\\py39\\lib\\site-packages)\n",
      "WARNING: Ignoring invalid distribution -atplotlib (c:\\users\\sajah\\anaconda3\\envs\\py39\\lib\\site-packages)\n",
      "WARNING: Ignoring invalid distribution -atplotlib (c:\\users\\sajah\\anaconda3\\envs\\py39\\lib\\site-packages)\n",
      "WARNING: Ignoring invalid distribution -atplotlib (c:\\users\\sajah\\anaconda3\\envs\\py39\\lib\\site-packages)\n",
      "WARNING: Ignoring invalid distribution -atplotlib (c:\\users\\sajah\\anaconda3\\envs\\py39\\lib\\site-packages)\n",
      "WARNING: Ignoring invalid distribution -atplotlib (c:\\users\\sajah\\anaconda3\\envs\\py39\\lib\\site-packages)\n"
     ]
    },
    {
     "name": "stdout",
     "output_type": "stream",
     "text": [
      "Requirement already satisfied: prophet in c:\\users\\sajah\\anaconda3\\envs\\py39\\lib\\site-packages (1.1.1)\n",
      "Requirement already satisfied: pandas>=1.0.4 in c:\\users\\sajah\\anaconda3\\envs\\py39\\lib\\site-packages (from prophet) (1.4.3)\n",
      "Requirement already satisfied: python-dateutil>=2.8.0 in c:\\users\\sajah\\anaconda3\\envs\\py39\\lib\\site-packages (from prophet) (2.8.2)\n",
      "Requirement already satisfied: convertdate>=2.1.2 in c:\\users\\sajah\\anaconda3\\envs\\py39\\lib\\site-packages (from prophet) (2.4.0)\n",
      "Requirement already satisfied: holidays>=0.14.2 in c:\\users\\sajah\\anaconda3\\envs\\py39\\lib\\site-packages (from prophet) (0.17)\n",
      "Requirement already satisfied: numpy>=1.15.4 in c:\\users\\sajah\\anaconda3\\envs\\py39\\lib\\site-packages (from prophet) (1.23.1)\n",
      "Requirement already satisfied: wheel>=0.37.0 in c:\\users\\sajah\\anaconda3\\envs\\py39\\lib\\site-packages (from prophet) (0.37.1)\n",
      "Requirement already satisfied: LunarCalendar>=0.0.9 in c:\\users\\sajah\\anaconda3\\envs\\py39\\lib\\site-packages (from prophet) (0.0.9)\n",
      "Requirement already satisfied: matplotlib>=2.0.0 in c:\\users\\sajah\\anaconda3\\envs\\py39\\lib\\site-packages (from prophet) (3.5.2)\n",
      "Requirement already satisfied: cmdstanpy>=1.0.4 in c:\\users\\sajah\\anaconda3\\envs\\py39\\lib\\site-packages (from prophet) (1.0.8)\n",
      "Requirement already satisfied: tqdm>=4.36.1 in c:\\users\\sajah\\anaconda3\\envs\\py39\\lib\\site-packages (from prophet) (4.64.0)\n",
      "Requirement already satisfied: setuptools-git>=1.2 in c:\\users\\sajah\\anaconda3\\envs\\py39\\lib\\site-packages (from prophet) (1.2)\n",
      "Requirement already satisfied: setuptools>=42 in c:\\users\\sajah\\anaconda3\\envs\\py39\\lib\\site-packages (from prophet) (61.2.0)\n",
      "Requirement already satisfied: pymeeus<=1,>=0.3.13 in c:\\users\\sajah\\anaconda3\\envs\\py39\\lib\\site-packages (from convertdate>=2.1.2->prophet) (0.5.11)\n",
      "Requirement already satisfied: hijri-converter in c:\\users\\sajah\\anaconda3\\envs\\py39\\lib\\site-packages (from holidays>=0.14.2->prophet) (2.2.4)\n",
      "Requirement already satisfied: korean-lunar-calendar in c:\\users\\sajah\\anaconda3\\envs\\py39\\lib\\site-packages (from holidays>=0.14.2->prophet) (0.3.1)\n",
      "Requirement already satisfied: ephem>=3.7.5.3 in c:\\users\\sajah\\anaconda3\\envs\\py39\\lib\\site-packages (from LunarCalendar>=0.0.9->prophet) (4.1.3)\n",
      "Requirement already satisfied: pytz in c:\\users\\sajah\\anaconda3\\envs\\py39\\lib\\site-packages (from LunarCalendar>=0.0.9->prophet) (2022.1)\n",
      "Requirement already satisfied: fonttools>=4.22.0 in c:\\users\\sajah\\anaconda3\\envs\\py39\\lib\\site-packages (from matplotlib>=2.0.0->prophet) (4.34.4)\n",
      "Requirement already satisfied: pyparsing>=2.2.1 in c:\\users\\sajah\\anaconda3\\envs\\py39\\lib\\site-packages (from matplotlib>=2.0.0->prophet) (3.0.4)\n",
      "Requirement already satisfied: packaging>=20.0 in c:\\users\\sajah\\anaconda3\\envs\\py39\\lib\\site-packages (from matplotlib>=2.0.0->prophet) (21.3)\n",
      "Requirement already satisfied: kiwisolver>=1.0.1 in c:\\users\\sajah\\anaconda3\\envs\\py39\\lib\\site-packages (from matplotlib>=2.0.0->prophet) (1.4.4)\n",
      "Requirement already satisfied: cycler>=0.10 in c:\\users\\sajah\\anaconda3\\envs\\py39\\lib\\site-packages (from matplotlib>=2.0.0->prophet) (0.11.0)\n",
      "Requirement already satisfied: pillow>=6.2.0 in c:\\users\\sajah\\anaconda3\\envs\\py39\\lib\\site-packages (from matplotlib>=2.0.0->prophet) (9.2.0)\n",
      "Requirement already satisfied: six>=1.5 in c:\\users\\sajah\\anaconda3\\envs\\py39\\lib\\site-packages (from python-dateutil>=2.8.0->prophet) (1.16.0)\n",
      "Requirement already satisfied: colorama in c:\\users\\sajah\\anaconda3\\envs\\py39\\lib\\site-packages (from tqdm>=4.36.1->prophet) (0.4.5)\n"
     ]
    },
    {
     "name": "stderr",
     "output_type": "stream",
     "text": [
      "WARNING: Ignoring invalid distribution -atplotlib (c:\\users\\sajah\\anaconda3\\envs\\py39\\lib\\site-packages)\n",
      "WARNING: Ignoring invalid distribution -atplotlib (c:\\users\\sajah\\anaconda3\\envs\\py39\\lib\\site-packages)\n",
      "WARNING: Ignoring invalid distribution -atplotlib (c:\\users\\sajah\\anaconda3\\envs\\py39\\lib\\site-packages)\n",
      "WARNING: Ignoring invalid distribution -atplotlib (c:\\users\\sajah\\anaconda3\\envs\\py39\\lib\\site-packages)\n",
      "WARNING: Ignoring invalid distribution -atplotlib (c:\\users\\sajah\\anaconda3\\envs\\py39\\lib\\site-packages)\n",
      "WARNING: Ignoring invalid distribution -atplotlib (c:\\users\\sajah\\anaconda3\\envs\\py39\\lib\\site-packages)\n"
     ]
    },
    {
     "name": "stdout",
     "output_type": "stream",
     "text": [
      "Requirement already satisfied: scikit-learn in c:\\users\\sajah\\anaconda3\\envs\\py39\\lib\\site-packages (1.1.1)\n",
      "Requirement already satisfied: threadpoolctl>=2.0.0 in c:\\users\\sajah\\anaconda3\\envs\\py39\\lib\\site-packages (from scikit-learn) (3.1.0)\n",
      "Requirement already satisfied: scipy>=1.3.2 in c:\\users\\sajah\\anaconda3\\envs\\py39\\lib\\site-packages (from scikit-learn) (1.9.0)\n",
      "Requirement already satisfied: joblib>=1.0.0 in c:\\users\\sajah\\anaconda3\\envs\\py39\\lib\\site-packages (from scikit-learn) (1.1.0)\n",
      "Requirement already satisfied: numpy>=1.17.3 in c:\\users\\sajah\\anaconda3\\envs\\py39\\lib\\site-packages (from scikit-learn) (1.23.1)\n"
     ]
    },
    {
     "name": "stderr",
     "output_type": "stream",
     "text": [
      "WARNING: Ignoring invalid distribution -atplotlib (c:\\users\\sajah\\anaconda3\\envs\\py39\\lib\\site-packages)\n",
      "WARNING: Ignoring invalid distribution -atplotlib (c:\\users\\sajah\\anaconda3\\envs\\py39\\lib\\site-packages)\n",
      "WARNING: Ignoring invalid distribution -atplotlib (c:\\users\\sajah\\anaconda3\\envs\\py39\\lib\\site-packages)\n",
      "WARNING: Ignoring invalid distribution -atplotlib (c:\\users\\sajah\\anaconda3\\envs\\py39\\lib\\site-packages)\n",
      "WARNING: Ignoring invalid distribution -atplotlib (c:\\users\\sajah\\anaconda3\\envs\\py39\\lib\\site-packages)\n",
      "WARNING: Ignoring invalid distribution -atplotlib (c:\\users\\sajah\\anaconda3\\envs\\py39\\lib\\site-packages)\n"
     ]
    }
   ],
   "source": [
    "!pip install pandas\n",
    "!pip install numpy\n",
    "!pip install scipy\n",
    "!pip install matplotlib\n",
    "!pip install seaborn\n",
    "!pip install statsmodels\n",
    "!pip install prophet\n",
    "!pip install scikit-learn"
   ]
  },
  {
   "cell_type": "code",
   "execution_count": 2,
   "id": "a0b159a8",
   "metadata": {},
   "outputs": [],
   "source": [
    "import warnings\n",
    "warnings.filterwarnings('ignore')\n",
    "\n",
    "import pandas as pd\n",
    "import numpy as np\n",
    "import datetime\n",
    "from scipy import interpolate\n",
    "import matplotlib.pyplot as plt\n",
    "plt.style.use('fivethirtyeight')\n",
    "%matplotlib inline\n",
    "from pylab import rcParams\n",
    "import seaborn as sns\n",
    "import statsmodels.api as sm\n",
    "from prophet import Prophet\n",
    "from statsmodels.graphics.tsaplots import plot_acf, plot_pacf\n",
    "from statsmodels.tsa.stattools import adfuller\n",
    "from statsmodels.tsa.arima_process import ArmaProcess\n",
    "from statsmodels.tsa.arima.model import ARIMA\n",
    "from statsmodels.graphics.tsaplots import plot_predict\n",
    "import math\n",
    "from tqdm import tqdm\n",
    "from sklearn.metrics import mean_squared_error\n",
    "from sklearn.metrics import mean_absolute_error\n",
    "\n",
    "plt.rc(\"font\", family=\"Malgun Gothic\")\n",
    "plt.rcParams['axes.unicode_minus'] = False"
   ]
  },
  {
   "cell_type": "markdown",
   "id": "a543e568",
   "metadata": {},
   "source": [
    "### 데이터 불러오기"
   ]
  },
  {
   "cell_type": "code",
   "execution_count": 3,
   "id": "b494ea4a",
   "metadata": {},
   "outputs": [
    {
     "data": {
      "text/html": [
       "<div>\n",
       "<style scoped>\n",
       "    .dataframe tbody tr th:only-of-type {\n",
       "        vertical-align: middle;\n",
       "    }\n",
       "\n",
       "    .dataframe tbody tr th {\n",
       "        vertical-align: top;\n",
       "    }\n",
       "\n",
       "    .dataframe thead th {\n",
       "        text-align: right;\n",
       "    }\n",
       "</style>\n",
       "<table border=\"1\" class=\"dataframe\">\n",
       "  <thead>\n",
       "    <tr style=\"text-align: right;\">\n",
       "      <th></th>\n",
       "      <th>datetime</th>\n",
       "      <th>구미 혁신도시배수지 유출유량 적산차</th>\n",
       "    </tr>\n",
       "  </thead>\n",
       "  <tbody>\n",
       "    <tr>\n",
       "      <th>0</th>\n",
       "      <td>2017-01-01 01:00:00</td>\n",
       "      <td>138.0</td>\n",
       "    </tr>\n",
       "    <tr>\n",
       "      <th>1</th>\n",
       "      <td>2017-01-01 02:00:00</td>\n",
       "      <td>237.0</td>\n",
       "    </tr>\n",
       "    <tr>\n",
       "      <th>2</th>\n",
       "      <td>2017-01-01 03:00:00</td>\n",
       "      <td>128.0</td>\n",
       "    </tr>\n",
       "    <tr>\n",
       "      <th>3</th>\n",
       "      <td>2017-01-01 04:00:00</td>\n",
       "      <td>14.0</td>\n",
       "    </tr>\n",
       "    <tr>\n",
       "      <th>4</th>\n",
       "      <td>2017-01-01 05:00:00</td>\n",
       "      <td>11.0</td>\n",
       "    </tr>\n",
       "    <tr>\n",
       "      <th>...</th>\n",
       "      <td>...</td>\n",
       "      <td>...</td>\n",
       "    </tr>\n",
       "    <tr>\n",
       "      <th>35058</th>\n",
       "      <td>2020-12-31 19:00:00</td>\n",
       "      <td>328.0</td>\n",
       "    </tr>\n",
       "    <tr>\n",
       "      <th>35059</th>\n",
       "      <td>2020-12-31 20:00:00</td>\n",
       "      <td>347.0</td>\n",
       "    </tr>\n",
       "    <tr>\n",
       "      <th>35060</th>\n",
       "      <td>2020-12-31 21:00:00</td>\n",
       "      <td>335.0</td>\n",
       "    </tr>\n",
       "    <tr>\n",
       "      <th>35061</th>\n",
       "      <td>2020-12-31 22:00:00</td>\n",
       "      <td>141.0</td>\n",
       "    </tr>\n",
       "    <tr>\n",
       "      <th>35062</th>\n",
       "      <td>2020-12-31 23:00:00</td>\n",
       "      <td>112.0</td>\n",
       "    </tr>\n",
       "  </tbody>\n",
       "</table>\n",
       "<p>35063 rows × 2 columns</p>\n",
       "</div>"
      ],
      "text/plain": [
       "                  datetime  구미 혁신도시배수지 유출유량 적산차\n",
       "0      2017-01-01 01:00:00                138.0\n",
       "1      2017-01-01 02:00:00                237.0\n",
       "2      2017-01-01 03:00:00                128.0\n",
       "3      2017-01-01 04:00:00                 14.0\n",
       "4      2017-01-01 05:00:00                 11.0\n",
       "...                    ...                  ...\n",
       "35058  2020-12-31 19:00:00                328.0\n",
       "35059  2020-12-31 20:00:00                347.0\n",
       "35060  2020-12-31 21:00:00                335.0\n",
       "35061  2020-12-31 22:00:00                141.0\n",
       "35062  2020-12-31 23:00:00                112.0\n",
       "\n",
       "[35063 rows x 2 columns]"
      ]
     },
     "execution_count": 3,
     "metadata": {},
     "output_type": "execute_result"
    }
   ],
   "source": [
    "# 학습 데이터\n",
    "data_tr = pd.read_csv('./data_city/data_tr_city.csv')\n",
    "data_tr"
   ]
  },
  {
   "cell_type": "code",
   "execution_count": 4,
   "id": "bb412a7e",
   "metadata": {},
   "outputs": [
    {
     "data": {
      "text/html": [
       "<div>\n",
       "<style scoped>\n",
       "    .dataframe tbody tr th:only-of-type {\n",
       "        vertical-align: middle;\n",
       "    }\n",
       "\n",
       "    .dataframe tbody tr th {\n",
       "        vertical-align: top;\n",
       "    }\n",
       "\n",
       "    .dataframe thead th {\n",
       "        text-align: right;\n",
       "    }\n",
       "</style>\n",
       "<table border=\"1\" class=\"dataframe\">\n",
       "  <thead>\n",
       "    <tr style=\"text-align: right;\">\n",
       "      <th></th>\n",
       "      <th>datetime</th>\n",
       "      <th>구미 혁신도시배수지 유출유량 적산차</th>\n",
       "    </tr>\n",
       "  </thead>\n",
       "  <tbody>\n",
       "    <tr>\n",
       "      <th>0</th>\n",
       "      <td>2021-01-01 00:00:00</td>\n",
       "      <td>106.0</td>\n",
       "    </tr>\n",
       "    <tr>\n",
       "      <th>1</th>\n",
       "      <td>2021-01-01 01:00:00</td>\n",
       "      <td>184.0</td>\n",
       "    </tr>\n",
       "    <tr>\n",
       "      <th>2</th>\n",
       "      <td>2021-01-01 02:00:00</td>\n",
       "      <td>277.0</td>\n",
       "    </tr>\n",
       "    <tr>\n",
       "      <th>3</th>\n",
       "      <td>2021-01-01 03:00:00</td>\n",
       "      <td>197.0</td>\n",
       "    </tr>\n",
       "    <tr>\n",
       "      <th>4</th>\n",
       "      <td>2021-01-01 04:00:00</td>\n",
       "      <td>72.0</td>\n",
       "    </tr>\n",
       "    <tr>\n",
       "      <th>...</th>\n",
       "      <td>...</td>\n",
       "      <td>...</td>\n",
       "    </tr>\n",
       "    <tr>\n",
       "      <th>8419</th>\n",
       "      <td>2021-12-17 19:00:00</td>\n",
       "      <td>327.0</td>\n",
       "    </tr>\n",
       "    <tr>\n",
       "      <th>8420</th>\n",
       "      <td>2021-12-17 20:00:00</td>\n",
       "      <td>513.0</td>\n",
       "    </tr>\n",
       "    <tr>\n",
       "      <th>8421</th>\n",
       "      <td>2021-12-17 21:00:00</td>\n",
       "      <td>396.0</td>\n",
       "    </tr>\n",
       "    <tr>\n",
       "      <th>8422</th>\n",
       "      <td>2021-12-17 22:00:00</td>\n",
       "      <td>350.0</td>\n",
       "    </tr>\n",
       "    <tr>\n",
       "      <th>8423</th>\n",
       "      <td>2021-12-17 23:00:00</td>\n",
       "      <td>197.0</td>\n",
       "    </tr>\n",
       "  </tbody>\n",
       "</table>\n",
       "<p>8424 rows × 2 columns</p>\n",
       "</div>"
      ],
      "text/plain": [
       "                 datetime  구미 혁신도시배수지 유출유량 적산차\n",
       "0     2021-01-01 00:00:00                106.0\n",
       "1     2021-01-01 01:00:00                184.0\n",
       "2     2021-01-01 02:00:00                277.0\n",
       "3     2021-01-01 03:00:00                197.0\n",
       "4     2021-01-01 04:00:00                 72.0\n",
       "...                   ...                  ...\n",
       "8419  2021-12-17 19:00:00                327.0\n",
       "8420  2021-12-17 20:00:00                513.0\n",
       "8421  2021-12-17 21:00:00                396.0\n",
       "8422  2021-12-17 22:00:00                350.0\n",
       "8423  2021-12-17 23:00:00                197.0\n",
       "\n",
       "[8424 rows x 2 columns]"
      ]
     },
     "execution_count": 4,
     "metadata": {},
     "output_type": "execute_result"
    }
   ],
   "source": [
    "# 평가 데이터\n",
    "data_ts = pd.read_csv('./data_city/data_ts_city.csv')\n",
    "data_ts"
   ]
  },
  {
   "cell_type": "code",
   "execution_count": 5,
   "id": "026b70fe",
   "metadata": {},
   "outputs": [
    {
     "data": {
      "text/html": [
       "<div>\n",
       "<style scoped>\n",
       "    .dataframe tbody tr th:only-of-type {\n",
       "        vertical-align: middle;\n",
       "    }\n",
       "\n",
       "    .dataframe tbody tr th {\n",
       "        vertical-align: top;\n",
       "    }\n",
       "\n",
       "    .dataframe thead th {\n",
       "        text-align: right;\n",
       "    }\n",
       "</style>\n",
       "<table border=\"1\" class=\"dataframe\">\n",
       "  <thead>\n",
       "    <tr style=\"text-align: right;\">\n",
       "      <th></th>\n",
       "      <th>datetime</th>\n",
       "      <th>h0</th>\n",
       "      <th>h1</th>\n",
       "      <th>h2</th>\n",
       "      <th>h3</th>\n",
       "      <th>h4</th>\n",
       "      <th>h5</th>\n",
       "      <th>h6</th>\n",
       "      <th>h7</th>\n",
       "      <th>h8</th>\n",
       "      <th>...</th>\n",
       "      <th>h326</th>\n",
       "      <th>h327</th>\n",
       "      <th>h328</th>\n",
       "      <th>h329</th>\n",
       "      <th>h330</th>\n",
       "      <th>h331</th>\n",
       "      <th>h332</th>\n",
       "      <th>h333</th>\n",
       "      <th>h334</th>\n",
       "      <th>h335</th>\n",
       "    </tr>\n",
       "  </thead>\n",
       "  <tbody>\n",
       "    <tr>\n",
       "      <th>0</th>\n",
       "      <td>2021-01-01 00:00:00</td>\n",
       "      <td>0</td>\n",
       "      <td>0</td>\n",
       "      <td>0</td>\n",
       "      <td>0</td>\n",
       "      <td>0</td>\n",
       "      <td>0</td>\n",
       "      <td>0</td>\n",
       "      <td>0</td>\n",
       "      <td>0</td>\n",
       "      <td>...</td>\n",
       "      <td>0</td>\n",
       "      <td>0</td>\n",
       "      <td>0</td>\n",
       "      <td>0</td>\n",
       "      <td>0</td>\n",
       "      <td>0</td>\n",
       "      <td>0</td>\n",
       "      <td>0</td>\n",
       "      <td>0</td>\n",
       "      <td>0</td>\n",
       "    </tr>\n",
       "    <tr>\n",
       "      <th>1</th>\n",
       "      <td>2021-01-01 01:00:00</td>\n",
       "      <td>0</td>\n",
       "      <td>0</td>\n",
       "      <td>0</td>\n",
       "      <td>0</td>\n",
       "      <td>0</td>\n",
       "      <td>0</td>\n",
       "      <td>0</td>\n",
       "      <td>0</td>\n",
       "      <td>0</td>\n",
       "      <td>...</td>\n",
       "      <td>0</td>\n",
       "      <td>0</td>\n",
       "      <td>0</td>\n",
       "      <td>0</td>\n",
       "      <td>0</td>\n",
       "      <td>0</td>\n",
       "      <td>0</td>\n",
       "      <td>0</td>\n",
       "      <td>0</td>\n",
       "      <td>0</td>\n",
       "    </tr>\n",
       "    <tr>\n",
       "      <th>2</th>\n",
       "      <td>2021-01-01 02:00:00</td>\n",
       "      <td>0</td>\n",
       "      <td>0</td>\n",
       "      <td>0</td>\n",
       "      <td>0</td>\n",
       "      <td>0</td>\n",
       "      <td>0</td>\n",
       "      <td>0</td>\n",
       "      <td>0</td>\n",
       "      <td>0</td>\n",
       "      <td>...</td>\n",
       "      <td>0</td>\n",
       "      <td>0</td>\n",
       "      <td>0</td>\n",
       "      <td>0</td>\n",
       "      <td>0</td>\n",
       "      <td>0</td>\n",
       "      <td>0</td>\n",
       "      <td>0</td>\n",
       "      <td>0</td>\n",
       "      <td>0</td>\n",
       "    </tr>\n",
       "    <tr>\n",
       "      <th>3</th>\n",
       "      <td>2021-01-01 03:00:00</td>\n",
       "      <td>0</td>\n",
       "      <td>0</td>\n",
       "      <td>0</td>\n",
       "      <td>0</td>\n",
       "      <td>0</td>\n",
       "      <td>0</td>\n",
       "      <td>0</td>\n",
       "      <td>0</td>\n",
       "      <td>0</td>\n",
       "      <td>...</td>\n",
       "      <td>0</td>\n",
       "      <td>0</td>\n",
       "      <td>0</td>\n",
       "      <td>0</td>\n",
       "      <td>0</td>\n",
       "      <td>0</td>\n",
       "      <td>0</td>\n",
       "      <td>0</td>\n",
       "      <td>0</td>\n",
       "      <td>0</td>\n",
       "    </tr>\n",
       "    <tr>\n",
       "      <th>4</th>\n",
       "      <td>2021-01-01 04:00:00</td>\n",
       "      <td>0</td>\n",
       "      <td>0</td>\n",
       "      <td>0</td>\n",
       "      <td>0</td>\n",
       "      <td>0</td>\n",
       "      <td>0</td>\n",
       "      <td>0</td>\n",
       "      <td>0</td>\n",
       "      <td>0</td>\n",
       "      <td>...</td>\n",
       "      <td>0</td>\n",
       "      <td>0</td>\n",
       "      <td>0</td>\n",
       "      <td>0</td>\n",
       "      <td>0</td>\n",
       "      <td>0</td>\n",
       "      <td>0</td>\n",
       "      <td>0</td>\n",
       "      <td>0</td>\n",
       "      <td>0</td>\n",
       "    </tr>\n",
       "    <tr>\n",
       "      <th>...</th>\n",
       "      <td>...</td>\n",
       "      <td>...</td>\n",
       "      <td>...</td>\n",
       "      <td>...</td>\n",
       "      <td>...</td>\n",
       "      <td>...</td>\n",
       "      <td>...</td>\n",
       "      <td>...</td>\n",
       "      <td>...</td>\n",
       "      <td>...</td>\n",
       "      <td>...</td>\n",
       "      <td>...</td>\n",
       "      <td>...</td>\n",
       "      <td>...</td>\n",
       "      <td>...</td>\n",
       "      <td>...</td>\n",
       "      <td>...</td>\n",
       "      <td>...</td>\n",
       "      <td>...</td>\n",
       "      <td>...</td>\n",
       "      <td>...</td>\n",
       "    </tr>\n",
       "    <tr>\n",
       "      <th>8420</th>\n",
       "      <td>2021-12-17 20:00:00</td>\n",
       "      <td>0</td>\n",
       "      <td>0</td>\n",
       "      <td>0</td>\n",
       "      <td>0</td>\n",
       "      <td>0</td>\n",
       "      <td>0</td>\n",
       "      <td>0</td>\n",
       "      <td>0</td>\n",
       "      <td>0</td>\n",
       "      <td>...</td>\n",
       "      <td>0</td>\n",
       "      <td>0</td>\n",
       "      <td>0</td>\n",
       "      <td>0</td>\n",
       "      <td>0</td>\n",
       "      <td>0</td>\n",
       "      <td>0</td>\n",
       "      <td>0</td>\n",
       "      <td>0</td>\n",
       "      <td>0</td>\n",
       "    </tr>\n",
       "    <tr>\n",
       "      <th>8421</th>\n",
       "      <td>2021-12-17 21:00:00</td>\n",
       "      <td>0</td>\n",
       "      <td>0</td>\n",
       "      <td>0</td>\n",
       "      <td>0</td>\n",
       "      <td>0</td>\n",
       "      <td>0</td>\n",
       "      <td>0</td>\n",
       "      <td>0</td>\n",
       "      <td>0</td>\n",
       "      <td>...</td>\n",
       "      <td>0</td>\n",
       "      <td>0</td>\n",
       "      <td>0</td>\n",
       "      <td>0</td>\n",
       "      <td>0</td>\n",
       "      <td>0</td>\n",
       "      <td>0</td>\n",
       "      <td>0</td>\n",
       "      <td>0</td>\n",
       "      <td>0</td>\n",
       "    </tr>\n",
       "    <tr>\n",
       "      <th>8422</th>\n",
       "      <td>2021-12-17 22:00:00</td>\n",
       "      <td>0</td>\n",
       "      <td>0</td>\n",
       "      <td>0</td>\n",
       "      <td>0</td>\n",
       "      <td>0</td>\n",
       "      <td>0</td>\n",
       "      <td>0</td>\n",
       "      <td>0</td>\n",
       "      <td>0</td>\n",
       "      <td>...</td>\n",
       "      <td>0</td>\n",
       "      <td>0</td>\n",
       "      <td>0</td>\n",
       "      <td>0</td>\n",
       "      <td>0</td>\n",
       "      <td>0</td>\n",
       "      <td>0</td>\n",
       "      <td>0</td>\n",
       "      <td>0</td>\n",
       "      <td>0</td>\n",
       "    </tr>\n",
       "    <tr>\n",
       "      <th>8423</th>\n",
       "      <td>2021-12-17 23:00:00</td>\n",
       "      <td>0</td>\n",
       "      <td>0</td>\n",
       "      <td>0</td>\n",
       "      <td>0</td>\n",
       "      <td>0</td>\n",
       "      <td>0</td>\n",
       "      <td>0</td>\n",
       "      <td>0</td>\n",
       "      <td>0</td>\n",
       "      <td>...</td>\n",
       "      <td>0</td>\n",
       "      <td>0</td>\n",
       "      <td>0</td>\n",
       "      <td>0</td>\n",
       "      <td>0</td>\n",
       "      <td>0</td>\n",
       "      <td>0</td>\n",
       "      <td>0</td>\n",
       "      <td>0</td>\n",
       "      <td>0</td>\n",
       "    </tr>\n",
       "    <tr>\n",
       "      <th>8424</th>\n",
       "      <td>2021-12-18 00:00:00</td>\n",
       "      <td>0</td>\n",
       "      <td>0</td>\n",
       "      <td>0</td>\n",
       "      <td>0</td>\n",
       "      <td>0</td>\n",
       "      <td>0</td>\n",
       "      <td>0</td>\n",
       "      <td>0</td>\n",
       "      <td>0</td>\n",
       "      <td>...</td>\n",
       "      <td>0</td>\n",
       "      <td>0</td>\n",
       "      <td>0</td>\n",
       "      <td>0</td>\n",
       "      <td>0</td>\n",
       "      <td>0</td>\n",
       "      <td>0</td>\n",
       "      <td>0</td>\n",
       "      <td>0</td>\n",
       "      <td>0</td>\n",
       "    </tr>\n",
       "  </tbody>\n",
       "</table>\n",
       "<p>8425 rows × 337 columns</p>\n",
       "</div>"
      ],
      "text/plain": [
       "                 datetime  h0  h1  h2  h3  h4  h5  h6  h7  h8  ...  h326  \\\n",
       "0     2021-01-01 00:00:00   0   0   0   0   0   0   0   0   0  ...     0   \n",
       "1     2021-01-01 01:00:00   0   0   0   0   0   0   0   0   0  ...     0   \n",
       "2     2021-01-01 02:00:00   0   0   0   0   0   0   0   0   0  ...     0   \n",
       "3     2021-01-01 03:00:00   0   0   0   0   0   0   0   0   0  ...     0   \n",
       "4     2021-01-01 04:00:00   0   0   0   0   0   0   0   0   0  ...     0   \n",
       "...                   ...  ..  ..  ..  ..  ..  ..  ..  ..  ..  ...   ...   \n",
       "8420  2021-12-17 20:00:00   0   0   0   0   0   0   0   0   0  ...     0   \n",
       "8421  2021-12-17 21:00:00   0   0   0   0   0   0   0   0   0  ...     0   \n",
       "8422  2021-12-17 22:00:00   0   0   0   0   0   0   0   0   0  ...     0   \n",
       "8423  2021-12-17 23:00:00   0   0   0   0   0   0   0   0   0  ...     0   \n",
       "8424  2021-12-18 00:00:00   0   0   0   0   0   0   0   0   0  ...     0   \n",
       "\n",
       "      h327  h328  h329  h330  h331  h332  h333  h334  h335  \n",
       "0        0     0     0     0     0     0     0     0     0  \n",
       "1        0     0     0     0     0     0     0     0     0  \n",
       "2        0     0     0     0     0     0     0     0     0  \n",
       "3        0     0     0     0     0     0     0     0     0  \n",
       "4        0     0     0     0     0     0     0     0     0  \n",
       "...    ...   ...   ...   ...   ...   ...   ...   ...   ...  \n",
       "8420     0     0     0     0     0     0     0     0     0  \n",
       "8421     0     0     0     0     0     0     0     0     0  \n",
       "8422     0     0     0     0     0     0     0     0     0  \n",
       "8423     0     0     0     0     0     0     0     0     0  \n",
       "8424     0     0     0     0     0     0     0     0     0  \n",
       "\n",
       "[8425 rows x 337 columns]"
      ]
     },
     "execution_count": 5,
     "metadata": {},
     "output_type": "execute_result"
    }
   ],
   "source": [
    "# 제출 양식\n",
    "data_sample = pd.read_csv('./data_city/sample_city.csv')\n",
    "data_sample"
   ]
  },
  {
   "cell_type": "markdown",
   "id": "599e610a",
   "metadata": {},
   "source": [
    "### 복잡한 컬럼명 변경"
   ]
  },
  {
   "cell_type": "code",
   "execution_count": 6,
   "id": "a39d677b",
   "metadata": {},
   "outputs": [
    {
     "data": {
      "text/html": [
       "<div>\n",
       "<style scoped>\n",
       "    .dataframe tbody tr th:only-of-type {\n",
       "        vertical-align: middle;\n",
       "    }\n",
       "\n",
       "    .dataframe tbody tr th {\n",
       "        vertical-align: top;\n",
       "    }\n",
       "\n",
       "    .dataframe thead th {\n",
       "        text-align: right;\n",
       "    }\n",
       "</style>\n",
       "<table border=\"1\" class=\"dataframe\">\n",
       "  <thead>\n",
       "    <tr style=\"text-align: right;\">\n",
       "      <th></th>\n",
       "      <th>datetime</th>\n",
       "      <th>적산차</th>\n",
       "    </tr>\n",
       "  </thead>\n",
       "  <tbody>\n",
       "    <tr>\n",
       "      <th>0</th>\n",
       "      <td>2017-01-01 01:00:00</td>\n",
       "      <td>138.0</td>\n",
       "    </tr>\n",
       "    <tr>\n",
       "      <th>1</th>\n",
       "      <td>2017-01-01 02:00:00</td>\n",
       "      <td>237.0</td>\n",
       "    </tr>\n",
       "    <tr>\n",
       "      <th>2</th>\n",
       "      <td>2017-01-01 03:00:00</td>\n",
       "      <td>128.0</td>\n",
       "    </tr>\n",
       "    <tr>\n",
       "      <th>3</th>\n",
       "      <td>2017-01-01 04:00:00</td>\n",
       "      <td>14.0</td>\n",
       "    </tr>\n",
       "    <tr>\n",
       "      <th>4</th>\n",
       "      <td>2017-01-01 05:00:00</td>\n",
       "      <td>11.0</td>\n",
       "    </tr>\n",
       "  </tbody>\n",
       "</table>\n",
       "</div>"
      ],
      "text/plain": [
       "              datetime    적산차\n",
       "0  2017-01-01 01:00:00  138.0\n",
       "1  2017-01-01 02:00:00  237.0\n",
       "2  2017-01-01 03:00:00  128.0\n",
       "3  2017-01-01 04:00:00   14.0\n",
       "4  2017-01-01 05:00:00   11.0"
      ]
     },
     "execution_count": 6,
     "metadata": {},
     "output_type": "execute_result"
    }
   ],
   "source": [
    "data_tr.rename(columns= {'구미 혁신도시배수지 유출유량 적산차':'적산차'}, inplace=True)\n",
    "data_ts.rename(columns= {'구미 혁신도시배수지 유출유량 적산차':'적산차'}, inplace=True)\n",
    "data_tr.head()"
   ]
  },
  {
   "cell_type": "markdown",
   "id": "b45a604e",
   "metadata": {},
   "source": [
    "### 결측치 확인"
   ]
  },
  {
   "cell_type": "code",
   "execution_count": 7,
   "id": "a764b2b8",
   "metadata": {},
   "outputs": [
    {
     "data": {
      "text/html": [
       "<div>\n",
       "<style scoped>\n",
       "    .dataframe tbody tr th:only-of-type {\n",
       "        vertical-align: middle;\n",
       "    }\n",
       "\n",
       "    .dataframe tbody tr th {\n",
       "        vertical-align: top;\n",
       "    }\n",
       "\n",
       "    .dataframe thead th {\n",
       "        text-align: right;\n",
       "    }\n",
       "</style>\n",
       "<table border=\"1\" class=\"dataframe\">\n",
       "  <thead>\n",
       "    <tr style=\"text-align: right;\">\n",
       "      <th></th>\n",
       "      <th>datetime</th>\n",
       "      <th>적산차</th>\n",
       "    </tr>\n",
       "  </thead>\n",
       "  <tbody>\n",
       "    <tr>\n",
       "      <th>1748</th>\n",
       "      <td>2017-03-14 21:00:00</td>\n",
       "      <td>NaN</td>\n",
       "    </tr>\n",
       "    <tr>\n",
       "      <th>1982</th>\n",
       "      <td>2017-03-24 15:00:00</td>\n",
       "      <td>NaN</td>\n",
       "    </tr>\n",
       "    <tr>\n",
       "      <th>12716</th>\n",
       "      <td>2018-06-14 21:00:00</td>\n",
       "      <td>NaN</td>\n",
       "    </tr>\n",
       "    <tr>\n",
       "      <th>12717</th>\n",
       "      <td>2018-06-14 22:00:00</td>\n",
       "      <td>NaN</td>\n",
       "    </tr>\n",
       "    <tr>\n",
       "      <th>13187</th>\n",
       "      <td>2018-07-04 12:00:00</td>\n",
       "      <td>NaN</td>\n",
       "    </tr>\n",
       "    <tr>\n",
       "      <th>13234</th>\n",
       "      <td>2018-07-06 11:00:00</td>\n",
       "      <td>NaN</td>\n",
       "    </tr>\n",
       "    <tr>\n",
       "      <th>27253</th>\n",
       "      <td>2020-02-10 14:00:00</td>\n",
       "      <td>NaN</td>\n",
       "    </tr>\n",
       "    <tr>\n",
       "      <th>27254</th>\n",
       "      <td>2020-02-10 15:00:00</td>\n",
       "      <td>NaN</td>\n",
       "    </tr>\n",
       "  </tbody>\n",
       "</table>\n",
       "</div>"
      ],
      "text/plain": [
       "                  datetime  적산차\n",
       "1748   2017-03-14 21:00:00  NaN\n",
       "1982   2017-03-24 15:00:00  NaN\n",
       "12716  2018-06-14 21:00:00  NaN\n",
       "12717  2018-06-14 22:00:00  NaN\n",
       "13187  2018-07-04 12:00:00  NaN\n",
       "13234  2018-07-06 11:00:00  NaN\n",
       "27253  2020-02-10 14:00:00  NaN\n",
       "27254  2020-02-10 15:00:00  NaN"
      ]
     },
     "execution_count": 7,
     "metadata": {},
     "output_type": "execute_result"
    }
   ],
   "source": [
    "data_tr[data_tr.적산차.isnull()]"
   ]
  },
  {
   "cell_type": "code",
   "execution_count": 8,
   "id": "17e4f165",
   "metadata": {},
   "outputs": [
    {
     "data": {
      "image/png": "[encoded data removed]",
      "text/plain": [
       "<Figure size 936x360 with 1 Axes>"
      ]
     },
     "metadata": {
      "needs_background": "light"
     },
     "output_type": "display_data"
    }
   ],
   "source": [
    "# 결측치 중 한 곳을 시각화\n",
    "rcParams['figure.figsize'] = 13, 5\n",
    "data_tr[1730:1770].plot(c='blue')\n",
    "plt.show()"
   ]
  },
  {
   "cell_type": "code",
   "execution_count": 9,
   "id": "de0ef746",
   "metadata": {},
   "outputs": [],
   "source": [
    "# linear 보간을 통해 결측치 처리\n",
    "data_tr_interpolate = data_tr.interpolate(method = 'linear')"
   ]
  },
  {
   "cell_type": "code",
   "execution_count": 10,
   "id": "df1ae64a",
   "metadata": {
    "scrolled": false
   },
   "outputs": [
    {
     "data": {
      "image/png": "[encoded data removed]",
      "text/plain": [
       "<Figure size 936x360 with 1 Axes>"
      ]
     },
     "metadata": {
      "needs_background": "light"
     },
     "output_type": "display_data"
    }
   ],
   "source": [
    "# 보간 후 데이터 시각화\n",
    "data_tr_interpolate[1747:1750].적산차.plot(c='red')\n",
    "data_tr[1730:1770].적산차.plot(c='blue')\n",
    "plt.show()\n",
    "\n",
    "data_tr = data_tr_interpolate"
   ]
  },
  {
   "cell_type": "markdown",
   "id": "b788f735",
   "metadata": {},
   "source": [
    "### 이상치 제거"
   ]
  },
  {
   "cell_type": "code",
   "execution_count": 11,
   "id": "9eea7e2c",
   "metadata": {},
   "outputs": [
    {
     "data": {
      "image/png": "[encoded data removed]",
      "text/plain": [
       "<Figure size 936x360 with 1 Axes>"
      ]
     },
     "metadata": {
      "needs_background": "light"
     },
     "output_type": "display_data"
    }
   ],
   "source": [
    "rcParams['figure.figsize'] = 13, 5\n",
    "data_tr.plot()\n",
    "plt.show()"
   ]
  },
  {
   "cell_type": "code",
   "execution_count": 12,
   "id": "637e2492",
   "metadata": {},
   "outputs": [
    {
     "data": {
      "text/html": [
       "<div>\n",
       "<style scoped>\n",
       "    .dataframe tbody tr th:only-of-type {\n",
       "        vertical-align: middle;\n",
       "    }\n",
       "\n",
       "    .dataframe tbody tr th {\n",
       "        vertical-align: top;\n",
       "    }\n",
       "\n",
       "    .dataframe thead th {\n",
       "        text-align: right;\n",
       "    }\n",
       "</style>\n",
       "<table border=\"1\" class=\"dataframe\">\n",
       "  <thead>\n",
       "    <tr style=\"text-align: right;\">\n",
       "      <th></th>\n",
       "      <th>datetime</th>\n",
       "      <th>적산차</th>\n",
       "    </tr>\n",
       "  </thead>\n",
       "  <tbody>\n",
       "    <tr>\n",
       "      <th>11995</th>\n",
       "      <td>2018-05-15 20:00:00</td>\n",
       "      <td>4720655.0</td>\n",
       "    </tr>\n",
       "  </tbody>\n",
       "</table>\n",
       "</div>"
      ],
      "text/plain": [
       "                  datetime        적산차\n",
       "11995  2018-05-15 20:00:00  4720655.0"
      ]
     },
     "execution_count": 12,
     "metadata": {},
     "output_type": "execute_result"
    }
   ],
   "source": [
    "data_tr[data_tr.적산차 == max(data_tr.적산차)]"
   ]
  },
  {
   "cell_type": "code",
   "execution_count": 13,
   "id": "6d3e2df1",
   "metadata": {},
   "outputs": [
    {
     "data": {
      "text/html": [
       "<div>\n",
       "<style scoped>\n",
       "    .dataframe tbody tr th:only-of-type {\n",
       "        vertical-align: middle;\n",
       "    }\n",
       "\n",
       "    .dataframe tbody tr th {\n",
       "        vertical-align: top;\n",
       "    }\n",
       "\n",
       "    .dataframe thead th {\n",
       "        text-align: right;\n",
       "    }\n",
       "</style>\n",
       "<table border=\"1\" class=\"dataframe\">\n",
       "  <thead>\n",
       "    <tr style=\"text-align: right;\">\n",
       "      <th></th>\n",
       "      <th>datetime</th>\n",
       "      <th>적산차</th>\n",
       "    </tr>\n",
       "  </thead>\n",
       "  <tbody>\n",
       "    <tr>\n",
       "      <th>17558</th>\n",
       "      <td>2019-01-02 15:00:00</td>\n",
       "      <td>-6093821.0</td>\n",
       "    </tr>\n",
       "  </tbody>\n",
       "</table>\n",
       "</div>"
      ],
      "text/plain": [
       "                  datetime        적산차\n",
       "17558  2019-01-02 15:00:00 -6093821.0"
      ]
     },
     "execution_count": 13,
     "metadata": {},
     "output_type": "execute_result"
    }
   ],
   "source": [
    "data_tr[data_tr.적산차 == min(data_tr.적산차)]"
   ]
  },
  {
   "cell_type": "code",
   "execution_count": 14,
   "id": "8ce5bc18",
   "metadata": {},
   "outputs": [
    {
     "data": {
      "image/png": "[encoded data removed]",
      "text/plain": [
       "<Figure size 936x360 with 1 Axes>"
      ]
     },
     "metadata": {
      "needs_background": "light"
     },
     "output_type": "display_data"
    }
   ],
   "source": [
    "data_tr.drop(index=[11995, 17558], inplace=True)\n",
    "data_tr.plot()\n",
    "plt.show()"
   ]
  },
  {
   "cell_type": "code",
   "execution_count": 15,
   "id": "bcd6e84a",
   "metadata": {},
   "outputs": [
    {
     "data": {
      "text/html": [
       "<div>\n",
       "<style scoped>\n",
       "    .dataframe tbody tr th:only-of-type {\n",
       "        vertical-align: middle;\n",
       "    }\n",
       "\n",
       "    .dataframe tbody tr th {\n",
       "        vertical-align: top;\n",
       "    }\n",
       "\n",
       "    .dataframe thead th {\n",
       "        text-align: right;\n",
       "    }\n",
       "</style>\n",
       "<table border=\"1\" class=\"dataframe\">\n",
       "  <thead>\n",
       "    <tr style=\"text-align: right;\">\n",
       "      <th></th>\n",
       "      <th>datetime</th>\n",
       "      <th>적산차</th>\n",
       "    </tr>\n",
       "  </thead>\n",
       "  <tbody>\n",
       "    <tr>\n",
       "      <th>2127</th>\n",
       "      <td>2017-03-30 16:00:00</td>\n",
       "      <td>-2584551.0</td>\n",
       "    </tr>\n",
       "  </tbody>\n",
       "</table>\n",
       "</div>"
      ],
      "text/plain": [
       "                 datetime        적산차\n",
       "2127  2017-03-30 16:00:00 -2584551.0"
      ]
     },
     "execution_count": 15,
     "metadata": {},
     "output_type": "execute_result"
    }
   ],
   "source": [
    "data_tr[data_tr.적산차 == min(data_tr.적산차)]"
   ]
  },
  {
   "cell_type": "code",
   "execution_count": 16,
   "id": "78470f27",
   "metadata": {},
   "outputs": [
    {
     "data": {
      "image/png": "[encoded data removed]",
      "text/plain": [
       "<Figure size 936x360 with 1 Axes>"
      ]
     },
     "metadata": {
      "needs_background": "light"
     },
     "output_type": "display_data"
    }
   ],
   "source": [
    "data_tr.drop(index=2127, inplace=True)\n",
    "data_tr.plot()\n",
    "plt.show()"
   ]
  },
  {
   "cell_type": "code",
   "execution_count": 17,
   "id": "192ae1ad",
   "metadata": {},
   "outputs": [],
   "source": [
    "data_tr.reset_index(drop=True, inplace=True)"
   ]
  },
  {
   "cell_type": "code",
   "execution_count": 18,
   "id": "ea185f15",
   "metadata": {},
   "outputs": [
    {
     "data": {
      "text/html": [
       "<div>\n",
       "<style scoped>\n",
       "    .dataframe tbody tr th:only-of-type {\n",
       "        vertical-align: middle;\n",
       "    }\n",
       "\n",
       "    .dataframe tbody tr th {\n",
       "        vertical-align: top;\n",
       "    }\n",
       "\n",
       "    .dataframe thead th {\n",
       "        text-align: right;\n",
       "    }\n",
       "</style>\n",
       "<table border=\"1\" class=\"dataframe\">\n",
       "  <thead>\n",
       "    <tr style=\"text-align: right;\">\n",
       "      <th></th>\n",
       "      <th>적산차</th>\n",
       "    </tr>\n",
       "    <tr>\n",
       "      <th>datetime</th>\n",
       "      <th></th>\n",
       "    </tr>\n",
       "  </thead>\n",
       "  <tbody>\n",
       "    <tr>\n",
       "      <th>2017-01-01 01:00:00</th>\n",
       "      <td>138.0</td>\n",
       "    </tr>\n",
       "    <tr>\n",
       "      <th>2017-01-01 02:00:00</th>\n",
       "      <td>237.0</td>\n",
       "    </tr>\n",
       "    <tr>\n",
       "      <th>2017-01-01 03:00:00</th>\n",
       "      <td>128.0</td>\n",
       "    </tr>\n",
       "    <tr>\n",
       "      <th>2017-01-01 04:00:00</th>\n",
       "      <td>14.0</td>\n",
       "    </tr>\n",
       "    <tr>\n",
       "      <th>2017-01-01 05:00:00</th>\n",
       "      <td>11.0</td>\n",
       "    </tr>\n",
       "  </tbody>\n",
       "</table>\n",
       "</div>"
      ],
      "text/plain": [
       "                       적산차\n",
       "datetime                  \n",
       "2017-01-01 01:00:00  138.0\n",
       "2017-01-01 02:00:00  237.0\n",
       "2017-01-01 03:00:00  128.0\n",
       "2017-01-01 04:00:00   14.0\n",
       "2017-01-01 05:00:00   11.0"
      ]
     },
     "execution_count": 18,
     "metadata": {},
     "output_type": "execute_result"
    }
   ],
   "source": [
    "data_tr['datetime'] = pd.to_datetime(data_tr['datetime'])\n",
    "data_tr.set_index('datetime', inplace=True)\n",
    "data_tr.head()"
   ]
  },
  {
   "cell_type": "code",
   "execution_count": 19,
   "id": "23ac1f4f",
   "metadata": {},
   "outputs": [
    {
     "data": {
      "image/png": "[encoded data removed]",
      "text/plain": [
       "<Figure size 936x648 with 4 Axes>"
      ]
     },
     "metadata": {
      "needs_background": "light"
     },
     "output_type": "display_data"
    }
   ],
   "source": [
    "rcParams['figure.figsize'] = 13, 9\n",
    "decomposed_df_volume = sm.tsa.seasonal_decompose(data_tr['적산차'].asfreq('W'), extrapolate_trend='freq', period=52) # py3.6 이하는 freq=52 가능\n",
    "figure = decomposed_df_volume.plot()\n",
    "plt.show()"
   ]
  },
  {
   "cell_type": "markdown",
   "id": "34909003",
   "metadata": {},
   "source": [
    "* 1년의 계절성을 지녔음"
   ]
  },
  {
   "cell_type": "markdown",
   "id": "a7fac0be",
   "metadata": {},
   "source": [
    "### Prophet 모델"
   ]
  },
  {
   "cell_type": "code",
   "execution_count": 138,
   "id": "662aa3a9",
   "metadata": {},
   "outputs": [
    {
     "name": "stderr",
     "output_type": "stream",
     "text": [
      "23:09:45 - cmdstanpy - INFO - Chain [1] start processing\n",
      "23:09:55 - cmdstanpy - INFO - Chain [1] done processing\n"
     ]
    }
   ],
   "source": [
    "data_tr_prophet = data_tr.copy()\n",
    "data_tr_prophet.rename(columns= {'적산차':'y'}, inplace=True)\n",
    "data_tr_prophet['ds'] = data_tr_prophet.index\n",
    "\n",
    "# yearly_Seasonality를 지닌 모델을 생성\n",
    "m= Prophet(seasonality_mode='multiplicative',\n",
    "          yearly_seasonality=True,\n",
    "          changepoint_range=0.8,\n",
    "          changepoint_prior_scale=0.2)\n",
    "m.fit(data_tr_prophet)\n",
    "period = 0\n",
    "future = m.make_future_dataframe(periods=period, freq='H')\n",
    "forecast = m.predict(future)"
   ]
  },
  {
   "cell_type": "code",
   "execution_count": 142,
   "id": "5192dac2",
   "metadata": {},
   "outputs": [
    {
     "name": "stdout",
     "output_type": "stream",
     "text": [
      "mae : 93.64309349919488\n"
     ]
    },
    {
     "data": {
      "text/html": [
       "<div>\n",
       "<style scoped>\n",
       "    .dataframe tbody tr th:only-of-type {\n",
       "        vertical-align: middle;\n",
       "    }\n",
       "\n",
       "    .dataframe tbody tr th {\n",
       "        vertical-align: top;\n",
       "    }\n",
       "\n",
       "    .dataframe thead th {\n",
       "        text-align: right;\n",
       "    }\n",
       "</style>\n",
       "<table border=\"1\" class=\"dataframe\">\n",
       "  <thead>\n",
       "    <tr style=\"text-align: right;\">\n",
       "      <th></th>\n",
       "      <th>ds</th>\n",
       "      <th>original</th>\n",
       "      <th>predict</th>\n",
       "    </tr>\n",
       "  </thead>\n",
       "  <tbody>\n",
       "    <tr>\n",
       "      <th>0</th>\n",
       "      <td>2017-01-01 01:00:00</td>\n",
       "      <td>138.0</td>\n",
       "      <td>115.216715</td>\n",
       "    </tr>\n",
       "    <tr>\n",
       "      <th>1</th>\n",
       "      <td>2017-01-01 02:00:00</td>\n",
       "      <td>237.0</td>\n",
       "      <td>71.577510</td>\n",
       "    </tr>\n",
       "    <tr>\n",
       "      <th>2</th>\n",
       "      <td>2017-01-01 03:00:00</td>\n",
       "      <td>128.0</td>\n",
       "      <td>35.546131</td>\n",
       "    </tr>\n",
       "    <tr>\n",
       "      <th>3</th>\n",
       "      <td>2017-01-01 04:00:00</td>\n",
       "      <td>14.0</td>\n",
       "      <td>9.489044</td>\n",
       "    </tr>\n",
       "    <tr>\n",
       "      <th>4</th>\n",
       "      <td>2017-01-01 05:00:00</td>\n",
       "      <td>11.0</td>\n",
       "      <td>2.747398</td>\n",
       "    </tr>\n",
       "    <tr>\n",
       "      <th>...</th>\n",
       "      <td>...</td>\n",
       "      <td>...</td>\n",
       "      <td>...</td>\n",
       "    </tr>\n",
       "    <tr>\n",
       "      <th>35055</th>\n",
       "      <td>2020-12-31 19:00:00</td>\n",
       "      <td>328.0</td>\n",
       "      <td>316.536298</td>\n",
       "    </tr>\n",
       "    <tr>\n",
       "      <th>35056</th>\n",
       "      <td>2020-12-31 20:00:00</td>\n",
       "      <td>347.0</td>\n",
       "      <td>375.803895</td>\n",
       "    </tr>\n",
       "    <tr>\n",
       "      <th>35057</th>\n",
       "      <td>2020-12-31 21:00:00</td>\n",
       "      <td>335.0</td>\n",
       "      <td>417.775658</td>\n",
       "    </tr>\n",
       "    <tr>\n",
       "      <th>35058</th>\n",
       "      <td>2020-12-31 22:00:00</td>\n",
       "      <td>141.0</td>\n",
       "      <td>414.980067</td>\n",
       "    </tr>\n",
       "    <tr>\n",
       "      <th>35059</th>\n",
       "      <td>2020-12-31 23:00:00</td>\n",
       "      <td>112.0</td>\n",
       "      <td>365.600865</td>\n",
       "    </tr>\n",
       "  </tbody>\n",
       "</table>\n",
       "<p>35060 rows × 3 columns</p>\n",
       "</div>"
      ],
      "text/plain": [
       "                       ds  original     predict\n",
       "0     2017-01-01 01:00:00     138.0  115.216715\n",
       "1     2017-01-01 02:00:00     237.0   71.577510\n",
       "2     2017-01-01 03:00:00     128.0   35.546131\n",
       "3     2017-01-01 04:00:00      14.0    9.489044\n",
       "4     2017-01-01 05:00:00      11.0    2.747398\n",
       "...                   ...       ...         ...\n",
       "35055 2020-12-31 19:00:00     328.0  316.536298\n",
       "35056 2020-12-31 20:00:00     347.0  375.803895\n",
       "35057 2020-12-31 21:00:00     335.0  417.775658\n",
       "35058 2020-12-31 22:00:00     141.0  414.980067\n",
       "35059 2020-12-31 23:00:00     112.0  365.600865\n",
       "\n",
       "[35060 rows x 3 columns]"
      ]
     },
     "execution_count": 142,
     "metadata": {},
     "output_type": "execute_result"
    }
   ],
   "source": [
    "# 학습데이터와 예측치를 비교\n",
    "forecast['original'] = list(data_tr_prophet.y) + [np.nan]*period\n",
    "forecast.rename(columns={'yhat':'predict'}, inplace=True)\n",
    "forecast = forecast[['ds', 'original', 'predict']]\n",
    "\n",
    "mae = mean_absolute_error(forecast[:35060]['original'], forecast[:35060]['predict'])\n",
    "print('mae :', mae)\n",
    "\n",
    "forecast"
   ]
  },
  {
   "cell_type": "markdown",
   "id": "414b76e9",
   "metadata": {},
   "source": [
    "#### gridsearch 구현"
   ]
  },
  {
   "cell_type": "code",
   "execution_count": 172,
   "id": "99cfde88",
   "metadata": {
    "scrolled": true
   },
   "outputs": [
    {
     "name": "stderr",
     "output_type": "stream",
     "text": [
      "  0%|          | 0/9 [00:00<?, ?it/s]00:18:13 - cmdstanpy - INFO - Chain [1] start processing\n",
      "00:18:19 - cmdstanpy - INFO - Chain [1] done processing\n"
     ]
    },
    {
     "name": "stdout",
     "output_type": "stream",
     "text": [
      "cr, cps : 0.5, 0.05, mae : 95.47524486881431 best mae :  \n"
     ]
    },
    {
     "name": "stderr",
     "output_type": "stream",
     "text": [
      "00:18:23 - cmdstanpy - INFO - Chain [1] start processing\n",
      "00:18:33 - cmdstanpy - INFO - Chain [1] done processing\n"
     ]
    },
    {
     "name": "stdout",
     "output_type": "stream",
     "text": [
      "cr, cps : 0.5, 0.1, mae : 95.60863597538018 best mae : 95.47524486881431\n"
     ]
    },
    {
     "name": "stderr",
     "output_type": "stream",
     "text": [
      "00:18:37 - cmdstanpy - INFO - Chain [1] start processing\n",
      "00:18:48 - cmdstanpy - INFO - Chain [1] done processing\n"
     ]
    },
    {
     "name": "stdout",
     "output_type": "stream",
     "text": [
      "cr, cps : 0.5, 0.15, mae : 95.3658221621393 best mae : 95.47524486881431\n"
     ]
    },
    {
     "name": "stderr",
     "output_type": "stream",
     "text": [
      "00:18:52 - cmdstanpy - INFO - Chain [1] start processing\n",
      "00:19:04 - cmdstanpy - INFO - Chain [1] done processing\n"
     ]
    },
    {
     "name": "stdout",
     "output_type": "stream",
     "text": [
      "cr, cps : 0.5, 0.2, mae : 95.3252423510313 best mae : 95.3658221621393\n"
     ]
    },
    {
     "name": "stderr",
     "output_type": "stream",
     "text": [
      "00:19:08 - cmdstanpy - INFO - Chain [1] start processing\n",
      "00:19:17 - cmdstanpy - INFO - Chain [1] done processing\n"
     ]
    },
    {
     "name": "stdout",
     "output_type": "stream",
     "text": [
      "cr, cps : 0.5, 0.25, mae : 95.4060561741783 best mae : 95.3252423510313\n"
     ]
    },
    {
     "name": "stderr",
     "output_type": "stream",
     "text": [
      "00:19:21 - cmdstanpy - INFO - Chain [1] start processing\n",
      "00:19:33 - cmdstanpy - INFO - Chain [1] done processing\n"
     ]
    },
    {
     "name": "stdout",
     "output_type": "stream",
     "text": [
      "cr, cps : 0.5, 0.3, mae : 95.49302485223566 best mae : 95.3252423510313\n"
     ]
    },
    {
     "name": "stderr",
     "output_type": "stream",
     "text": [
      "00:19:37 - cmdstanpy - INFO - Chain [1] start processing\n",
      "00:19:48 - cmdstanpy - INFO - Chain [1] done processing\n"
     ]
    },
    {
     "name": "stdout",
     "output_type": "stream",
     "text": [
      "cr, cps : 0.5, 0.35, mae : 95.50972457375252 best mae : 95.3252423510313\n"
     ]
    },
    {
     "name": "stderr",
     "output_type": "stream",
     "text": [
      "00:19:52 - cmdstanpy - INFO - Chain [1] start processing\n",
      "00:20:02 - cmdstanpy - INFO - Chain [1] done processing\n"
     ]
    },
    {
     "name": "stdout",
     "output_type": "stream",
     "text": [
      "cr, cps : 0.5, 0.4, mae : 95.47364713230257 best mae : 95.3252423510313\n"
     ]
    },
    {
     "name": "stderr",
     "output_type": "stream",
     "text": [
      "00:20:06 - cmdstanpy - INFO - Chain [1] start processing\n",
      "00:20:13 - cmdstanpy - INFO - Chain [1] done processing\n"
     ]
    },
    {
     "name": "stdout",
     "output_type": "stream",
     "text": [
      "cr, cps : 0.5, 0.45, mae : 95.23298902943644 best mae : 95.3252423510313\n"
     ]
    },
    {
     "name": "stderr",
     "output_type": "stream",
     "text": [
      "00:20:17 - cmdstanpy - INFO - Chain [1] start processing\n",
      "00:20:31 - cmdstanpy - INFO - Chain [1] done processing\n"
     ]
    },
    {
     "name": "stdout",
     "output_type": "stream",
     "text": [
      "cr, cps : 0.5, 0.5, mae : 95.54931679368661 best mae : 95.23298902943644\n"
     ]
    },
    {
     "name": "stderr",
     "output_type": "stream",
     "text": [
      "00:20:35 - cmdstanpy - INFO - Chain [1] start processing\n",
      "00:20:46 - cmdstanpy - INFO - Chain [1] done processing\n"
     ]
    },
    {
     "name": "stdout",
     "output_type": "stream",
     "text": [
      "cr, cps : 0.5, 0.55, mae : 95.38253165811912 best mae : 95.23298902943644\n"
     ]
    },
    {
     "name": "stderr",
     "output_type": "stream",
     "text": [
      "00:20:51 - cmdstanpy - INFO - Chain [1] start processing\n",
      "00:21:00 - cmdstanpy - INFO - Chain [1] done processing\n"
     ]
    },
    {
     "name": "stdout",
     "output_type": "stream",
     "text": [
      "cr, cps : 0.5, 0.6, mae : 95.3467036115064 best mae : 95.23298902943644\n"
     ]
    },
    {
     "name": "stderr",
     "output_type": "stream",
     "text": [
      "00:21:04 - cmdstanpy - INFO - Chain [1] start processing\n",
      "00:21:18 - cmdstanpy - INFO - Chain [1] done processing\n"
     ]
    },
    {
     "name": "stdout",
     "output_type": "stream",
     "text": [
      "cr, cps : 0.5, 0.65, mae : 95.43867958167904 best mae : 95.23298902943644\n"
     ]
    },
    {
     "name": "stderr",
     "output_type": "stream",
     "text": [
      "00:21:22 - cmdstanpy - INFO - Chain [1] start processing\n",
      "00:21:32 - cmdstanpy - INFO - Chain [1] done processing\n"
     ]
    },
    {
     "name": "stdout",
     "output_type": "stream",
     "text": [
      "cr, cps : 0.5, 0.7, mae : 95.3012296904175 best mae : 95.23298902943644\n"
     ]
    },
    {
     "name": "stderr",
     "output_type": "stream",
     "text": [
      "00:21:37 - cmdstanpy - INFO - Chain [1] start processing\n",
      "00:21:47 - cmdstanpy - INFO - Chain [1] done processing\n"
     ]
    },
    {
     "name": "stdout",
     "output_type": "stream",
     "text": [
      "cr, cps : 0.5, 0.75, mae : 95.42739179359349 best mae : 95.23298902943644\n"
     ]
    },
    {
     "name": "stderr",
     "output_type": "stream",
     "text": [
      "00:21:51 - cmdstanpy - INFO - Chain [1] start processing\n",
      "00:22:04 - cmdstanpy - INFO - Chain [1] done processing\n"
     ]
    },
    {
     "name": "stdout",
     "output_type": "stream",
     "text": [
      "cr, cps : 0.5, 0.8, mae : 95.4651593671019 best mae : 95.23298902943644\n"
     ]
    },
    {
     "name": "stderr",
     "output_type": "stream",
     "text": [
      "00:22:08 - cmdstanpy - INFO - Chain [1] start processing\n",
      "00:22:16 - cmdstanpy - INFO - Chain [1] done processing\n"
     ]
    },
    {
     "name": "stdout",
     "output_type": "stream",
     "text": [
      "cr, cps : 0.5, 0.85, mae : 95.14617483754246 best mae : 95.23298902943644\n"
     ]
    },
    {
     "name": "stderr",
     "output_type": "stream",
     "text": [
      "00:22:20 - cmdstanpy - INFO - Chain [1] start processing\n",
      "00:22:34 - cmdstanpy - INFO - Chain [1] done processing\n",
      " 11%|█         | 1/9 [04:24<35:19, 264.91s/it]"
     ]
    },
    {
     "name": "stdout",
     "output_type": "stream",
     "text": [
      "cr, cps : 0.5, 0.9, mae : 95.68034018083716 best mae : 95.14617483754246\n"
     ]
    },
    {
     "name": "stderr",
     "output_type": "stream",
     "text": [
      "00:22:38 - cmdstanpy - INFO - Chain [1] start processing\n",
      "00:22:46 - cmdstanpy - INFO - Chain [1] done processing\n"
     ]
    },
    {
     "name": "stdout",
     "output_type": "stream",
     "text": [
      "cr, cps : 0.55, 0.05, mae : 95.25321870809232 best mae : 95.14617483754246\n"
     ]
    },
    {
     "name": "stderr",
     "output_type": "stream",
     "text": [
      "00:22:50 - cmdstanpy - INFO - Chain [1] start processing\n",
      "00:23:01 - cmdstanpy - INFO - Chain [1] done processing\n"
     ]
    },
    {
     "name": "stdout",
     "output_type": "stream",
     "text": [
      "cr, cps : 0.55, 0.1, mae : 95.09464049701982 best mae : 95.14617483754246\n"
     ]
    },
    {
     "name": "stderr",
     "output_type": "stream",
     "text": [
      "00:23:05 - cmdstanpy - INFO - Chain [1] start processing\n",
      "00:23:19 - cmdstanpy - INFO - Chain [1] done processing\n"
     ]
    },
    {
     "name": "stdout",
     "output_type": "stream",
     "text": [
      "cr, cps : 0.55, 0.15, mae : 94.9922736982449 best mae : 95.09464049701982\n"
     ]
    },
    {
     "name": "stderr",
     "output_type": "stream",
     "text": [
      "00:23:23 - cmdstanpy - INFO - Chain [1] start processing\n",
      "00:23:38 - cmdstanpy - INFO - Chain [1] done processing\n"
     ]
    },
    {
     "name": "stdout",
     "output_type": "stream",
     "text": [
      "cr, cps : 0.55, 0.2, mae : 95.01287092702682 best mae : 94.9922736982449\n"
     ]
    },
    {
     "name": "stderr",
     "output_type": "stream",
     "text": [
      "00:23:42 - cmdstanpy - INFO - Chain [1] start processing\n",
      "00:23:56 - cmdstanpy - INFO - Chain [1] done processing\n"
     ]
    },
    {
     "name": "stdout",
     "output_type": "stream",
     "text": [
      "cr, cps : 0.55, 0.25, mae : 95.0546004765382 best mae : 94.9922736982449\n"
     ]
    },
    {
     "name": "stderr",
     "output_type": "stream",
     "text": [
      "00:24:00 - cmdstanpy - INFO - Chain [1] start processing\n",
      "00:24:09 - cmdstanpy - INFO - Chain [1] done processing\n"
     ]
    },
    {
     "name": "stdout",
     "output_type": "stream",
     "text": [
      "cr, cps : 0.55, 0.3, mae : 95.10887782960512 best mae : 94.9922736982449\n"
     ]
    },
    {
     "name": "stderr",
     "output_type": "stream",
     "text": [
      "00:24:13 - cmdstanpy - INFO - Chain [1] start processing\n",
      "00:24:27 - cmdstanpy - INFO - Chain [1] done processing\n"
     ]
    },
    {
     "name": "stdout",
     "output_type": "stream",
     "text": [
      "cr, cps : 0.55, 0.35, mae : 94.96827422136657 best mae : 94.9922736982449\n"
     ]
    },
    {
     "name": "stderr",
     "output_type": "stream",
     "text": [
      "00:24:31 - cmdstanpy - INFO - Chain [1] start processing\n",
      "00:24:45 - cmdstanpy - INFO - Chain [1] done processing\n"
     ]
    },
    {
     "name": "stdout",
     "output_type": "stream",
     "text": [
      "cr, cps : 0.55, 0.4, mae : 95.00824199887042 best mae : 94.96827422136657\n"
     ]
    },
    {
     "name": "stderr",
     "output_type": "stream",
     "text": [
      "00:24:49 - cmdstanpy - INFO - Chain [1] start processing\n",
      "00:25:01 - cmdstanpy - INFO - Chain [1] done processing\n"
     ]
    },
    {
     "name": "stdout",
     "output_type": "stream",
     "text": [
      "cr, cps : 0.55, 0.45, mae : 94.97886394292907 best mae : 94.96827422136657\n"
     ]
    },
    {
     "name": "stderr",
     "output_type": "stream",
     "text": [
      "00:25:06 - cmdstanpy - INFO - Chain [1] start processing\n",
      "00:25:18 - cmdstanpy - INFO - Chain [1] done processing\n"
     ]
    },
    {
     "name": "stdout",
     "output_type": "stream",
     "text": [
      "cr, cps : 0.55, 0.5, mae : 95.04441429539116 best mae : 94.96827422136657\n"
     ]
    },
    {
     "name": "stderr",
     "output_type": "stream",
     "text": [
      "00:25:22 - cmdstanpy - INFO - Chain [1] start processing\n",
      "00:25:35 - cmdstanpy - INFO - Chain [1] done processing\n"
     ]
    },
    {
     "name": "stdout",
     "output_type": "stream",
     "text": [
      "cr, cps : 0.55, 0.55, mae : 94.90266067079162 best mae : 94.96827422136657\n"
     ]
    },
    {
     "name": "stderr",
     "output_type": "stream",
     "text": [
      "00:25:39 - cmdstanpy - INFO - Chain [1] start processing\n",
      "00:25:50 - cmdstanpy - INFO - Chain [1] done processing\n"
     ]
    },
    {
     "name": "stdout",
     "output_type": "stream",
     "text": [
      "cr, cps : 0.55, 0.6, mae : 94.98606269052594 best mae : 94.90266067079162\n"
     ]
    },
    {
     "name": "stderr",
     "output_type": "stream",
     "text": [
      "00:25:55 - cmdstanpy - INFO - Chain [1] start processing\n",
      "00:26:08 - cmdstanpy - INFO - Chain [1] done processing\n"
     ]
    },
    {
     "name": "stdout",
     "output_type": "stream",
     "text": [
      "cr, cps : 0.55, 0.65, mae : 94.93277895564512 best mae : 94.90266067079162\n"
     ]
    },
    {
     "name": "stderr",
     "output_type": "stream",
     "text": [
      "00:26:12 - cmdstanpy - INFO - Chain [1] start processing\n",
      "00:26:26 - cmdstanpy - INFO - Chain [1] done processing\n"
     ]
    },
    {
     "name": "stdout",
     "output_type": "stream",
     "text": [
      "cr, cps : 0.55, 0.7, mae : 94.91070275441565 best mae : 94.90266067079162\n"
     ]
    },
    {
     "name": "stderr",
     "output_type": "stream",
     "text": [
      "00:26:30 - cmdstanpy - INFO - Chain [1] start processing\n",
      "00:26:43 - cmdstanpy - INFO - Chain [1] done processing\n"
     ]
    },
    {
     "name": "stdout",
     "output_type": "stream",
     "text": [
      "cr, cps : 0.55, 0.75, mae : 94.91933326199558 best mae : 94.90266067079162\n"
     ]
    },
    {
     "name": "stderr",
     "output_type": "stream",
     "text": [
      "00:26:48 - cmdstanpy - INFO - Chain [1] start processing\n",
      "00:27:01 - cmdstanpy - INFO - Chain [1] done processing\n"
     ]
    },
    {
     "name": "stdout",
     "output_type": "stream",
     "text": [
      "cr, cps : 0.55, 0.8, mae : 94.97970934766259 best mae : 94.90266067079162\n"
     ]
    },
    {
     "name": "stderr",
     "output_type": "stream",
     "text": [
      "00:27:05 - cmdstanpy - INFO - Chain [1] start processing\n",
      "00:27:15 - cmdstanpy - INFO - Chain [1] done processing\n"
     ]
    },
    {
     "name": "stdout",
     "output_type": "stream",
     "text": [
      "cr, cps : 0.55, 0.85, mae : 95.06672717154625 best mae : 94.90266067079162\n"
     ]
    },
    {
     "name": "stderr",
     "output_type": "stream",
     "text": [
      "00:27:19 - cmdstanpy - INFO - Chain [1] start processing\n",
      "00:27:32 - cmdstanpy - INFO - Chain [1] done processing\n",
      " 22%|██▏       | 2/9 [09:23<33:12, 284.59s/it]"
     ]
    },
    {
     "name": "stdout",
     "output_type": "stream",
     "text": [
      "cr, cps : 0.55, 0.9, mae : 95.11908350316472 best mae : 94.90266067079162\n"
     ]
    },
    {
     "name": "stderr",
     "output_type": "stream",
     "text": [
      "00:27:36 - cmdstanpy - INFO - Chain [1] start processing\n",
      "00:27:43 - cmdstanpy - INFO - Chain [1] done processing\n"
     ]
    },
    {
     "name": "stdout",
     "output_type": "stream",
     "text": [
      "cr, cps : 0.6, 0.05, mae : 94.89789486509511 best mae : 94.90266067079162\n"
     ]
    },
    {
     "name": "stderr",
     "output_type": "stream",
     "text": [
      "00:27:47 - cmdstanpy - INFO - Chain [1] start processing\n",
      "00:27:56 - cmdstanpy - INFO - Chain [1] done processing\n"
     ]
    },
    {
     "name": "stdout",
     "output_type": "stream",
     "text": [
      "cr, cps : 0.6, 0.1, mae : 94.72563318615374 best mae : 94.89789486509511\n"
     ]
    },
    {
     "name": "stderr",
     "output_type": "stream",
     "text": [
      "00:28:00 - cmdstanpy - INFO - Chain [1] start processing\n",
      "00:28:08 - cmdstanpy - INFO - Chain [1] done processing\n"
     ]
    },
    {
     "name": "stdout",
     "output_type": "stream",
     "text": [
      "cr, cps : 0.6, 0.15, mae : 94.7326786302426 best mae : 94.72563318615374\n"
     ]
    },
    {
     "name": "stderr",
     "output_type": "stream",
     "text": [
      "00:28:12 - cmdstanpy - INFO - Chain [1] start processing\n",
      "00:28:25 - cmdstanpy - INFO - Chain [1] done processing\n"
     ]
    },
    {
     "name": "stdout",
     "output_type": "stream",
     "text": [
      "cr, cps : 0.6, 0.2, mae : 94.79328929470638 best mae : 94.72563318615374\n"
     ]
    },
    {
     "name": "stderr",
     "output_type": "stream",
     "text": [
      "00:28:29 - cmdstanpy - INFO - Chain [1] start processing\n",
      "00:28:37 - cmdstanpy - INFO - Chain [1] done processing\n"
     ]
    },
    {
     "name": "stdout",
     "output_type": "stream",
     "text": [
      "cr, cps : 0.6, 0.25, mae : 94.79991255501724 best mae : 94.72563318615374\n"
     ]
    },
    {
     "name": "stderr",
     "output_type": "stream",
     "text": [
      "00:28:42 - cmdstanpy - INFO - Chain [1] start processing\n",
      "00:28:53 - cmdstanpy - INFO - Chain [1] done processing\n"
     ]
    },
    {
     "name": "stdout",
     "output_type": "stream",
     "text": [
      "cr, cps : 0.6, 0.3, mae : 94.72972836492863 best mae : 94.72563318615374\n"
     ]
    },
    {
     "name": "stderr",
     "output_type": "stream",
     "text": [
      "00:28:57 - cmdstanpy - INFO - Chain [1] start processing\n",
      "00:29:06 - cmdstanpy - INFO - Chain [1] done processing\n"
     ]
    },
    {
     "name": "stdout",
     "output_type": "stream",
     "text": [
      "cr, cps : 0.6, 0.35, mae : 94.90177831643523 best mae : 94.72563318615374\n"
     ]
    },
    {
     "name": "stderr",
     "output_type": "stream",
     "text": [
      "00:29:10 - cmdstanpy - INFO - Chain [1] start processing\n",
      "00:29:20 - cmdstanpy - INFO - Chain [1] done processing\n"
     ]
    },
    {
     "name": "stdout",
     "output_type": "stream",
     "text": [
      "cr, cps : 0.6, 0.4, mae : 94.69406405690698 best mae : 94.72563318615374\n"
     ]
    },
    {
     "name": "stderr",
     "output_type": "stream",
     "text": [
      "00:29:24 - cmdstanpy - INFO - Chain [1] start processing\n",
      "00:29:37 - cmdstanpy - INFO - Chain [1] done processing\n"
     ]
    },
    {
     "name": "stdout",
     "output_type": "stream",
     "text": [
      "cr, cps : 0.6, 0.45, mae : 94.86289269569457 best mae : 94.69406405690698\n"
     ]
    },
    {
     "name": "stderr",
     "output_type": "stream",
     "text": [
      "00:29:41 - cmdstanpy - INFO - Chain [1] start processing\n",
      "00:29:54 - cmdstanpy - INFO - Chain [1] done processing\n"
     ]
    },
    {
     "name": "stdout",
     "output_type": "stream",
     "text": [
      "cr, cps : 0.6, 0.5, mae : 94.82414892223933 best mae : 94.69406405690698\n"
     ]
    },
    {
     "name": "stderr",
     "output_type": "stream",
     "text": [
      "00:29:58 - cmdstanpy - INFO - Chain [1] start processing\n",
      "00:30:11 - cmdstanpy - INFO - Chain [1] done processing\n"
     ]
    },
    {
     "name": "stdout",
     "output_type": "stream",
     "text": [
      "cr, cps : 0.6, 0.55, mae : 94.81282187594518 best mae : 94.69406405690698\n"
     ]
    },
    {
     "name": "stderr",
     "output_type": "stream",
     "text": [
      "00:30:15 - cmdstanpy - INFO - Chain [1] start processing\n",
      "00:30:29 - cmdstanpy - INFO - Chain [1] done processing\n"
     ]
    },
    {
     "name": "stdout",
     "output_type": "stream",
     "text": [
      "cr, cps : 0.6, 0.6, mae : 94.73501958307924 best mae : 94.69406405690698\n"
     ]
    },
    {
     "name": "stderr",
     "output_type": "stream",
     "text": [
      "00:30:33 - cmdstanpy - INFO - Chain [1] start processing\n",
      "00:30:45 - cmdstanpy - INFO - Chain [1] done processing\n"
     ]
    },
    {
     "name": "stdout",
     "output_type": "stream",
     "text": [
      "cr, cps : 0.6, 0.65, mae : 94.68778409592123 best mae : 94.69406405690698\n"
     ]
    },
    {
     "name": "stderr",
     "output_type": "stream",
     "text": [
      "00:30:49 - cmdstanpy - INFO - Chain [1] start processing\n",
      "00:31:06 - cmdstanpy - INFO - Chain [1] done processing\n"
     ]
    },
    {
     "name": "stdout",
     "output_type": "stream",
     "text": [
      "cr, cps : 0.6, 0.7, mae : 94.80548763431587 best mae : 94.68778409592123\n"
     ]
    },
    {
     "name": "stderr",
     "output_type": "stream",
     "text": [
      "00:31:10 - cmdstanpy - INFO - Chain [1] start processing\n",
      "00:31:24 - cmdstanpy - INFO - Chain [1] done processing\n"
     ]
    },
    {
     "name": "stdout",
     "output_type": "stream",
     "text": [
      "cr, cps : 0.6, 0.75, mae : 94.84561489676881 best mae : 94.68778409592123\n"
     ]
    },
    {
     "name": "stderr",
     "output_type": "stream",
     "text": [
      "00:31:28 - cmdstanpy - INFO - Chain [1] start processing\n",
      "00:31:40 - cmdstanpy - INFO - Chain [1] done processing\n"
     ]
    },
    {
     "name": "stdout",
     "output_type": "stream",
     "text": [
      "cr, cps : 0.6, 0.8, mae : 94.70908001019508 best mae : 94.68778409592123\n"
     ]
    },
    {
     "name": "stderr",
     "output_type": "stream",
     "text": [
      "00:31:44 - cmdstanpy - INFO - Chain [1] start processing\n",
      "00:31:56 - cmdstanpy - INFO - Chain [1] done processing\n"
     ]
    },
    {
     "name": "stdout",
     "output_type": "stream",
     "text": [
      "cr, cps : 0.6, 0.85, mae : 94.77691470939254 best mae : 94.68778409592123\n"
     ]
    },
    {
     "name": "stderr",
     "output_type": "stream",
     "text": [
      "00:32:00 - cmdstanpy - INFO - Chain [1] start processing\n",
      "00:32:19 - cmdstanpy - INFO - Chain [1] done processing\n",
      " 33%|███▎      | 3/9 [14:10<28:33, 285.65s/it]"
     ]
    },
    {
     "name": "stdout",
     "output_type": "stream",
     "text": [
      "cr, cps : 0.6, 0.9, mae : 94.89041817406726 best mae : 94.68778409592123\n"
     ]
    },
    {
     "name": "stderr",
     "output_type": "stream",
     "text": [
      "00:32:23 - cmdstanpy - INFO - Chain [1] start processing\n",
      "00:32:33 - cmdstanpy - INFO - Chain [1] done processing\n"
     ]
    },
    {
     "name": "stdout",
     "output_type": "stream",
     "text": [
      "cr, cps : 0.65, 0.05, mae : 94.67511053961867 best mae : 94.68778409592123\n"
     ]
    },
    {
     "name": "stderr",
     "output_type": "stream",
     "text": [
      "00:32:37 - cmdstanpy - INFO - Chain [1] start processing\n",
      "00:32:45 - cmdstanpy - INFO - Chain [1] done processing\n"
     ]
    },
    {
     "name": "stdout",
     "output_type": "stream",
     "text": [
      "cr, cps : 0.65, 0.1, mae : 94.6236071620425 best mae : 94.67511053961867\n"
     ]
    },
    {
     "name": "stderr",
     "output_type": "stream",
     "text": [
      "00:32:49 - cmdstanpy - INFO - Chain [1] start processing\n",
      "00:33:01 - cmdstanpy - INFO - Chain [1] done processing\n"
     ]
    },
    {
     "name": "stdout",
     "output_type": "stream",
     "text": [
      "cr, cps : 0.65, 0.15, mae : 94.65360302943253 best mae : 94.6236071620425\n"
     ]
    },
    {
     "name": "stderr",
     "output_type": "stream",
     "text": [
      "00:33:05 - cmdstanpy - INFO - Chain [1] start processing\n",
      "00:33:16 - cmdstanpy - INFO - Chain [1] done processing\n"
     ]
    },
    {
     "name": "stdout",
     "output_type": "stream",
     "text": [
      "cr, cps : 0.65, 0.2, mae : 94.64712479287823 best mae : 94.6236071620425\n"
     ]
    },
    {
     "name": "stderr",
     "output_type": "stream",
     "text": [
      "00:33:20 - cmdstanpy - INFO - Chain [1] start processing\n",
      "00:33:31 - cmdstanpy - INFO - Chain [1] done processing\n"
     ]
    },
    {
     "name": "stdout",
     "output_type": "stream",
     "text": [
      "cr, cps : 0.65, 0.25, mae : 94.72090626184784 best mae : 94.6236071620425\n"
     ]
    },
    {
     "name": "stderr",
     "output_type": "stream",
     "text": [
      "00:33:36 - cmdstanpy - INFO - Chain [1] start processing\n",
      "00:33:44 - cmdstanpy - INFO - Chain [1] done processing\n"
     ]
    },
    {
     "name": "stdout",
     "output_type": "stream",
     "text": [
      "cr, cps : 0.65, 0.3, mae : 94.6946719374188 best mae : 94.6236071620425\n"
     ]
    },
    {
     "name": "stderr",
     "output_type": "stream",
     "text": [
      "00:33:48 - cmdstanpy - INFO - Chain [1] start processing\n",
      "00:33:55 - cmdstanpy - INFO - Chain [1] done processing\n"
     ]
    },
    {
     "name": "stdout",
     "output_type": "stream",
     "text": [
      "cr, cps : 0.65, 0.35, mae : 94.59600331790155 best mae : 94.6236071620425\n"
     ]
    },
    {
     "name": "stderr",
     "output_type": "stream",
     "text": [
      "00:33:59 - cmdstanpy - INFO - Chain [1] start processing\n",
      "00:34:13 - cmdstanpy - INFO - Chain [1] done processing\n"
     ]
    },
    {
     "name": "stdout",
     "output_type": "stream",
     "text": [
      "cr, cps : 0.65, 0.4, mae : 94.64744741311496 best mae : 94.59600331790155\n"
     ]
    },
    {
     "name": "stderr",
     "output_type": "stream",
     "text": [
      "00:34:18 - cmdstanpy - INFO - Chain [1] start processing\n",
      "00:34:26 - cmdstanpy - INFO - Chain [1] done processing\n"
     ]
    },
    {
     "name": "stdout",
     "output_type": "stream",
     "text": [
      "cr, cps : 0.65, 0.45, mae : 94.5636453866044 best mae : 94.59600331790155\n"
     ]
    },
    {
     "name": "stderr",
     "output_type": "stream",
     "text": [
      "00:34:30 - cmdstanpy - INFO - Chain [1] start processing\n",
      "00:34:39 - cmdstanpy - INFO - Chain [1] done processing\n"
     ]
    },
    {
     "name": "stdout",
     "output_type": "stream",
     "text": [
      "cr, cps : 0.65, 0.5, mae : 94.63889174074473 best mae : 94.5636453866044\n"
     ]
    },
    {
     "name": "stderr",
     "output_type": "stream",
     "text": [
      "00:34:44 - cmdstanpy - INFO - Chain [1] start processing\n",
      "00:34:58 - cmdstanpy - INFO - Chain [1] done processing\n"
     ]
    },
    {
     "name": "stdout",
     "output_type": "stream",
     "text": [
      "cr, cps : 0.65, 0.55, mae : 94.76531225493937 best mae : 94.5636453866044\n"
     ]
    },
    {
     "name": "stderr",
     "output_type": "stream",
     "text": [
      "00:35:02 - cmdstanpy - INFO - Chain [1] start processing\n",
      "00:35:16 - cmdstanpy - INFO - Chain [1] done processing\n"
     ]
    },
    {
     "name": "stdout",
     "output_type": "stream",
     "text": [
      "cr, cps : 0.65, 0.6, mae : 94.7603528359441 best mae : 94.5636453866044\n"
     ]
    },
    {
     "name": "stderr",
     "output_type": "stream",
     "text": [
      "00:35:20 - cmdstanpy - INFO - Chain [1] start processing\n",
      "00:35:25 - cmdstanpy - INFO - Chain [1] done processing\n"
     ]
    },
    {
     "name": "stdout",
     "output_type": "stream",
     "text": [
      "cr, cps : 0.65, 0.65, mae : 94.75753401430339 best mae : 94.5636453866044\n"
     ]
    },
    {
     "name": "stderr",
     "output_type": "stream",
     "text": [
      "00:35:29 - cmdstanpy - INFO - Chain [1] start processing\n",
      "00:35:38 - cmdstanpy - INFO - Chain [1] done processing\n"
     ]
    },
    {
     "name": "stdout",
     "output_type": "stream",
     "text": [
      "cr, cps : 0.65, 0.7, mae : 94.56830118602231 best mae : 94.5636453866044\n"
     ]
    },
    {
     "name": "stderr",
     "output_type": "stream",
     "text": [
      "00:35:43 - cmdstanpy - INFO - Chain [1] start processing\n",
      "00:35:56 - cmdstanpy - INFO - Chain [1] done processing\n"
     ]
    },
    {
     "name": "stdout",
     "output_type": "stream",
     "text": [
      "cr, cps : 0.65, 0.75, mae : 94.73154779245775 best mae : 94.5636453866044\n"
     ]
    },
    {
     "name": "stderr",
     "output_type": "stream",
     "text": [
      "00:36:00 - cmdstanpy - INFO - Chain [1] start processing\n",
      "00:36:16 - cmdstanpy - INFO - Chain [1] done processing\n"
     ]
    },
    {
     "name": "stdout",
     "output_type": "stream",
     "text": [
      "cr, cps : 0.65, 0.8, mae : 94.72396069370664 best mae : 94.5636453866044\n"
     ]
    },
    {
     "name": "stderr",
     "output_type": "stream",
     "text": [
      "00:36:20 - cmdstanpy - INFO - Chain [1] start processing\n",
      "00:36:31 - cmdstanpy - INFO - Chain [1] done processing\n"
     ]
    },
    {
     "name": "stdout",
     "output_type": "stream",
     "text": [
      "cr, cps : 0.65, 0.85, mae : 94.70402413696917 best mae : 94.5636453866044\n"
     ]
    },
    {
     "name": "stderr",
     "output_type": "stream",
     "text": [
      "00:36:36 - cmdstanpy - INFO - Chain [1] start processing\n",
      "00:36:44 - cmdstanpy - INFO - Chain [1] done processing\n",
      " 44%|████▍     | 4/9 [18:35<23:08, 277.61s/it]"
     ]
    },
    {
     "name": "stdout",
     "output_type": "stream",
     "text": [
      "cr, cps : 0.65, 0.9, mae : 94.53858651378793 best mae : 94.5636453866044\n"
     ]
    },
    {
     "name": "stderr",
     "output_type": "stream",
     "text": [
      "00:36:48 - cmdstanpy - INFO - Chain [1] start processing\n",
      "00:36:56 - cmdstanpy - INFO - Chain [1] done processing\n"
     ]
    },
    {
     "name": "stdout",
     "output_type": "stream",
     "text": [
      "cr, cps : 0.7, 0.05, mae : 94.74593112248847 best mae : 94.53858651378793\n"
     ]
    },
    {
     "name": "stderr",
     "output_type": "stream",
     "text": [
      "00:37:00 - cmdstanpy - INFO - Chain [1] start processing\n",
      "00:37:12 - cmdstanpy - INFO - Chain [1] done processing\n"
     ]
    },
    {
     "name": "stdout",
     "output_type": "stream",
     "text": [
      "cr, cps : 0.7, 0.1, mae : 94.71322144089207 best mae : 94.53858651378793\n"
     ]
    },
    {
     "name": "stderr",
     "output_type": "stream",
     "text": [
      "00:37:16 - cmdstanpy - INFO - Chain [1] start processing\n",
      "00:37:29 - cmdstanpy - INFO - Chain [1] done processing\n"
     ]
    },
    {
     "name": "stdout",
     "output_type": "stream",
     "text": [
      "cr, cps : 0.7, 0.15, mae : 94.86476964113696 best mae : 94.53858651378793\n"
     ]
    },
    {
     "name": "stderr",
     "output_type": "stream",
     "text": [
      "00:37:33 - cmdstanpy - INFO - Chain [1] start processing\n",
      "00:37:42 - cmdstanpy - INFO - Chain [1] done processing\n"
     ]
    },
    {
     "name": "stdout",
     "output_type": "stream",
     "text": [
      "cr, cps : 0.7, 0.2, mae : 94.85996973668973 best mae : 94.53858651378793\n"
     ]
    },
    {
     "name": "stderr",
     "output_type": "stream",
     "text": [
      "00:37:47 - cmdstanpy - INFO - Chain [1] start processing\n",
      "00:37:57 - cmdstanpy - INFO - Chain [1] done processing\n"
     ]
    },
    {
     "name": "stdout",
     "output_type": "stream",
     "text": [
      "cr, cps : 0.7, 0.25, mae : 94.89491661742196 best mae : 94.53858651378793\n"
     ]
    },
    {
     "name": "stderr",
     "output_type": "stream",
     "text": [
      "00:38:01 - cmdstanpy - INFO - Chain [1] start processing\n",
      "00:38:16 - cmdstanpy - INFO - Chain [1] done processing\n"
     ]
    },
    {
     "name": "stdout",
     "output_type": "stream",
     "text": [
      "cr, cps : 0.7, 0.3, mae : 94.75384165729561 best mae : 94.53858651378793\n"
     ]
    },
    {
     "name": "stderr",
     "output_type": "stream",
     "text": [
      "00:38:20 - cmdstanpy - INFO - Chain [1] start processing\n",
      "00:38:37 - cmdstanpy - INFO - Chain [1] done processing\n"
     ]
    },
    {
     "name": "stdout",
     "output_type": "stream",
     "text": [
      "cr, cps : 0.7, 0.35, mae : 94.74190272753542 best mae : 94.53858651378793\n"
     ]
    },
    {
     "name": "stderr",
     "output_type": "stream",
     "text": [
      "00:38:41 - cmdstanpy - INFO - Chain [1] start processing\n",
      "00:38:54 - cmdstanpy - INFO - Chain [1] done processing\n"
     ]
    },
    {
     "name": "stdout",
     "output_type": "stream",
     "text": [
      "cr, cps : 0.7, 0.4, mae : 95.01109699556724 best mae : 94.53858651378793\n"
     ]
    },
    {
     "name": "stderr",
     "output_type": "stream",
     "text": [
      "00:38:58 - cmdstanpy - INFO - Chain [1] start processing\n",
      "00:39:11 - cmdstanpy - INFO - Chain [1] done processing\n"
     ]
    },
    {
     "name": "stdout",
     "output_type": "stream",
     "text": [
      "cr, cps : 0.7, 0.45, mae : 94.88151810433689 best mae : 94.53858651378793\n"
     ]
    },
    {
     "name": "stderr",
     "output_type": "stream",
     "text": [
      "00:39:16 - cmdstanpy - INFO - Chain [1] start processing\n",
      "00:39:34 - cmdstanpy - INFO - Chain [1] done processing\n"
     ]
    },
    {
     "name": "stdout",
     "output_type": "stream",
     "text": [
      "cr, cps : 0.7, 0.5, mae : 94.83307054940332 best mae : 94.53858651378793\n"
     ]
    },
    {
     "name": "stderr",
     "output_type": "stream",
     "text": [
      "00:39:38 - cmdstanpy - INFO - Chain [1] start processing\n",
      "00:39:51 - cmdstanpy - INFO - Chain [1] done processing\n"
     ]
    },
    {
     "name": "stdout",
     "output_type": "stream",
     "text": [
      "cr, cps : 0.7, 0.55, mae : 94.85255382790706 best mae : 94.53858651378793\n"
     ]
    },
    {
     "name": "stderr",
     "output_type": "stream",
     "text": [
      "00:39:56 - cmdstanpy - INFO - Chain [1] start processing\n",
      "00:40:08 - cmdstanpy - INFO - Chain [1] done processing\n"
     ]
    },
    {
     "name": "stdout",
     "output_type": "stream",
     "text": [
      "cr, cps : 0.7, 0.6, mae : 94.92702153821304 best mae : 94.53858651378793\n"
     ]
    },
    {
     "name": "stderr",
     "output_type": "stream",
     "text": [
      "00:40:12 - cmdstanpy - INFO - Chain [1] start processing\n",
      "00:40:24 - cmdstanpy - INFO - Chain [1] done processing\n"
     ]
    },
    {
     "name": "stdout",
     "output_type": "stream",
     "text": [
      "cr, cps : 0.7, 0.65, mae : 94.81628360115674 best mae : 94.53858651378793\n"
     ]
    },
    {
     "name": "stderr",
     "output_type": "stream",
     "text": [
      "00:40:28 - cmdstanpy - INFO - Chain [1] start processing\n",
      "00:40:41 - cmdstanpy - INFO - Chain [1] done processing\n"
     ]
    },
    {
     "name": "stdout",
     "output_type": "stream",
     "text": [
      "cr, cps : 0.7, 0.7, mae : 94.84011630740476 best mae : 94.53858651378793\n"
     ]
    },
    {
     "name": "stderr",
     "output_type": "stream",
     "text": [
      "00:40:46 - cmdstanpy - INFO - Chain [1] start processing\n",
      "00:40:59 - cmdstanpy - INFO - Chain [1] done processing\n"
     ]
    },
    {
     "name": "stdout",
     "output_type": "stream",
     "text": [
      "cr, cps : 0.7, 0.75, mae : 94.78966580769927 best mae : 94.53858651378793\n"
     ]
    },
    {
     "name": "stderr",
     "output_type": "stream",
     "text": [
      "00:41:04 - cmdstanpy - INFO - Chain [1] start processing\n",
      "00:41:18 - cmdstanpy - INFO - Chain [1] done processing\n"
     ]
    },
    {
     "name": "stdout",
     "output_type": "stream",
     "text": [
      "cr, cps : 0.7, 0.8, mae : 94.94652477292647 best mae : 94.53858651378793\n"
     ]
    },
    {
     "name": "stderr",
     "output_type": "stream",
     "text": [
      "00:41:22 - cmdstanpy - INFO - Chain [1] start processing\n",
      "00:41:36 - cmdstanpy - INFO - Chain [1] done processing\n"
     ]
    },
    {
     "name": "stdout",
     "output_type": "stream",
     "text": [
      "cr, cps : 0.7, 0.85, mae : 94.98092545662995 best mae : 94.53858651378793\n"
     ]
    },
    {
     "name": "stderr",
     "output_type": "stream",
     "text": [
      "00:41:40 - cmdstanpy - INFO - Chain [1] start processing\n",
      "00:41:55 - cmdstanpy - INFO - Chain [1] done processing\n",
      " 56%|█████▌    | 5/9 [23:46<19:19, 289.80s/it]"
     ]
    },
    {
     "name": "stdout",
     "output_type": "stream",
     "text": [
      "cr, cps : 0.7, 0.9, mae : 94.86283391638383 best mae : 94.53858651378793\n"
     ]
    },
    {
     "name": "stderr",
     "output_type": "stream",
     "text": [
      "00:42:00 - cmdstanpy - INFO - Chain [1] start processing\n",
      "00:42:07 - cmdstanpy - INFO - Chain [1] done processing\n"
     ]
    },
    {
     "name": "stdout",
     "output_type": "stream",
     "text": [
      "cr, cps : 0.75, 0.05, mae : 94.83434856829365 best mae : 94.53858651378793\n"
     ]
    },
    {
     "name": "stderr",
     "output_type": "stream",
     "text": [
      "00:42:11 - cmdstanpy - INFO - Chain [1] start processing\n",
      "00:42:24 - cmdstanpy - INFO - Chain [1] done processing\n"
     ]
    },
    {
     "name": "stdout",
     "output_type": "stream",
     "text": [
      "cr, cps : 0.75, 0.1, mae : 94.88136728996697 best mae : 94.53858651378793\n"
     ]
    },
    {
     "name": "stderr",
     "output_type": "stream",
     "text": [
      "00:42:28 - cmdstanpy - INFO - Chain [1] start processing\n",
      "00:42:42 - cmdstanpy - INFO - Chain [1] done processing\n"
     ]
    },
    {
     "name": "stdout",
     "output_type": "stream",
     "text": [
      "cr, cps : 0.75, 0.15, mae : 94.98865650253167 best mae : 94.53858651378793\n"
     ]
    },
    {
     "name": "stderr",
     "output_type": "stream",
     "text": [
      "00:42:46 - cmdstanpy - INFO - Chain [1] start processing\n",
      "00:43:03 - cmdstanpy - INFO - Chain [1] done processing\n"
     ]
    },
    {
     "name": "stdout",
     "output_type": "stream",
     "text": [
      "cr, cps : 0.75, 0.2, mae : 94.927951181101 best mae : 94.53858651378793\n"
     ]
    },
    {
     "name": "stderr",
     "output_type": "stream",
     "text": [
      "00:43:07 - cmdstanpy - INFO - Chain [1] start processing\n",
      "00:43:19 - cmdstanpy - INFO - Chain [1] done processing\n"
     ]
    },
    {
     "name": "stdout",
     "output_type": "stream",
     "text": [
      "cr, cps : 0.75, 0.25, mae : 94.88934703319224 best mae : 94.53858651378793\n"
     ]
    },
    {
     "name": "stderr",
     "output_type": "stream",
     "text": [
      "00:43:23 - cmdstanpy - INFO - Chain [1] start processing\n",
      "00:43:39 - cmdstanpy - INFO - Chain [1] done processing\n"
     ]
    },
    {
     "name": "stdout",
     "output_type": "stream",
     "text": [
      "cr, cps : 0.75, 0.3, mae : 94.9359661150466 best mae : 94.53858651378793\n"
     ]
    },
    {
     "name": "stderr",
     "output_type": "stream",
     "text": [
      "00:43:44 - cmdstanpy - INFO - Chain [1] start processing\n",
      "00:43:53 - cmdstanpy - INFO - Chain [1] done processing\n"
     ]
    },
    {
     "name": "stdout",
     "output_type": "stream",
     "text": [
      "cr, cps : 0.75, 0.35, mae : 95.02905436542927 best mae : 94.53858651378793\n"
     ]
    },
    {
     "name": "stderr",
     "output_type": "stream",
     "text": [
      "00:43:58 - cmdstanpy - INFO - Chain [1] start processing\n",
      "00:44:07 - cmdstanpy - INFO - Chain [1] done processing\n"
     ]
    },
    {
     "name": "stdout",
     "output_type": "stream",
     "text": [
      "cr, cps : 0.75, 0.4, mae : 95.22542659559423 best mae : 94.53858651378793\n"
     ]
    },
    {
     "name": "stderr",
     "output_type": "stream",
     "text": [
      "00:44:12 - cmdstanpy - INFO - Chain [1] start processing\n",
      "00:44:24 - cmdstanpy - INFO - Chain [1] done processing\n"
     ]
    },
    {
     "name": "stdout",
     "output_type": "stream",
     "text": [
      "cr, cps : 0.75, 0.45, mae : 94.8536769212565 best mae : 94.53858651378793\n"
     ]
    },
    {
     "name": "stderr",
     "output_type": "stream",
     "text": [
      "00:44:28 - cmdstanpy - INFO - Chain [1] start processing\n",
      "00:44:38 - cmdstanpy - INFO - Chain [1] done processing\n"
     ]
    },
    {
     "name": "stdout",
     "output_type": "stream",
     "text": [
      "cr, cps : 0.75, 0.5, mae : 94.96710751528319 best mae : 94.53858651378793\n"
     ]
    },
    {
     "name": "stderr",
     "output_type": "stream",
     "text": [
      "00:44:42 - cmdstanpy - INFO - Chain [1] start processing\n",
      "00:44:54 - cmdstanpy - INFO - Chain [1] done processing\n"
     ]
    },
    {
     "name": "stdout",
     "output_type": "stream",
     "text": [
      "cr, cps : 0.75, 0.55, mae : 94.73660712446544 best mae : 94.53858651378793\n"
     ]
    },
    {
     "name": "stderr",
     "output_type": "stream",
     "text": [
      "00:44:58 - cmdstanpy - INFO - Chain [1] start processing\n",
      "00:45:09 - cmdstanpy - INFO - Chain [1] done processing\n"
     ]
    },
    {
     "name": "stdout",
     "output_type": "stream",
     "text": [
      "cr, cps : 0.75, 0.6, mae : 94.97118166120052 best mae : 94.53858651378793\n"
     ]
    },
    {
     "name": "stderr",
     "output_type": "stream",
     "text": [
      "00:45:13 - cmdstanpy - INFO - Chain [1] start processing\n",
      "00:45:28 - cmdstanpy - INFO - Chain [1] done processing\n"
     ]
    },
    {
     "name": "stdout",
     "output_type": "stream",
     "text": [
      "cr, cps : 0.75, 0.65, mae : 94.90172527842765 best mae : 94.53858651378793\n"
     ]
    },
    {
     "name": "stderr",
     "output_type": "stream",
     "text": [
      "00:45:32 - cmdstanpy - INFO - Chain [1] start processing\n",
      "00:45:50 - cmdstanpy - INFO - Chain [1] done processing\n"
     ]
    },
    {
     "name": "stdout",
     "output_type": "stream",
     "text": [
      "cr, cps : 0.75, 0.7, mae : 95.21880090551714 best mae : 94.53858651378793\n"
     ]
    },
    {
     "name": "stderr",
     "output_type": "stream",
     "text": [
      "00:45:54 - cmdstanpy - INFO - Chain [1] start processing\n",
      "00:46:07 - cmdstanpy - INFO - Chain [1] done processing\n"
     ]
    },
    {
     "name": "stdout",
     "output_type": "stream",
     "text": [
      "cr, cps : 0.75, 0.75, mae : 94.70332062853895 best mae : 94.53858651378793\n"
     ]
    },
    {
     "name": "stderr",
     "output_type": "stream",
     "text": [
      "00:46:11 - cmdstanpy - INFO - Chain [1] start processing\n",
      "00:46:24 - cmdstanpy - INFO - Chain [1] done processing\n"
     ]
    },
    {
     "name": "stdout",
     "output_type": "stream",
     "text": [
      "cr, cps : 0.75, 0.8, mae : 94.98891527542906 best mae : 94.53858651378793\n"
     ]
    },
    {
     "name": "stderr",
     "output_type": "stream",
     "text": [
      "00:46:28 - cmdstanpy - INFO - Chain [1] start processing\n",
      "00:46:41 - cmdstanpy - INFO - Chain [1] done processing\n"
     ]
    },
    {
     "name": "stdout",
     "output_type": "stream",
     "text": [
      "cr, cps : 0.75, 0.85, mae : 94.97298965153922 best mae : 94.53858651378793\n"
     ]
    },
    {
     "name": "stderr",
     "output_type": "stream",
     "text": [
      "00:46:45 - cmdstanpy - INFO - Chain [1] start processing\n",
      "00:46:59 - cmdstanpy - INFO - Chain [1] done processing\n",
      " 67%|██████▋   | 6/9 [28:50<14:43, 294.57s/it]"
     ]
    },
    {
     "name": "stdout",
     "output_type": "stream",
     "text": [
      "cr, cps : 0.75, 0.9, mae : 95.1460416187781 best mae : 94.53858651378793\n"
     ]
    },
    {
     "name": "stderr",
     "output_type": "stream",
     "text": [
      "00:47:04 - cmdstanpy - INFO - Chain [1] start processing\n",
      "00:47:16 - cmdstanpy - INFO - Chain [1] done processing\n"
     ]
    },
    {
     "name": "stdout",
     "output_type": "stream",
     "text": [
      "cr, cps : 0.8, 0.05, mae : 94.77243063459409 best mae : 94.53858651378793\n"
     ]
    },
    {
     "name": "stderr",
     "output_type": "stream",
     "text": [
      "00:47:20 - cmdstanpy - INFO - Chain [1] start processing\n",
      "00:47:29 - cmdstanpy - INFO - Chain [1] done processing\n"
     ]
    },
    {
     "name": "stdout",
     "output_type": "stream",
     "text": [
      "cr, cps : 0.8, 0.1, mae : 94.67564543026198 best mae : 94.53858651378793\n"
     ]
    },
    {
     "name": "stderr",
     "output_type": "stream",
     "text": [
      "00:47:34 - cmdstanpy - INFO - Chain [1] start processing\n",
      "00:47:46 - cmdstanpy - INFO - Chain [1] done processing\n"
     ]
    },
    {
     "name": "stdout",
     "output_type": "stream",
     "text": [
      "cr, cps : 0.8, 0.15, mae : 94.47688003674224 best mae : 94.53858651378793\n"
     ]
    },
    {
     "name": "stderr",
     "output_type": "stream",
     "text": [
      "00:47:50 - cmdstanpy - INFO - Chain [1] start processing\n",
      "00:48:01 - cmdstanpy - INFO - Chain [1] done processing\n"
     ]
    },
    {
     "name": "stdout",
     "output_type": "stream",
     "text": [
      "cr, cps : 0.8, 0.2, mae : 94.9645894012319 best mae : 94.47688003674224\n"
     ]
    },
    {
     "name": "stderr",
     "output_type": "stream",
     "text": [
      "00:48:05 - cmdstanpy - INFO - Chain [1] start processing\n",
      "00:48:17 - cmdstanpy - INFO - Chain [1] done processing\n"
     ]
    },
    {
     "name": "stdout",
     "output_type": "stream",
     "text": [
      "cr, cps : 0.8, 0.25, mae : 94.42133908241524 best mae : 94.47688003674224\n"
     ]
    },
    {
     "name": "stderr",
     "output_type": "stream",
     "text": [
      "00:48:21 - cmdstanpy - INFO - Chain [1] start processing\n",
      "00:48:31 - cmdstanpy - INFO - Chain [1] done processing\n"
     ]
    },
    {
     "name": "stdout",
     "output_type": "stream",
     "text": [
      "cr, cps : 0.8, 0.3, mae : 94.45090289474358 best mae : 94.42133908241524\n"
     ]
    },
    {
     "name": "stderr",
     "output_type": "stream",
     "text": [
      "00:48:35 - cmdstanpy - INFO - Chain [1] start processing\n",
      "00:48:47 - cmdstanpy - INFO - Chain [1] done processing\n"
     ]
    },
    {
     "name": "stdout",
     "output_type": "stream",
     "text": [
      "cr, cps : 0.8, 0.35, mae : 94.33173542689558 best mae : 94.42133908241524\n"
     ]
    },
    {
     "name": "stderr",
     "output_type": "stream",
     "text": [
      "00:48:52 - cmdstanpy - INFO - Chain [1] start processing\n",
      "00:49:08 - cmdstanpy - INFO - Chain [1] done processing\n"
     ]
    },
    {
     "name": "stdout",
     "output_type": "stream",
     "text": [
      "cr, cps : 0.8, 0.4, mae : 94.62286512038715 best mae : 94.33173542689558\n"
     ]
    },
    {
     "name": "stderr",
     "output_type": "stream",
     "text": [
      "00:49:12 - cmdstanpy - INFO - Chain [1] start processing\n",
      "00:49:30 - cmdstanpy - INFO - Chain [1] done processing\n"
     ]
    },
    {
     "name": "stdout",
     "output_type": "stream",
     "text": [
      "cr, cps : 0.8, 0.45, mae : 94.71791822282209 best mae : 94.33173542689558\n"
     ]
    },
    {
     "name": "stderr",
     "output_type": "stream",
     "text": [
      "00:49:34 - cmdstanpy - INFO - Chain [1] start processing\n",
      "00:49:46 - cmdstanpy - INFO - Chain [1] done processing\n"
     ]
    },
    {
     "name": "stdout",
     "output_type": "stream",
     "text": [
      "cr, cps : 0.8, 0.5, mae : 94.5258703595714 best mae : 94.33173542689558\n"
     ]
    },
    {
     "name": "stderr",
     "output_type": "stream",
     "text": [
      "00:49:50 - cmdstanpy - INFO - Chain [1] start processing\n",
      "00:50:04 - cmdstanpy - INFO - Chain [1] done processing\n"
     ]
    },
    {
     "name": "stdout",
     "output_type": "stream",
     "text": [
      "cr, cps : 0.8, 0.55, mae : 94.53163352026495 best mae : 94.33173542689558\n"
     ]
    },
    {
     "name": "stderr",
     "output_type": "stream",
     "text": [
      "00:50:08 - cmdstanpy - INFO - Chain [1] start processing\n",
      "00:50:23 - cmdstanpy - INFO - Chain [1] done processing\n"
     ]
    },
    {
     "name": "stdout",
     "output_type": "stream",
     "text": [
      "cr, cps : 0.8, 0.6, mae : 94.38481003950413 best mae : 94.33173542689558\n"
     ]
    },
    {
     "name": "stderr",
     "output_type": "stream",
     "text": [
      "00:50:28 - cmdstanpy - INFO - Chain [1] start processing\n",
      "00:50:39 - cmdstanpy - INFO - Chain [1] done processing\n"
     ]
    },
    {
     "name": "stdout",
     "output_type": "stream",
     "text": [
      "cr, cps : 0.8, 0.65, mae : 94.4673038495986 best mae : 94.33173542689558\n"
     ]
    },
    {
     "name": "stderr",
     "output_type": "stream",
     "text": [
      "00:50:43 - cmdstanpy - INFO - Chain [1] start processing\n",
      "00:50:56 - cmdstanpy - INFO - Chain [1] done processing\n"
     ]
    },
    {
     "name": "stdout",
     "output_type": "stream",
     "text": [
      "cr, cps : 0.8, 0.7, mae : 95.00973688803404 best mae : 94.33173542689558\n"
     ]
    },
    {
     "name": "stderr",
     "output_type": "stream",
     "text": [
      "00:51:00 - cmdstanpy - INFO - Chain [1] start processing\n",
      "00:51:14 - cmdstanpy - INFO - Chain [1] done processing\n"
     ]
    },
    {
     "name": "stdout",
     "output_type": "stream",
     "text": [
      "cr, cps : 0.8, 0.75, mae : 94.89340367217245 best mae : 94.33173542689558\n"
     ]
    },
    {
     "name": "stderr",
     "output_type": "stream",
     "text": [
      "00:51:19 - cmdstanpy - INFO - Chain [1] start processing\n",
      "00:51:34 - cmdstanpy - INFO - Chain [1] done processing\n"
     ]
    },
    {
     "name": "stdout",
     "output_type": "stream",
     "text": [
      "cr, cps : 0.8, 0.8, mae : 94.77058962264562 best mae : 94.33173542689558\n"
     ]
    },
    {
     "name": "stderr",
     "output_type": "stream",
     "text": [
      "00:51:39 - cmdstanpy - INFO - Chain [1] start processing\n",
      "00:51:53 - cmdstanpy - INFO - Chain [1] done processing\n"
     ]
    },
    {
     "name": "stdout",
     "output_type": "stream",
     "text": [
      "cr, cps : 0.8, 0.85, mae : 94.91569400120486 best mae : 94.33173542689558\n"
     ]
    },
    {
     "name": "stderr",
     "output_type": "stream",
     "text": [
      "00:51:58 - cmdstanpy - INFO - Chain [1] start processing\n",
      "00:52:10 - cmdstanpy - INFO - Chain [1] done processing\n",
      " 78%|███████▊  | 7/9 [34:01<09:59, 299.93s/it]"
     ]
    },
    {
     "name": "stdout",
     "output_type": "stream",
     "text": [
      "cr, cps : 0.8, 0.9, mae : 94.78972434789392 best mae : 94.33173542689558\n"
     ]
    },
    {
     "name": "stderr",
     "output_type": "stream",
     "text": [
      "00:52:15 - cmdstanpy - INFO - Chain [1] start processing\n",
      "00:52:27 - cmdstanpy - INFO - Chain [1] done processing\n"
     ]
    },
    {
     "name": "stdout",
     "output_type": "stream",
     "text": [
      "cr, cps : 0.85, 0.05, mae : 93.83751922956895 best mae : 94.33173542689558\n"
     ]
    },
    {
     "name": "stderr",
     "output_type": "stream",
     "text": [
      "00:52:31 - cmdstanpy - INFO - Chain [1] start processing\n",
      "00:52:42 - cmdstanpy - INFO - Chain [1] done processing\n"
     ]
    },
    {
     "name": "stdout",
     "output_type": "stream",
     "text": [
      "cr, cps : 0.85, 0.1, mae : 93.52215814578193 best mae : 93.83751922956895\n"
     ]
    },
    {
     "name": "stderr",
     "output_type": "stream",
     "text": [
      "00:52:46 - cmdstanpy - INFO - Chain [1] start processing\n",
      "00:52:58 - cmdstanpy - INFO - Chain [1] done processing\n"
     ]
    },
    {
     "name": "stdout",
     "output_type": "stream",
     "text": [
      "cr, cps : 0.85, 0.15, mae : 93.99441756657602 best mae : 93.52215814578193\n"
     ]
    },
    {
     "name": "stderr",
     "output_type": "stream",
     "text": [
      "00:53:02 - cmdstanpy - INFO - Chain [1] start processing\n",
      "00:53:13 - cmdstanpy - INFO - Chain [1] done processing\n"
     ]
    },
    {
     "name": "stdout",
     "output_type": "stream",
     "text": [
      "cr, cps : 0.85, 0.2, mae : 93.79546783707502 best mae : 93.52215814578193\n"
     ]
    },
    {
     "name": "stderr",
     "output_type": "stream",
     "text": [
      "00:53:18 - cmdstanpy - INFO - Chain [1] start processing\n",
      "00:53:30 - cmdstanpy - INFO - Chain [1] done processing\n"
     ]
    },
    {
     "name": "stdout",
     "output_type": "stream",
     "text": [
      "cr, cps : 0.85, 0.25, mae : 93.64218692685812 best mae : 93.52215814578193\n"
     ]
    },
    {
     "name": "stderr",
     "output_type": "stream",
     "text": [
      "00:53:34 - cmdstanpy - INFO - Chain [1] start processing\n",
      "00:53:46 - cmdstanpy - INFO - Chain [1] done processing\n"
     ]
    },
    {
     "name": "stdout",
     "output_type": "stream",
     "text": [
      "cr, cps : 0.85, 0.3, mae : 94.04824719950268 best mae : 93.52215814578193\n"
     ]
    },
    {
     "name": "stderr",
     "output_type": "stream",
     "text": [
      "00:53:51 - cmdstanpy - INFO - Chain [1] start processing\n",
      "00:54:01 - cmdstanpy - INFO - Chain [1] done processing\n"
     ]
    },
    {
     "name": "stdout",
     "output_type": "stream",
     "text": [
      "cr, cps : 0.85, 0.35, mae : 93.58080277006187 best mae : 93.52215814578193\n"
     ]
    },
    {
     "name": "stderr",
     "output_type": "stream",
     "text": [
      "00:54:06 - cmdstanpy - INFO - Chain [1] start processing\n",
      "00:54:18 - cmdstanpy - INFO - Chain [1] done processing\n"
     ]
    },
    {
     "name": "stdout",
     "output_type": "stream",
     "text": [
      "cr, cps : 0.85, 0.4, mae : 93.78049426587371 best mae : 93.52215814578193\n"
     ]
    },
    {
     "name": "stderr",
     "output_type": "stream",
     "text": [
      "00:54:22 - cmdstanpy - INFO - Chain [1] start processing\n",
      "00:54:35 - cmdstanpy - INFO - Chain [1] done processing\n"
     ]
    },
    {
     "name": "stdout",
     "output_type": "stream",
     "text": [
      "cr, cps : 0.85, 0.45, mae : 93.88059783851045 best mae : 93.52215814578193\n"
     ]
    },
    {
     "name": "stderr",
     "output_type": "stream",
     "text": [
      "00:54:39 - cmdstanpy - INFO - Chain [1] start processing\n",
      "00:54:49 - cmdstanpy - INFO - Chain [1] done processing\n"
     ]
    },
    {
     "name": "stdout",
     "output_type": "stream",
     "text": [
      "cr, cps : 0.85, 0.5, mae : 94.099492971541 best mae : 93.52215814578193\n"
     ]
    },
    {
     "name": "stderr",
     "output_type": "stream",
     "text": [
      "00:54:54 - cmdstanpy - INFO - Chain [1] start processing\n",
      "00:55:06 - cmdstanpy - INFO - Chain [1] done processing\n"
     ]
    },
    {
     "name": "stdout",
     "output_type": "stream",
     "text": [
      "cr, cps : 0.85, 0.55, mae : 93.91321539509781 best mae : 93.52215814578193\n"
     ]
    },
    {
     "name": "stderr",
     "output_type": "stream",
     "text": [
      "00:55:10 - cmdstanpy - INFO - Chain [1] start processing\n",
      "00:55:21 - cmdstanpy - INFO - Chain [1] done processing\n"
     ]
    },
    {
     "name": "stdout",
     "output_type": "stream",
     "text": [
      "cr, cps : 0.85, 0.6, mae : 93.7570857454206 best mae : 93.52215814578193\n"
     ]
    },
    {
     "name": "stderr",
     "output_type": "stream",
     "text": [
      "00:55:25 - cmdstanpy - INFO - Chain [1] start processing\n",
      "00:55:36 - cmdstanpy - INFO - Chain [1] done processing\n"
     ]
    },
    {
     "name": "stdout",
     "output_type": "stream",
     "text": [
      "cr, cps : 0.85, 0.65, mae : 93.58676111905714 best mae : 93.52215814578193\n"
     ]
    },
    {
     "name": "stderr",
     "output_type": "stream",
     "text": [
      "00:55:41 - cmdstanpy - INFO - Chain [1] start processing\n",
      "00:55:47 - cmdstanpy - INFO - Chain [1] done processing\n"
     ]
    },
    {
     "name": "stdout",
     "output_type": "stream",
     "text": [
      "cr, cps : 0.85, 0.7, mae : 94.25224632642438 best mae : 93.52215814578193\n"
     ]
    },
    {
     "name": "stderr",
     "output_type": "stream",
     "text": [
      "00:55:51 - cmdstanpy - INFO - Chain [1] start processing\n",
      "00:56:05 - cmdstanpy - INFO - Chain [1] done processing\n"
     ]
    },
    {
     "name": "stdout",
     "output_type": "stream",
     "text": [
      "cr, cps : 0.85, 0.75, mae : 93.64386573764801 best mae : 93.52215814578193\n"
     ]
    },
    {
     "name": "stderr",
     "output_type": "stream",
     "text": [
      "00:56:09 - cmdstanpy - INFO - Chain [1] start processing\n",
      "00:56:21 - cmdstanpy - INFO - Chain [1] done processing\n"
     ]
    },
    {
     "name": "stdout",
     "output_type": "stream",
     "text": [
      "cr, cps : 0.85, 0.8, mae : 93.63590043760405 best mae : 93.52215814578193\n"
     ]
    },
    {
     "name": "stderr",
     "output_type": "stream",
     "text": [
      "00:56:25 - cmdstanpy - INFO - Chain [1] start processing\n",
      "00:56:39 - cmdstanpy - INFO - Chain [1] done processing\n"
     ]
    },
    {
     "name": "stdout",
     "output_type": "stream",
     "text": [
      "cr, cps : 0.85, 0.85, mae : 94.26665946384219 best mae : 93.52215814578193\n"
     ]
    },
    {
     "name": "stderr",
     "output_type": "stream",
     "text": [
      "00:56:43 - cmdstanpy - INFO - Chain [1] start processing\n",
      "00:56:57 - cmdstanpy - INFO - Chain [1] done processing\n",
      " 89%|████████▉ | 8/9 [38:48<04:55, 295.90s/it]"
     ]
    },
    {
     "name": "stdout",
     "output_type": "stream",
     "text": [
      "cr, cps : 0.85, 0.9, mae : 93.64045839740487 best mae : 93.52215814578193\n"
     ]
    },
    {
     "name": "stderr",
     "output_type": "stream",
     "text": [
      "00:57:02 - cmdstanpy - INFO - Chain [1] start processing\n",
      "00:57:10 - cmdstanpy - INFO - Chain [1] done processing\n"
     ]
    },
    {
     "name": "stdout",
     "output_type": "stream",
     "text": [
      "cr, cps : 0.9, 0.05, mae : 93.49685019311478 best mae : 93.52215814578193\n"
     ]
    },
    {
     "name": "stderr",
     "output_type": "stream",
     "text": [
      "00:57:14 - cmdstanpy - INFO - Chain [1] start processing\n",
      "00:57:25 - cmdstanpy - INFO - Chain [1] done processing\n"
     ]
    },
    {
     "name": "stdout",
     "output_type": "stream",
     "text": [
      "cr, cps : 0.9, 0.1, mae : 93.97247707326287 best mae : 93.49685019311478\n"
     ]
    },
    {
     "name": "stderr",
     "output_type": "stream",
     "text": [
      "00:57:29 - cmdstanpy - INFO - Chain [1] start processing\n",
      "00:57:41 - cmdstanpy - INFO - Chain [1] done processing\n"
     ]
    },
    {
     "name": "stdout",
     "output_type": "stream",
     "text": [
      "cr, cps : 0.9, 0.15, mae : 94.7788643977997 best mae : 93.49685019311478\n"
     ]
    },
    {
     "name": "stderr",
     "output_type": "stream",
     "text": [
      "00:57:45 - cmdstanpy - INFO - Chain [1] start processing\n",
      "00:57:56 - cmdstanpy - INFO - Chain [1] done processing\n"
     ]
    },
    {
     "name": "stdout",
     "output_type": "stream",
     "text": [
      "cr, cps : 0.9, 0.2, mae : 95.28720111367869 best mae : 93.49685019311478\n"
     ]
    },
    {
     "name": "stderr",
     "output_type": "stream",
     "text": [
      "00:58:00 - cmdstanpy - INFO - Chain [1] start processing\n",
      "00:58:11 - cmdstanpy - INFO - Chain [1] done processing\n"
     ]
    },
    {
     "name": "stdout",
     "output_type": "stream",
     "text": [
      "cr, cps : 0.9, 0.25, mae : 94.94555875574463 best mae : 93.49685019311478\n"
     ]
    },
    {
     "name": "stderr",
     "output_type": "stream",
     "text": [
      "00:58:14 - cmdstanpy - INFO - Chain [1] start processing\n",
      "00:58:25 - cmdstanpy - INFO - Chain [1] done processing\n"
     ]
    },
    {
     "name": "stdout",
     "output_type": "stream",
     "text": [
      "cr, cps : 0.9, 0.3, mae : 96.03770254433603 best mae : 93.49685019311478\n"
     ]
    },
    {
     "name": "stderr",
     "output_type": "stream",
     "text": [
      "00:58:30 - cmdstanpy - INFO - Chain [1] start processing\n",
      "00:58:42 - cmdstanpy - INFO - Chain [1] done processing\n"
     ]
    },
    {
     "name": "stdout",
     "output_type": "stream",
     "text": [
      "cr, cps : 0.9, 0.35, mae : 95.23877909426055 best mae : 93.49685019311478\n"
     ]
    },
    {
     "name": "stderr",
     "output_type": "stream",
     "text": [
      "00:58:45 - cmdstanpy - INFO - Chain [1] start processing\n",
      "00:58:58 - cmdstanpy - INFO - Chain [1] done processing\n"
     ]
    },
    {
     "name": "stdout",
     "output_type": "stream",
     "text": [
      "cr, cps : 0.9, 0.4, mae : 95.9633200101738 best mae : 93.49685019311478\n"
     ]
    },
    {
     "name": "stderr",
     "output_type": "stream",
     "text": [
      "00:59:02 - cmdstanpy - INFO - Chain [1] start processing\n",
      "00:59:12 - cmdstanpy - INFO - Chain [1] done processing\n"
     ]
    },
    {
     "name": "stdout",
     "output_type": "stream",
     "text": [
      "cr, cps : 0.9, 0.45, mae : 97.59898170807004 best mae : 93.49685019311478\n"
     ]
    },
    {
     "name": "stderr",
     "output_type": "stream",
     "text": [
      "00:59:16 - cmdstanpy - INFO - Chain [1] start processing\n",
      "00:59:25 - cmdstanpy - INFO - Chain [1] done processing\n"
     ]
    },
    {
     "name": "stdout",
     "output_type": "stream",
     "text": [
      "cr, cps : 0.9, 0.5, mae : 95.77089385018665 best mae : 93.49685019311478\n"
     ]
    },
    {
     "name": "stderr",
     "output_type": "stream",
     "text": [
      "00:59:29 - cmdstanpy - INFO - Chain [1] start processing\n",
      "00:59:40 - cmdstanpy - INFO - Chain [1] done processing\n"
     ]
    },
    {
     "name": "stdout",
     "output_type": "stream",
     "text": [
      "cr, cps : 0.9, 0.55, mae : 94.90663364079249 best mae : 93.49685019311478\n"
     ]
    },
    {
     "name": "stderr",
     "output_type": "stream",
     "text": [
      "00:59:44 - cmdstanpy - INFO - Chain [1] start processing\n",
      "00:59:56 - cmdstanpy - INFO - Chain [1] done processing\n"
     ]
    },
    {
     "name": "stdout",
     "output_type": "stream",
     "text": [
      "cr, cps : 0.9, 0.6, mae : 96.14294952402932 best mae : 93.49685019311478\n"
     ]
    },
    {
     "name": "stderr",
     "output_type": "stream",
     "text": [
      "01:00:00 - cmdstanpy - INFO - Chain [1] start processing\n",
      "01:00:13 - cmdstanpy - INFO - Chain [1] done processing\n"
     ]
    },
    {
     "name": "stdout",
     "output_type": "stream",
     "text": [
      "cr, cps : 0.9, 0.65, mae : 95.66136364799692 best mae : 93.49685019311478\n"
     ]
    },
    {
     "name": "stderr",
     "output_type": "stream",
     "text": [
      "01:00:17 - cmdstanpy - INFO - Chain [1] start processing\n",
      "01:00:25 - cmdstanpy - INFO - Chain [1] done processing\n"
     ]
    },
    {
     "name": "stdout",
     "output_type": "stream",
     "text": [
      "cr, cps : 0.9, 0.7, mae : 95.88089043973957 best mae : 93.49685019311478\n"
     ]
    },
    {
     "name": "stderr",
     "output_type": "stream",
     "text": [
      "01:00:29 - cmdstanpy - INFO - Chain [1] start processing\n",
      "01:00:39 - cmdstanpy - INFO - Chain [1] done processing\n"
     ]
    },
    {
     "name": "stdout",
     "output_type": "stream",
     "text": [
      "cr, cps : 0.9, 0.75, mae : 95.01887804587646 best mae : 93.49685019311478\n"
     ]
    },
    {
     "name": "stderr",
     "output_type": "stream",
     "text": [
      "01:00:43 - cmdstanpy - INFO - Chain [1] start processing\n",
      "01:00:55 - cmdstanpy - INFO - Chain [1] done processing\n"
     ]
    },
    {
     "name": "stdout",
     "output_type": "stream",
     "text": [
      "cr, cps : 0.9, 0.8, mae : 95.6306746658034 best mae : 93.49685019311478\n"
     ]
    },
    {
     "name": "stderr",
     "output_type": "stream",
     "text": [
      "01:00:59 - cmdstanpy - INFO - Chain [1] start processing\n",
      "01:01:11 - cmdstanpy - INFO - Chain [1] done processing\n"
     ]
    },
    {
     "name": "stdout",
     "output_type": "stream",
     "text": [
      "cr, cps : 0.9, 0.85, mae : 95.1836719253459 best mae : 93.49685019311478\n"
     ]
    },
    {
     "name": "stderr",
     "output_type": "stream",
     "text": [
      "01:01:15 - cmdstanpy - INFO - Chain [1] start processing\n",
      "01:01:30 - cmdstanpy - INFO - Chain [1] done processing\n",
      "100%|██████████| 9/9 [43:21<00:00, 289.03s/it]"
     ]
    },
    {
     "name": "stdout",
     "output_type": "stream",
     "text": [
      "cr, cps : 0.9, 0.9, mae : 95.68948860268988 best mae : 93.49685019311478\n"
     ]
    },
    {
     "name": "stderr",
     "output_type": "stream",
     "text": [
      "\n"
     ]
    }
   ],
   "source": [
    "changepoint_range = np.arange(0.5, 0.95, 0.05)\n",
    "changepoint_prior_scale = np.arange(0.05, 0.95, 0.05)\n",
    "cnt, best_mae = 0, ' '\n",
    "\n",
    "for cr in tqdm(changepoint_range):\n",
    "    cr = round(cr, 2)\n",
    "    for cps in changepoint_prior_scale:\n",
    "        cps = round(cps, 2)\n",
    "        cnt += 1\n",
    "        \n",
    "        m= Prophet(seasonality_mode='multiplicative',\n",
    "          yearly_seasonality=True,\n",
    "          changepoint_range=cr,\n",
    "          changepoint_prior_scale=cps)\n",
    "        m.fit(data_tr_prophet)\n",
    "        future = pd.DataFrame({'ds':data_ts['datetime']})\n",
    "        forecast = m.predict(future)\n",
    "        \n",
    "        forecast['original'] = data_ts.적산차\n",
    "        forecast.rename(columns={'yhat':'predict'}, inplace=True)\n",
    "        forecast = forecast[['ds', 'original', 'predict']]\n",
    "\n",
    "        mae = mean_absolute_error(forecast['original'], forecast['predict'])\n",
    "        print('cr, cps : {}, {}, mae : {}'.format(cr, cps, mae), 'best mae :', best_mae)\n",
    "\n",
    "        if cnt == 1:\n",
    "            best_mae = mae\n",
    "        \n",
    "        if best_mae > mae:\n",
    "            best_mae, best_cr, best_cps = mae, cr, cps"
   ]
  },
  {
   "cell_type": "code",
   "execution_count": 174,
   "id": "085daf38",
   "metadata": {},
   "outputs": [
    {
     "name": "stdout",
     "output_type": "stream",
     "text": [
      "best_cr, best_cps, best_mae : 0.9, 0.05, 93.49685019311478\n"
     ]
    }
   ],
   "source": [
    "# best parameter\n",
    "print('best_cr, best_cps, best_mae : {}, {}, {}'.format(best_cr, best_cps, best_mae))"
   ]
  },
  {
   "cell_type": "code",
   "execution_count": 187,
   "id": "b55bcc94",
   "metadata": {},
   "outputs": [
    {
     "name": "stderr",
     "output_type": "stream",
     "text": [
      "02:07:39 - cmdstanpy - INFO - Chain [1] start processing\n",
      "02:07:47 - cmdstanpy - INFO - Chain [1] done processing\n"
     ]
    },
    {
     "data": {
      "text/plain": [
       "<prophet.forecaster.Prophet at 0x1cc8289b7f0>"
      ]
     },
     "execution_count": 187,
     "metadata": {},
     "output_type": "execute_result"
    }
   ],
   "source": [
    "# 모델 생성 및 모델 fitting\n",
    "m= Prophet(seasonality_mode='multiplicative',\n",
    "          yearly_seasonality=True,\n",
    "          changepoint_range=0.9,\n",
    "          changepoint_prior_scale=0.05)\n",
    "\n",
    "m.fit(data_tr_prophet)"
   ]
  },
  {
   "cell_type": "code",
   "execution_count": 190,
   "id": "8ae067af",
   "metadata": {},
   "outputs": [
    {
     "name": "stderr",
     "output_type": "stream",
     "text": [
      "100%|██████████| 8425/8425 [37:18<00:00,  3.76it/s]\n"
     ]
    },
    {
     "data": {
      "text/html": [
       "<div>\n",
       "<style scoped>\n",
       "    .dataframe tbody tr th:only-of-type {\n",
       "        vertical-align: middle;\n",
       "    }\n",
       "\n",
       "    .dataframe tbody tr th {\n",
       "        vertical-align: top;\n",
       "    }\n",
       "\n",
       "    .dataframe thead th {\n",
       "        text-align: right;\n",
       "    }\n",
       "</style>\n",
       "<table border=\"1\" class=\"dataframe\">\n",
       "  <thead>\n",
       "    <tr style=\"text-align: right;\">\n",
       "      <th></th>\n",
       "      <th>datetime</th>\n",
       "      <th>h0</th>\n",
       "      <th>h1</th>\n",
       "      <th>h2</th>\n",
       "      <th>h3</th>\n",
       "      <th>h4</th>\n",
       "      <th>h5</th>\n",
       "      <th>h6</th>\n",
       "      <th>h7</th>\n",
       "      <th>h8</th>\n",
       "      <th>...</th>\n",
       "      <th>h326</th>\n",
       "      <th>h327</th>\n",
       "      <th>h328</th>\n",
       "      <th>h329</th>\n",
       "      <th>h330</th>\n",
       "      <th>h331</th>\n",
       "      <th>h332</th>\n",
       "      <th>h333</th>\n",
       "      <th>h334</th>\n",
       "      <th>h335</th>\n",
       "    </tr>\n",
       "  </thead>\n",
       "  <tbody>\n",
       "    <tr>\n",
       "      <th>0</th>\n",
       "      <td>2021-01-01 00:00:00</td>\n",
       "      <td>284.916864</td>\n",
       "      <td>210.132072</td>\n",
       "      <td>145.259905</td>\n",
       "      <td>91.335343</td>\n",
       "      <td>51.834198</td>\n",
       "      <td>40.340779</td>\n",
       "      <td>72.092291</td>\n",
       "      <td>146.660984</td>\n",
       "      <td>240.088359</td>\n",
       "      <td>...</td>\n",
       "      <td>315.379313</td>\n",
       "      <td>300.403962</td>\n",
       "      <td>276.216770</td>\n",
       "      <td>256.368182</td>\n",
       "      <td>262.377816</td>\n",
       "      <td>302.686842</td>\n",
       "      <td>360.064089</td>\n",
       "      <td>400.724560</td>\n",
       "      <td>398.062321</td>\n",
       "      <td>350.275901</td>\n",
       "    </tr>\n",
       "    <tr>\n",
       "      <th>1</th>\n",
       "      <td>2021-01-01 01:00:00</td>\n",
       "      <td>210.132072</td>\n",
       "      <td>145.259905</td>\n",
       "      <td>91.335343</td>\n",
       "      <td>51.834198</td>\n",
       "      <td>40.340779</td>\n",
       "      <td>72.092291</td>\n",
       "      <td>146.660984</td>\n",
       "      <td>240.088359</td>\n",
       "      <td>317.006910</td>\n",
       "      <td>...</td>\n",
       "      <td>300.403962</td>\n",
       "      <td>276.216770</td>\n",
       "      <td>256.368182</td>\n",
       "      <td>262.377816</td>\n",
       "      <td>302.686842</td>\n",
       "      <td>360.064089</td>\n",
       "      <td>400.724560</td>\n",
       "      <td>398.062321</td>\n",
       "      <td>350.275901</td>\n",
       "      <td>277.395266</td>\n",
       "    </tr>\n",
       "    <tr>\n",
       "      <th>2</th>\n",
       "      <td>2021-01-01 02:00:00</td>\n",
       "      <td>145.259905</td>\n",
       "      <td>91.335343</td>\n",
       "      <td>51.834198</td>\n",
       "      <td>40.340779</td>\n",
       "      <td>72.092291</td>\n",
       "      <td>146.660984</td>\n",
       "      <td>240.088359</td>\n",
       "      <td>317.006910</td>\n",
       "      <td>353.951303</td>\n",
       "      <td>...</td>\n",
       "      <td>276.216770</td>\n",
       "      <td>256.368182</td>\n",
       "      <td>262.377816</td>\n",
       "      <td>302.686842</td>\n",
       "      <td>360.064089</td>\n",
       "      <td>400.724560</td>\n",
       "      <td>398.062321</td>\n",
       "      <td>350.275901</td>\n",
       "      <td>277.395266</td>\n",
       "      <td>202.831389</td>\n",
       "    </tr>\n",
       "    <tr>\n",
       "      <th>3</th>\n",
       "      <td>2021-01-01 03:00:00</td>\n",
       "      <td>91.335343</td>\n",
       "      <td>51.834198</td>\n",
       "      <td>40.340779</td>\n",
       "      <td>72.092291</td>\n",
       "      <td>146.660984</td>\n",
       "      <td>240.088359</td>\n",
       "      <td>317.006910</td>\n",
       "      <td>353.951303</td>\n",
       "      <td>353.458601</td>\n",
       "      <td>...</td>\n",
       "      <td>256.368182</td>\n",
       "      <td>262.377816</td>\n",
       "      <td>302.686842</td>\n",
       "      <td>360.064089</td>\n",
       "      <td>400.724560</td>\n",
       "      <td>398.062321</td>\n",
       "      <td>350.275901</td>\n",
       "      <td>277.395266</td>\n",
       "      <td>202.831389</td>\n",
       "      <td>138.152600</td>\n",
       "    </tr>\n",
       "    <tr>\n",
       "      <th>4</th>\n",
       "      <td>2021-01-01 04:00:00</td>\n",
       "      <td>51.834198</td>\n",
       "      <td>40.340779</td>\n",
       "      <td>72.092291</td>\n",
       "      <td>146.660984</td>\n",
       "      <td>240.088359</td>\n",
       "      <td>317.006910</td>\n",
       "      <td>353.951303</td>\n",
       "      <td>353.458601</td>\n",
       "      <td>336.635786</td>\n",
       "      <td>...</td>\n",
       "      <td>262.377816</td>\n",
       "      <td>302.686842</td>\n",
       "      <td>360.064089</td>\n",
       "      <td>400.724560</td>\n",
       "      <td>398.062321</td>\n",
       "      <td>350.275901</td>\n",
       "      <td>277.395266</td>\n",
       "      <td>202.831389</td>\n",
       "      <td>138.152600</td>\n",
       "      <td>84.390984</td>\n",
       "    </tr>\n",
       "    <tr>\n",
       "      <th>...</th>\n",
       "      <td>...</td>\n",
       "      <td>...</td>\n",
       "      <td>...</td>\n",
       "      <td>...</td>\n",
       "      <td>...</td>\n",
       "      <td>...</td>\n",
       "      <td>...</td>\n",
       "      <td>...</td>\n",
       "      <td>...</td>\n",
       "      <td>...</td>\n",
       "      <td>...</td>\n",
       "      <td>...</td>\n",
       "      <td>...</td>\n",
       "      <td>...</td>\n",
       "      <td>...</td>\n",
       "      <td>...</td>\n",
       "      <td>...</td>\n",
       "      <td>...</td>\n",
       "      <td>...</td>\n",
       "      <td>...</td>\n",
       "      <td>...</td>\n",
       "    </tr>\n",
       "    <tr>\n",
       "      <th>8420</th>\n",
       "      <td>2021-12-17 20:00:00</td>\n",
       "      <td>325.696796</td>\n",
       "      <td>362.262564</td>\n",
       "      <td>358.460771</td>\n",
       "      <td>312.624139</td>\n",
       "      <td>243.443686</td>\n",
       "      <td>172.763158</td>\n",
       "      <td>111.382544</td>\n",
       "      <td>60.276228</td>\n",
       "      <td>22.687865</td>\n",
       "      <td>...</td>\n",
       "      <td>328.789795</td>\n",
       "      <td>328.334485</td>\n",
       "      <td>312.736088</td>\n",
       "      <td>299.228089</td>\n",
       "      <td>289.403951</td>\n",
       "      <td>274.167037</td>\n",
       "      <td>250.329861</td>\n",
       "      <td>230.500376</td>\n",
       "      <td>234.696309</td>\n",
       "      <td>270.776667</td>\n",
       "    </tr>\n",
       "    <tr>\n",
       "      <th>8421</th>\n",
       "      <td>2021-12-17 21:00:00</td>\n",
       "      <td>362.262564</td>\n",
       "      <td>358.460771</td>\n",
       "      <td>312.624139</td>\n",
       "      <td>243.443686</td>\n",
       "      <td>172.763158</td>\n",
       "      <td>111.382544</td>\n",
       "      <td>60.276228</td>\n",
       "      <td>22.687865</td>\n",
       "      <td>11.260500</td>\n",
       "      <td>...</td>\n",
       "      <td>328.334485</td>\n",
       "      <td>312.736088</td>\n",
       "      <td>299.228089</td>\n",
       "      <td>289.403951</td>\n",
       "      <td>274.167037</td>\n",
       "      <td>250.329861</td>\n",
       "      <td>230.500376</td>\n",
       "      <td>234.696309</td>\n",
       "      <td>270.776667</td>\n",
       "      <td>322.732893</td>\n",
       "    </tr>\n",
       "    <tr>\n",
       "      <th>8422</th>\n",
       "      <td>2021-12-17 22:00:00</td>\n",
       "      <td>358.460771</td>\n",
       "      <td>312.624139</td>\n",
       "      <td>243.443686</td>\n",
       "      <td>172.763158</td>\n",
       "      <td>111.382544</td>\n",
       "      <td>60.276228</td>\n",
       "      <td>22.687865</td>\n",
       "      <td>11.260500</td>\n",
       "      <td>40.173463</td>\n",
       "      <td>...</td>\n",
       "      <td>312.736088</td>\n",
       "      <td>299.228089</td>\n",
       "      <td>289.403951</td>\n",
       "      <td>274.167037</td>\n",
       "      <td>250.329861</td>\n",
       "      <td>230.500376</td>\n",
       "      <td>234.696309</td>\n",
       "      <td>270.776667</td>\n",
       "      <td>322.732893</td>\n",
       "      <td>359.166487</td>\n",
       "    </tr>\n",
       "    <tr>\n",
       "      <th>8423</th>\n",
       "      <td>2021-12-17 23:00:00</td>\n",
       "      <td>312.624139</td>\n",
       "      <td>243.443686</td>\n",
       "      <td>172.763158</td>\n",
       "      <td>111.382544</td>\n",
       "      <td>60.276228</td>\n",
       "      <td>22.687865</td>\n",
       "      <td>11.260500</td>\n",
       "      <td>40.173463</td>\n",
       "      <td>109.038226</td>\n",
       "      <td>...</td>\n",
       "      <td>299.228089</td>\n",
       "      <td>289.403951</td>\n",
       "      <td>274.167037</td>\n",
       "      <td>250.329861</td>\n",
       "      <td>230.500376</td>\n",
       "      <td>234.696309</td>\n",
       "      <td>270.776667</td>\n",
       "      <td>322.732893</td>\n",
       "      <td>359.166487</td>\n",
       "      <td>355.353821</td>\n",
       "    </tr>\n",
       "    <tr>\n",
       "      <th>8424</th>\n",
       "      <td>2021-12-18 00:00:00</td>\n",
       "      <td>243.443686</td>\n",
       "      <td>172.763158</td>\n",
       "      <td>111.382544</td>\n",
       "      <td>60.276228</td>\n",
       "      <td>22.687865</td>\n",
       "      <td>11.260500</td>\n",
       "      <td>40.173463</td>\n",
       "      <td>109.038226</td>\n",
       "      <td>195.583875</td>\n",
       "      <td>...</td>\n",
       "      <td>289.403951</td>\n",
       "      <td>274.167037</td>\n",
       "      <td>250.329861</td>\n",
       "      <td>230.500376</td>\n",
       "      <td>234.696309</td>\n",
       "      <td>270.776667</td>\n",
       "      <td>322.732893</td>\n",
       "      <td>359.166487</td>\n",
       "      <td>355.353821</td>\n",
       "      <td>309.632632</td>\n",
       "    </tr>\n",
       "  </tbody>\n",
       "</table>\n",
       "<p>8425 rows × 337 columns</p>\n",
       "</div>"
      ],
      "text/plain": [
       "                 datetime          h0          h1          h2          h3  \\\n",
       "0     2021-01-01 00:00:00  284.916864  210.132072  145.259905   91.335343   \n",
       "1     2021-01-01 01:00:00  210.132072  145.259905   91.335343   51.834198   \n",
       "2     2021-01-01 02:00:00  145.259905   91.335343   51.834198   40.340779   \n",
       "3     2021-01-01 03:00:00   91.335343   51.834198   40.340779   72.092291   \n",
       "4     2021-01-01 04:00:00   51.834198   40.340779   72.092291  146.660984   \n",
       "...                   ...         ...         ...         ...         ...   \n",
       "8420  2021-12-17 20:00:00  325.696796  362.262564  358.460771  312.624139   \n",
       "8421  2021-12-17 21:00:00  362.262564  358.460771  312.624139  243.443686   \n",
       "8422  2021-12-17 22:00:00  358.460771  312.624139  243.443686  172.763158   \n",
       "8423  2021-12-17 23:00:00  312.624139  243.443686  172.763158  111.382544   \n",
       "8424  2021-12-18 00:00:00  243.443686  172.763158  111.382544   60.276228   \n",
       "\n",
       "              h4          h5          h6          h7          h8  ...  \\\n",
       "0      51.834198   40.340779   72.092291  146.660984  240.088359  ...   \n",
       "1      40.340779   72.092291  146.660984  240.088359  317.006910  ...   \n",
       "2      72.092291  146.660984  240.088359  317.006910  353.951303  ...   \n",
       "3     146.660984  240.088359  317.006910  353.951303  353.458601  ...   \n",
       "4     240.088359  317.006910  353.951303  353.458601  336.635786  ...   \n",
       "...          ...         ...         ...         ...         ...  ...   \n",
       "8420  243.443686  172.763158  111.382544   60.276228   22.687865  ...   \n",
       "8421  172.763158  111.382544   60.276228   22.687865   11.260500  ...   \n",
       "8422  111.382544   60.276228   22.687865   11.260500   40.173463  ...   \n",
       "8423   60.276228   22.687865   11.260500   40.173463  109.038226  ...   \n",
       "8424   22.687865   11.260500   40.173463  109.038226  195.583875  ...   \n",
       "\n",
       "            h326        h327        h328        h329        h330        h331  \\\n",
       "0     315.379313  300.403962  276.216770  256.368182  262.377816  302.686842   \n",
       "1     300.403962  276.216770  256.368182  262.377816  302.686842  360.064089   \n",
       "2     276.216770  256.368182  262.377816  302.686842  360.064089  400.724560   \n",
       "3     256.368182  262.377816  302.686842  360.064089  400.724560  398.062321   \n",
       "4     262.377816  302.686842  360.064089  400.724560  398.062321  350.275901   \n",
       "...          ...         ...         ...         ...         ...         ...   \n",
       "8420  328.789795  328.334485  312.736088  299.228089  289.403951  274.167037   \n",
       "8421  328.334485  312.736088  299.228089  289.403951  274.167037  250.329861   \n",
       "8422  312.736088  299.228089  289.403951  274.167037  250.329861  230.500376   \n",
       "8423  299.228089  289.403951  274.167037  250.329861  230.500376  234.696309   \n",
       "8424  289.403951  274.167037  250.329861  230.500376  234.696309  270.776667   \n",
       "\n",
       "            h332        h333        h334        h335  \n",
       "0     360.064089  400.724560  398.062321  350.275901  \n",
       "1     400.724560  398.062321  350.275901  277.395266  \n",
       "2     398.062321  350.275901  277.395266  202.831389  \n",
       "3     350.275901  277.395266  202.831389  138.152600  \n",
       "4     277.395266  202.831389  138.152600   84.390984  \n",
       "...          ...         ...         ...         ...  \n",
       "8420  250.329861  230.500376  234.696309  270.776667  \n",
       "8421  230.500376  234.696309  270.776667  322.732893  \n",
       "8422  234.696309  270.776667  322.732893  359.166487  \n",
       "8423  270.776667  322.732893  359.166487  355.353821  \n",
       "8424  322.732893  359.166487  355.353821  309.632632  \n",
       "\n",
       "[8425 rows x 337 columns]"
      ]
     },
     "execution_count": 190,
     "metadata": {},
     "output_type": "execute_result"
    }
   ],
   "source": [
    "for i, start in enumerate(tqdm(data_sample.datetime)):\n",
    "    start = pd.to_datetime(start)\n",
    "    ds = pd.date_range(start, start + datetime.timedelta(hours=335), freq='H')\n",
    "        \n",
    "    future = pd.DataFrame({'ds':ds})\n",
    "    forecast = m.predict(future)\n",
    "    data_sample.loc[i] = [start] + list(forecast['yhat'])\n",
    "\n",
    "data_sample"
   ]
  },
  {
   "cell_type": "code",
   "execution_count": 191,
   "id": "4bfa6274",
   "metadata": {},
   "outputs": [],
   "source": [
    "data_sample.to_csv('./data_city/submission_prophet.csv', index=False)"
   ]
  }
 ],
 "metadata": {
  "kernelspec": {
   "display_name": "Python 3 (ipykernel)",
   "language": "python",
   "name": "python3"
  },
  "language_info": {
   "codemirror_mode": {
    "name": "ipython",
    "version": 3
   },
   "file_extension": ".py",
   "mimetype": "text/x-python",
   "name": "python",
   "nbconvert_exporter": "python",
   "pygments_lexer": "ipython3",
   "version": "3.9.12"
  }
 },
 "nbformat": 4,
 "nbformat_minor": 5
}
